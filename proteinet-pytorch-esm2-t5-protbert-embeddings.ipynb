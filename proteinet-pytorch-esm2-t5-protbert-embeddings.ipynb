{
 "cells": [
  {
   "cell_type": "markdown",
   "id": "7a7c26a3",
   "metadata": {
    "papermill": {
     "duration": 0.018031,
     "end_time": "2023-07-21T08:56:02.276320",
     "exception": false,
     "start_time": "2023-07-21T08:56:02.258289",
     "status": "completed"
    },
    "tags": []
   },
   "source": [
    "# CAFA 5 Competition : Protein Function Prediction"
   ]
  },
  {
   "cell_type": "markdown",
   "id": "e6434e9d",
   "metadata": {
    "papermill": {
     "duration": 0.015335,
     "end_time": "2023-07-21T08:56:02.307584",
     "exception": false,
     "start_time": "2023-07-21T08:56:02.292249",
     "status": "completed"
    },
    "tags": []
   },
   "source": [
    "# TODO\n",
    "- probar en Multi poner la length de la secuencia y su representcion num de la especie (no hacer onehot)\n",
    "- incluir la validacion que usan en una discusion para esta competi\n",
    "- pooling metodos https://www.kaggle.com/code/daehunbae/esm-2-3b-embeddings-with-three-pooling-methods/notebook"
   ]
  },
  {
   "cell_type": "code",
   "execution_count": 1,
   "id": "42fd5b2b",
   "metadata": {
    "execution": {
     "iopub.execute_input": "2023-07-21T08:56:02.340739Z",
     "iopub.status.busy": "2023-07-21T08:56:02.340246Z",
     "iopub.status.idle": "2023-07-21T08:56:02.659917Z",
     "shell.execute_reply": "2023-07-21T08:56:02.658915Z"
    },
    "papermill": {
     "duration": 0.339586,
     "end_time": "2023-07-21T08:56:02.662650",
     "exception": false,
     "start_time": "2023-07-21T08:56:02.323064",
     "status": "completed"
    },
    "tags": []
   },
   "outputs": [
    {
     "data": {
      "text/html": [
       "<div>\n",
       "<style scoped>\n",
       "    .dataframe tbody tr th:only-of-type {\n",
       "        vertical-align: middle;\n",
       "    }\n",
       "\n",
       "    .dataframe tbody tr th {\n",
       "        vertical-align: top;\n",
       "    }\n",
       "\n",
       "    .dataframe thead th {\n",
       "        text-align: right;\n",
       "    }\n",
       "</style>\n",
       "<table border=\"1\" class=\"dataframe\">\n",
       "  <thead>\n",
       "    <tr style=\"text-align: right;\">\n",
       "      <th></th>\n",
       "      <th>The Protein ID</th>\n",
       "      <th>The Gene Ontology term (GO) ID</th>\n",
       "      <th>Predicted link probability that GO appear in Protein</th>\n",
       "    </tr>\n",
       "  </thead>\n",
       "  <tbody>\n",
       "    <tr>\n",
       "      <th>0</th>\n",
       "      <td>A0A0A0MRZ7</td>\n",
       "      <td>GO:0000001</td>\n",
       "      <td>0.123</td>\n",
       "    </tr>\n",
       "    <tr>\n",
       "      <th>1</th>\n",
       "      <td>A0A0A0MRZ7</td>\n",
       "      <td>GO:0000002</td>\n",
       "      <td>0.123</td>\n",
       "    </tr>\n",
       "    <tr>\n",
       "      <th>2</th>\n",
       "      <td>A0A0A0MRZ8</td>\n",
       "      <td>GO:0000001</td>\n",
       "      <td>0.123</td>\n",
       "    </tr>\n",
       "    <tr>\n",
       "      <th>3</th>\n",
       "      <td>A0A0A0MRZ8</td>\n",
       "      <td>GO:0000002</td>\n",
       "      <td>0.123</td>\n",
       "    </tr>\n",
       "    <tr>\n",
       "      <th>4</th>\n",
       "      <td>A0A0A0MRZ9</td>\n",
       "      <td>GO:0000001</td>\n",
       "      <td>0.123</td>\n",
       "    </tr>\n",
       "  </tbody>\n",
       "</table>\n",
       "</div>"
      ],
      "text/plain": [
       "  The Protein ID The Gene Ontology term (GO) ID  \\\n",
       "0     A0A0A0MRZ7                     GO:0000001   \n",
       "1     A0A0A0MRZ7                     GO:0000002   \n",
       "2     A0A0A0MRZ8                     GO:0000001   \n",
       "3     A0A0A0MRZ8                     GO:0000002   \n",
       "4     A0A0A0MRZ9                     GO:0000001   \n",
       "\n",
       "   Predicted link probability that GO appear in Protein  \n",
       "0                                              0.123     \n",
       "1                                              0.123     \n",
       "2                                              0.123     \n",
       "3                                              0.123     \n",
       "4                                              0.123     "
      ]
     },
     "execution_count": 1,
     "metadata": {},
     "output_type": "execute_result"
    }
   ],
   "source": [
    "import pandas as pd\n",
    "sub = pd.read_csv(\"/kaggle/input/cafa-5-protein-function-prediction/sample_submission.tsv\", sep= \"\\t\", header = None)\n",
    "sub.columns = [\"The Protein ID\", \"The Gene Ontology term (GO) ID\", \"Predicted link probability that GO appear in Protein\"]\n",
    "sub.head(5)"
   ]
  },
  {
   "cell_type": "markdown",
   "id": "32a0554f",
   "metadata": {
    "papermill": {
     "duration": 0.015541,
     "end_time": "2023-07-21T08:56:02.694471",
     "exception": false,
     "start_time": "2023-07-21T08:56:02.678930",
     "status": "completed"
    },
    "tags": []
   },
   "source": [
    "The evaluation metric used in this competition is the weighted F-measure, which combines precision and recall, taking into account the hierarchical structure of the Gene Ontology (GO). The formula for calculating the weighted F-measure is as follows:\n",
    "\n",
    "$Weighted \\ F-measure = \\frac{(1 + β^2) * (weighted \\ precision * weighted recall)}{((β^2 * weighted \\ precision) + weighted \\ recall)}$\n",
    "\n",
    "where:\n",
    "- β is a parameter that controls the trade-off between precision and recall. In this competition, β is set to 1, resulting in an equal weighting of precision and recall.\n",
    "- Weighted precision is the precision score, considering the weights of the predicted terms. It is calculated as the sum of the products of the predicted term's weight and its true positive count, divided by the sum of the weights of all predicted terms.\n",
    "- Weighted recall is the recall score, considering the weights of the true positive terms. It is calculated as the sum of the products of the true positive term's weight and its count, divided by the sum of the weights of all true positive terms.\n",
    "\n",
    "Note: The specific formulas for weighted precision and weighted recall are provided in the competition materials and utilize additional information such as term weights and true positive counts."
   ]
  },
  {
   "cell_type": "markdown",
   "id": "999959f6",
   "metadata": {
    "papermill": {
     "duration": 0.015953,
     "end_time": "2023-07-21T08:56:02.726679",
     "exception": false,
     "start_time": "2023-07-21T08:56:02.710726",
     "status": "completed"
    },
    "tags": []
   },
   "source": [
    "# General Baseline in this Notebook"
   ]
  },
  {
   "cell_type": "markdown",
   "id": "81986bdd",
   "metadata": {
    "papermill": {
     "duration": 0.015966,
     "end_time": "2023-07-21T08:56:02.758913",
     "exception": false,
     "start_time": "2023-07-21T08:56:02.742947",
     "status": "completed"
    },
    "tags": []
   },
   "source": [
    "- **1 - Collect Embedding vectors from pre-trained protein function prediction models (T5, ProtBERT or EMS2) :**\n",
    "\n",
    "Sources for embeddings vectors : \n",
    "- *T5* : https://www.kaggle.com/datasets/sergeifironov/t5embeds\n",
    "\n",
    "- *ProtBERT* : https://www.kaggle.com/datasets/henriupton/protbert-embeddings-for-cafa5\n",
    "\n",
    "- *EMS2* : https://www.kaggle.com/datasets/viktorfairuschin/cafa-5-ems-2-embeddings-numpy\n",
    "\n",
    "- **2 - Generate labels from train_terms file** : by considering the top K most common GO terms in all Proteins set, generate for each protein a sparse vector of length K to indicate the true probabilities that each of the K GO terms are in the Protein (0 or 1). Here we retain K = 600\n",
    "\n",
    "- **3 - Create Pytorch Dataset class that can handle Protein ID and embeddings**.\n",
    "\n",
    "- **4 - Create Pytorch Model class for prediction** : can be any architecture of Multilabel classification model that can turn embeddings of shape (E,) to probabilities of shape (K,). Here we explore **MultiLayerPerceptron** and **ConvNN1d** Networks.\n",
    "\n",
    "- **5 - Make Cross Validation w.r.t the F-1 measure and do Hyperparameter tuning thanks to Weights and Biases package (Wandb)**"
   ]
  },
  {
   "cell_type": "markdown",
   "id": "58b0940f",
   "metadata": {
    "papermill": {
     "duration": 0.015522,
     "end_time": "2023-07-21T08:56:02.790269",
     "exception": false,
     "start_time": "2023-07-21T08:56:02.774747",
     "status": "completed"
    },
    "tags": []
   },
   "source": [
    "![baseline-image](https://www.researchgate.net/publication/334642149/figure/fig1/AS:783995214249986@1563930433525/Flow-chart-of-STRING2GO-based-protein-function-prediction-method.png)\n",
    "\n",
    "## **Flow-chart of STRING2GO-based protein function prediction method**"
   ]
  },
  {
   "cell_type": "markdown",
   "id": "f0b027d3",
   "metadata": {
    "papermill": {
     "duration": 0.015438,
     "end_time": "2023-07-21T08:56:02.821593",
     "exception": false,
     "start_time": "2023-07-21T08:56:02.806155",
     "status": "completed"
    },
    "tags": []
   },
   "source": [
    "# 1. Imports / Config"
   ]
  },
  {
   "cell_type": "code",
   "execution_count": 2,
   "id": "3f55f08a",
   "metadata": {
    "_cell_guid": "b1076dfc-b9ad-4769-8c92-a6c4dae69d19",
    "_uuid": "8f2839f25d086af736a60e9eeb907d3b93b6e0e5",
    "execution": {
     "iopub.execute_input": "2023-07-21T08:56:02.855064Z",
     "iopub.status.busy": "2023-07-21T08:56:02.854665Z",
     "iopub.status.idle": "2023-07-21T08:56:19.208278Z",
     "shell.execute_reply": "2023-07-21T08:56:19.207107Z"
    },
    "papermill": {
     "duration": 16.373563,
     "end_time": "2023-07-21T08:56:19.210979",
     "exception": false,
     "start_time": "2023-07-21T08:56:02.837416",
     "status": "completed"
    },
    "tags": []
   },
   "outputs": [
    {
     "name": "stderr",
     "output_type": "stream",
     "text": [
      "/opt/conda/lib/python3.10/site-packages/scipy/__init__.py:146: UserWarning: A NumPy version >=1.16.5 and <1.23.0 is required for this version of SciPy (detected version 1.23.5\n",
      "  warnings.warn(f\"A NumPy version >={np_minversion} and <{np_maxversion}\"\n"
     ]
    },
    {
     "name": "stdout",
     "output_type": "stream",
     "text": [
      "/kaggle/input/cafa5-labels-2500/train_targets_top3000.npy\n",
      "/kaggle/input/cafa5-labels-2500/train_targets.pkl\n",
      "/kaggle/input/cafa-5-ems-2-embeddings-numpy/train_ids.npy\n",
      "/kaggle/input/cafa-5-ems-2-embeddings-numpy/train_embeddings.npy\n",
      "/kaggle/input/cafa-5-ems-2-embeddings-numpy/test_ids.npy\n",
      "/kaggle/input/cafa-5-ems-2-embeddings-numpy/test_embeddings.npy\n",
      "/kaggle/input/protbert-embeddings-for-cafa5/train_ids.npy\n",
      "/kaggle/input/protbert-embeddings-for-cafa5/train_embeddings.npy\n",
      "/kaggle/input/protbert-embeddings-for-cafa5/test_ids.npy\n",
      "/kaggle/input/protbert-embeddings-for-cafa5/test_embeddings.npy\n",
      "/kaggle/input/t5embeds/train_ids.npy\n",
      "/kaggle/input/t5embeds/test_embeds.npy\n",
      "/kaggle/input/t5embeds/train_embeds.npy\n",
      "/kaggle/input/t5embeds/test_ids.npy\n",
      "/kaggle/input/4637427/test_ids_esm2_t36_3B_UR50D.npy\n",
      "/kaggle/input/4637427/train_ids_esm2_t36_3B_UR50D.npy\n",
      "/kaggle/input/4637427/test_embeds_esm2_t36_3B_UR50D.npy\n",
      "/kaggle/input/4637427/train_embeds_esm2_t36_3B_UR50D.npy\n",
      "/kaggle/input/cafa5-pytorch-labels/train_targets.pkl\n",
      "/kaggle/input/cafa5-pytorch-labels/train_targets_top1499.npy\n",
      "/kaggle/input/cafa-5-protein-function-prediction/sample_submission.tsv\n",
      "/kaggle/input/cafa-5-protein-function-prediction/IA.txt\n",
      "/kaggle/input/cafa-5-protein-function-prediction/Test (Targets)/testsuperset.fasta\n",
      "/kaggle/input/cafa-5-protein-function-prediction/Test (Targets)/testsuperset-taxon-list.tsv\n",
      "/kaggle/input/cafa-5-protein-function-prediction/Train/train_terms.tsv\n",
      "/kaggle/input/cafa-5-protein-function-prediction/Train/train_sequences.fasta\n",
      "/kaggle/input/cafa-5-protein-function-prediction/Train/train_taxonomy.tsv\n",
      "/kaggle/input/cafa-5-protein-function-prediction/Train/go-basic.obo\n"
     ]
    }
   ],
   "source": [
    "MAIN_DIR = \"/kaggle/input/cafa-5-protein-function-prediction\"\n",
    "seed = 54\n",
    "\n",
    "# UTILITARIES\n",
    "import numpy as np\n",
    "from tqdm import tqdm\n",
    "import time\n",
    "import matplotlib.pyplot as plt\n",
    "plt.style.use('ggplot')\n",
    "import gc\n",
    "import multiprocessing as mp\n",
    "import copy\n",
    "import logging\n",
    "from joblib import dump\n",
    "import pickle\n",
    "\n",
    "\n",
    "# TORCH MODULES FOR METRICS COMPUTATION :\n",
    "import torch\n",
    "from torch.utils.data import Dataset\n",
    "from torch import nn\n",
    "from torch.utils.data import random_split\n",
    "from torch.optim.lr_scheduler import ReduceLROnPlateau\n",
    "from torchmetrics.classification import MultilabelF1Score\n",
    "from torchmetrics.classification import MultilabelAccuracy\n",
    "from torch.utils.data import Subset\n",
    "from sklearn.preprocessing import OneHotEncoder\n",
    "from sklearn.decomposition import PCA\n",
    "from sklearn.model_selection import train_test_split\n",
    "\n",
    "import random\n",
    "# random.seed(seed)\n",
    "# np.random.seed(seed)\n",
    "# torch.manual_seed(seed)\n",
    "\n",
    "import pytorch_lightning as pl\n",
    "from pytorch_lightning import Trainer\n",
    "from pytorch_lightning.loggers import WandbLogger\n",
    "\n",
    "# WANDB FOR LIGHTNING :\n",
    "import wandb\n",
    "\n",
    "# FILES VISUALIZATION\n",
    "import os\n",
    "for dirname, _, filenames in os.walk('/kaggle/input'):\n",
    "    for filename in filenames:\n",
    "        print(os.path.join(dirname, filename))"
   ]
  },
  {
   "cell_type": "code",
   "execution_count": 3,
   "id": "eda25d41",
   "metadata": {
    "execution": {
     "iopub.execute_input": "2023-07-21T08:56:19.245805Z",
     "iopub.status.busy": "2023-07-21T08:56:19.245070Z",
     "iopub.status.idle": "2023-07-21T08:56:19.252254Z",
     "shell.execute_reply": "2023-07-21T08:56:19.251421Z"
    },
    "papermill": {
     "duration": 0.027164,
     "end_time": "2023-07-21T08:56:19.254588",
     "exception": false,
     "start_time": "2023-07-21T08:56:19.227424",
     "status": "completed"
    },
    "tags": []
   },
   "outputs": [],
   "source": [
    "class config:\n",
    "    train_sequences_path = MAIN_DIR  + \"/Train/train_sequences.fasta\"\n",
    "    train_labels_path = MAIN_DIR + \"/Train/train_terms.tsv\"\n",
    "    test_sequences_path = MAIN_DIR + \"/Test (Targets)/testsuperset.fasta\"\n",
    "    \n",
    "    num_labels = 3000 # 1499\n",
    "    n_epochs = 15\n",
    "    batch_size = 128 # 128\n",
    "    lr = 0.001 # 0.001\n",
    "    model_type = 'linear' # convolutional, lstm, multi, attention, linear\n",
    "    apply_PCA = True\n",
    "    PCA_components = 1500\n",
    "    pca = PCA(n_components=PCA_components)\n",
    "    embedding_a_usar = \"EMS2_t36\" #EMS2_t36\n",
    "    set_seed = True # para comparar modelos con una seed fija en el train_split\n",
    "    \n",
    "    device = torch.device('cuda' if torch.cuda.is_available() else 'cpu')"
   ]
  },
  {
   "cell_type": "code",
   "execution_count": 4,
   "id": "fd06181c",
   "metadata": {
    "execution": {
     "iopub.execute_input": "2023-07-21T08:56:19.289045Z",
     "iopub.status.busy": "2023-07-21T08:56:19.288091Z",
     "iopub.status.idle": "2023-07-21T08:56:19.293119Z",
     "shell.execute_reply": "2023-07-21T08:56:19.292155Z"
    },
    "papermill": {
     "duration": 0.025474,
     "end_time": "2023-07-21T08:56:19.296312",
     "exception": false,
     "start_time": "2023-07-21T08:56:19.270838",
     "status": "completed"
    },
    "tags": []
   },
   "outputs": [
    {
     "name": "stdout",
     "output_type": "stream",
     "text": [
      "cpu\n"
     ]
    }
   ],
   "source": [
    "print(config.device)"
   ]
  },
  {
   "cell_type": "markdown",
   "id": "52796eef",
   "metadata": {
    "papermill": {
     "duration": 0.015861,
     "end_time": "2023-07-21T08:56:19.328498",
     "exception": false,
     "start_time": "2023-07-21T08:56:19.312637",
     "status": "completed"
    },
    "tags": []
   },
   "source": [
    "# Metricas https://www.kaggle.com/code/sergeifironov/validate-ridge/notebook"
   ]
  },
  {
   "cell_type": "code",
   "execution_count": 5,
   "id": "fd8286b5",
   "metadata": {
    "execution": {
     "iopub.execute_input": "2023-07-21T08:56:19.362924Z",
     "iopub.status.busy": "2023-07-21T08:56:19.362487Z",
     "iopub.status.idle": "2023-07-21T08:56:19.449448Z",
     "shell.execute_reply": "2023-07-21T08:56:19.448573Z"
    },
    "papermill": {
     "duration": 0.107293,
     "end_time": "2023-07-21T08:56:19.451860",
     "exception": false,
     "start_time": "2023-07-21T08:56:19.344567",
     "status": "completed"
    },
    "tags": []
   },
   "outputs": [],
   "source": [
    "class Graph:\n",
    "    \"\"\"\n",
    "    Ontology class. One ontology == one namespace\n",
    "    DAG is the adjacence matrix (sparse) which represent a Directed Acyclic Graph where\n",
    "    DAG(i,j) == 1 means that the go term i is_a (or is part_of) j\n",
    "    Parents that are in a different namespace are discarded\n",
    "    \"\"\"\n",
    "    def __init__(self, namespace, terms_dict, ia_dict=None, orphans=False):\n",
    "        \"\"\"\n",
    "        terms_dict = {term: {name: , namespace: , def: , alt_id: , rel:}}\n",
    "        \"\"\"\n",
    "        self.namespace = namespace\n",
    "        self.dag = []  # [[], ...] terms (rows, axis 0) x parents (columns, axis 1)\n",
    "        self.terms_dict = {}  # {term: {index: , name: , namespace: , def: }  used to assign term indexes in the gt\n",
    "        self.terms_list = []  # [{id: term, name:, namespace: , def:, adg: [], children: []}, ...]\n",
    "        self.idxs = None  # Number of terms\n",
    "        self.order = None\n",
    "        self.toi = None\n",
    "        self.ia = None\n",
    "\n",
    "        rel_list = []\n",
    "        for self.idxs, (term_id, term) in enumerate(terms_dict.items()):\n",
    "            rel_list.extend([[term_id, rel, term['namespace']] for rel in term['rel']])\n",
    "            self.terms_list.append({'id': term_id, 'name': term['name'], 'namespace': namespace, 'def': term['def'],\n",
    "                                 'adj': [], 'children': []})\n",
    "            self.terms_dict[term_id] = {'index': self.idxs, 'name': term['name'], 'namespace': namespace, 'def': term['def']}\n",
    "            for a_id in term['alt_id']:\n",
    "                self.terms_dict[a_id] = copy.copy(self.terms_dict[term_id])\n",
    "        self.idxs += 1\n",
    "\n",
    "        self.dag = np.zeros((self.idxs, self.idxs), dtype='bool')\n",
    "\n",
    "        # id1 term (row, axis 0), id2 parent (column, axis 1)\n",
    "        for id1, id2, ns in rel_list:\n",
    "            if self.terms_dict.get(id2):\n",
    "                i = self.terms_dict[id1]['index']\n",
    "                j = self.terms_dict[id2]['index']\n",
    "                self.dag[i, j] = 1\n",
    "                self.terms_list[i]['adj'].append(j)\n",
    "                self.terms_list[j]['children'].append(i)\n",
    "                logging.debug(\"i,j {},{} {},{}\".format(i, j, id1, id2))\n",
    "            else:\n",
    "                logging.debug('Skipping branch to external namespace: {}'.format(id2))\n",
    "        logging.debug(\"dag {}\".format(self.dag))\n",
    "        # Topological sorting\n",
    "        self.top_sort()\n",
    "        logging.debug(\"order sorted {}\".format(self.order))\n",
    "\n",
    "        if orphans:\n",
    "            self.toi = np.arange(self.dag.shape[0])  # All terms, also those without parents\n",
    "        else:\n",
    "            self.toi = np.nonzero(self.dag.sum(axis=1) > 0)[0]  # Only terms with parents\n",
    "        logging.debug(\"toi {}\".format(self.toi))\n",
    "\n",
    "        if ia_dict is not None:\n",
    "            self.set_ia(ia_dict)\n",
    "\n",
    "        return\n",
    "\n",
    "    def top_sort(self):\n",
    "        \"\"\"\n",
    "        Takes a sparse matrix representing a DAG and returns an array with nodes indexes in topological order\n",
    "        https://en.wikipedia.org/wiki/Topological_sorting\n",
    "        \"\"\"\n",
    "        indexes = []\n",
    "        visited = 0\n",
    "        (rows, cols) = self.dag.shape\n",
    "\n",
    "        # create a vector containing the in-degree of each node\n",
    "        in_degree = self.dag.sum(axis=0)\n",
    "        # logging.debug(\"degree {}\".format(in_degree))\n",
    "\n",
    "        # find the nodes with in-degree 0 (leaves) and add them to the queue\n",
    "        queue = np.nonzero(in_degree == 0)[0].tolist()\n",
    "        # logging.debug(\"queue {}\".format(queue))\n",
    "\n",
    "        # for each element of the queue increment visits, add them to the list of ordered nodes\n",
    "        # and decrease the in-degree of the neighbor nodes\n",
    "        # and add them to the queue if they reach in-degree == 0\n",
    "        while queue:\n",
    "            visited += 1\n",
    "            idx = queue.pop(0)\n",
    "            indexes.append(idx)\n",
    "            in_degree[idx] -= 1\n",
    "            l = self.terms_list[idx]['adj']\n",
    "            if len(l) > 0:\n",
    "                for j in l:\n",
    "                    in_degree[j] -= 1\n",
    "                    if in_degree[j] == 0:\n",
    "                        queue.append(j)\n",
    "\n",
    "        # if visited is equal to the number of nodes in the graph then the sorting is complete\n",
    "        # otherwise the graph can't be sorted with topological order\n",
    "        if visited == rows:\n",
    "            self.order = indexes\n",
    "        else:\n",
    "            raise Exception(\"The sparse matrix doesn't represent an acyclic graph\")\n",
    "\n",
    "    def set_ia(self, ia_dict):\n",
    "        self.ia = np.zeros(self.idxs, dtype='float')\n",
    "        for term_id in self.terms_dict:\n",
    "            if ia_dict.get(term_id):\n",
    "                self.ia[self.terms_dict[term_id]['index']] = ia_dict.get(term_id)\n",
    "            else:\n",
    "                logging.debug('Missing IA for term: {}'.format(term_id))\n",
    "        # Convert inf to zero\n",
    "        np.nan_to_num(self.ia, copy=False, nan=0, posinf=0, neginf=0)\n",
    "        self.toi = np.nonzero(self.ia > 0)[0]\n",
    "\n",
    "\n",
    "class Prediction:\n",
    "    \"\"\"\n",
    "    The score matrix contains the scores given by the predictor for every node of the ontology\n",
    "    \"\"\"\n",
    "    def __init__(self, ids, matrix, idx, namespace=None):\n",
    "        self.ids = ids\n",
    "        self.matrix = matrix  # scores\n",
    "        self.next_idx = idx\n",
    "        # self.n_pred_seq = idx + 1\n",
    "        self.namespace = namespace\n",
    "\n",
    "    def __str__(self):\n",
    "        return \"\\n\".join([\"{}\\t{}\\t{}\".format(index, self.matrix[index], self.namespace) for index, _id in enumerate(self.ids)])\n",
    "\n",
    "\n",
    "class GroundTruth:\n",
    "    def __init__(self, ids, matrix, namespace=None):\n",
    "        self.ids = ids\n",
    "        self.matrix = matrix\n",
    "        self.namespace = namespace\n",
    "\n",
    "\n",
    "def propagate(matrix, ont, order, mode='max'):\n",
    "    \"\"\"\n",
    "    Update inplace the score matrix (proteins x terms) up to the root taking the max between children and parents\n",
    "    \"\"\"\n",
    "    if matrix.shape[0] == 0:\n",
    "        raise Exception(\"Empty matrix\")\n",
    "\n",
    "    deepest = np.where(np.sum(matrix[:, order], axis=0) > 0)[0][0]\n",
    "    if deepest.size == 0:\n",
    "        raise Exception(\"The matrix is empty\")\n",
    "\n",
    "    # Remove leaves\n",
    "    order_ = np.delete(order, [range(0, deepest)])\n",
    "\n",
    "    for i in order_:\n",
    "        # Get direct children\n",
    "        children = np.where(ont.dag[:, i] != 0)[0]\n",
    "        if children.size > 0:\n",
    "            cols = np.concatenate((children, [i]))\n",
    "            if mode == 'max':\n",
    "                matrix[:, i] = matrix[:, cols].max(axis=1)\n",
    "            elif mode == 'fill':\n",
    "                rows = np.where(matrix[:, i] == 0)[0]\n",
    "                if rows.size:\n",
    "                    idx = np.ix_(rows, cols)\n",
    "                    matrix[rows, i] = matrix[idx].max(axis=1)\n",
    "    return\n",
    "\n",
    "\n",
    "def obo_parser(obo_file, valid_rel=(\"is_a\", \"part_of\")):\n",
    "    \"\"\"\n",
    "    Parse a OBO file and returns a list of ontologies, one for each namespace.\n",
    "    Obsolete terms are excluded as well as external namespaces.\n",
    "    \"\"\"\n",
    "    term_dict = {}\n",
    "    term_id = None\n",
    "    namespace = None\n",
    "    name = None\n",
    "    term_def = None\n",
    "    alt_id = []\n",
    "    rel = []\n",
    "    obsolete = True\n",
    "    with open(obo_file) as f:\n",
    "        for line in f:\n",
    "            line = line.strip().split(\": \")\n",
    "            if line and len(line) > 1:\n",
    "                k = line[0]\n",
    "                v = \": \".join(line[1:])\n",
    "                if k == \"id\":\n",
    "                    # Populate the dictionary with the previous entry\n",
    "                    if term_id is not None and obsolete is False and namespace is not None:\n",
    "                        term_dict.setdefault(namespace, {})[term_id] = {'name': name,\n",
    "                                                                       'namespace': namespace,\n",
    "                                                                       'def': term_def,\n",
    "                                                                       'alt_id': alt_id,\n",
    "                                                                       'rel': rel}\n",
    "                    # Assign current term ID\n",
    "                    term_id = v\n",
    "\n",
    "                    # Reset optional fields\n",
    "                    alt_id = []\n",
    "                    rel = []\n",
    "                    obsolete = False\n",
    "                    namespace = None\n",
    "\n",
    "                elif k == \"alt_id\":\n",
    "                    alt_id.append(v)\n",
    "                elif k == \"name\":\n",
    "                    name = v\n",
    "                elif k == \"namespace\" and v != 'external':\n",
    "                    namespace = v\n",
    "                elif k == \"def\":\n",
    "                    term_def = v\n",
    "                elif k == 'is_obsolete':\n",
    "                    obsolete = True\n",
    "                elif k == \"is_a\" and k in valid_rel:\n",
    "                    s = v.split('!')[0].strip()\n",
    "                    rel.append(s)\n",
    "                elif k == \"relationship\" and v.startswith(\"part_of\") and \"part_of\" in valid_rel:\n",
    "                    s = v.split()[1].strip()\n",
    "                    rel.append(s)\n",
    "\n",
    "        # Last record\n",
    "        if obsolete is False and namespace is not None:\n",
    "            term_dict.setdefault(namespace, {})[term_id] = {'name': name,\n",
    "                                                          'namespace': namespace,\n",
    "                                                          'def': term_def,\n",
    "                                                          'alt_id': alt_id,\n",
    "                                                          'rel': rel}\n",
    "    return term_dict\n",
    "\n",
    "\n",
    "def gt_parser(gt_file, ontologies):\n",
    "    \"\"\"\n",
    "    Parse ground truth file. Discard terms not included in the ontology.\n",
    "    \"\"\"\n",
    "    gt_dict = {}\n",
    "    with open(gt_file) as f:\n",
    "        for line in f:\n",
    "            line = line.strip().split()\n",
    "            if line:\n",
    "                p_id, term_id = line[:2]\n",
    "                for ont in ontologies:\n",
    "                    if term_id in ont.terms_dict:\n",
    "                        gt_dict.setdefault(ont.namespace, {}).setdefault(p_id, []).append(term_id)\n",
    "                        break\n",
    "\n",
    "    gts = {}\n",
    "    for ont in ontologies:\n",
    "        if gt_dict.get(ont.namespace):\n",
    "            matrix = np.zeros((len(gt_dict[ont.namespace]), ont.idxs), dtype='bool')\n",
    "            ids = {}\n",
    "            for i, p_id in enumerate(gt_dict[ont.namespace]):\n",
    "                ids[p_id] = i\n",
    "                for term_id in gt_dict[ont.namespace][p_id]:\n",
    "                    matrix[i, ont.terms_dict[term_id]['index']] = 1\n",
    "            propagate(matrix, ont, ont.order, mode='max')\n",
    "            gts[ont.namespace] = GroundTruth(ids, matrix, ont.namespace)\n",
    "\n",
    "    return gts\n",
    "\n",
    "\n",
    "def pred_parser(f, ontologies, gts, prop_mode, max_terms=None):\n",
    "    \"\"\"\n",
    "    Parse a prediction file and returns a list of prediction objects, one for each namespace.\n",
    "    If a predicted is predicted multiple times for the same target, it stores the max.\n",
    "    This is the slow step if the input file is huge, ca. 1 minute for 5GB input on SSD disk.\n",
    "    \"\"\"\n",
    "    ids = {}\n",
    "    matrix = {}\n",
    "    ns_dict = {}  # {namespace: term}\n",
    "    onts = {ont.namespace: ont for ont in ontologies}\n",
    "    for ns in gts:\n",
    "        matrix[ns] = np.zeros(gts[ns].matrix.shape, dtype='float')\n",
    "        ids[ns] = {}\n",
    "        for term in onts[ns].terms_dict:\n",
    "            ns_dict[term] = ns\n",
    "\n",
    "    for line in f:\n",
    "        p_id, term_id, prob = line\n",
    "        ns = ns_dict.get(term_id)\n",
    "        if ns in gts and p_id in gts[ns].ids:\n",
    "            i = gts[ns].ids[p_id]\n",
    "            if max_terms is None or np.count_nonzero(matrix[ns][i]) <= max_terms:\n",
    "                j = onts[ns].terms_dict.get(term_id)['index']\n",
    "                ids[ns][p_id] = i\n",
    "                matrix[ns][i, j] = max(matrix[ns][i, j], float(prob))\n",
    "\n",
    "    predictions = []\n",
    "    for ns in ids:\n",
    "        if ids[ns]:\n",
    "            propagate(matrix[ns], onts[ns], onts[ns].order, mode=prop_mode)\n",
    "            predictions.append(Prediction(ids[ns], matrix[ns], len(ids[ns]), ns))\n",
    "\n",
    "    if not predictions:\n",
    "        raise Exception(\"Empty prediction, check format\")\n",
    "\n",
    "    return predictions\n",
    "\n",
    "\n",
    "def ia_parser(file):\n",
    "    ia_dict = {}\n",
    "    with open(file) as f:\n",
    "        for line in f:\n",
    "            if line:\n",
    "                term, ia = line.strip().split()\n",
    "                ia_dict[term] = float(ia)\n",
    "    return ia_dict\n",
    "\n",
    "# Computes the root terms in the dag\n",
    "def get_roots_idx(dag):\n",
    "    return np.where(dag.sum(axis=1) == 0)[0]\n",
    "\n",
    "\n",
    "# Computes the leaf terms in the dag\n",
    "def get_leafs_idx(dag):\n",
    "    return np.where(dag.sum(axis=0) == 0)[0]\n",
    "\n",
    "\n",
    "# Return a mask for all the predictions (matrix) >= tau\n",
    "def solidify_prediction(pred, tau):\n",
    "    return pred >= tau\n",
    "\n",
    "\n",
    "# computes the f metric for each precision and recall in the input arrays\n",
    "def compute_f(pr, rc):\n",
    "    n = 2 * pr * rc\n",
    "    d = pr + rc\n",
    "    return np.divide(n, d, out=np.zeros_like(n, dtype=float), where=d != 0)\n",
    "\n",
    "\n",
    "def compute_s(ru, mi):\n",
    "    return np.sqrt(ru**2 + mi**2)\n",
    "    # return np.where(np.isnan(ru), mi, np.sqrt(ru + np.nan_to_num(mi)))\n",
    "\n",
    "\n",
    "def compute_metrics_(tau_arr, g, pred, toi, n_gt, wn_gt=None, ic_arr=None):\n",
    "\n",
    "    metrics = np.zeros((len(tau_arr), 7), dtype='float')  # cov, pr, rc, wpr, wrc, ru, mi\n",
    "\n",
    "    for i, tau in enumerate(tau_arr):\n",
    "\n",
    "        p = solidify_prediction(pred.matrix[:, toi], tau)\n",
    "\n",
    "        # number of proteins with at least one term predicted with score >= tau\n",
    "        metrics[i, 0] = (p.sum(axis=1) > 0).sum()\n",
    "\n",
    "        # Terms subsets\n",
    "        intersection = np.logical_and(p, g)  # TP\n",
    "\n",
    "        # Subsets size\n",
    "        n_pred = p.sum(axis=1)\n",
    "        n_intersection = intersection.sum(axis=1)\n",
    "\n",
    "        # Precision, recall\n",
    "        metrics[i, 1] = np.divide(n_intersection, n_pred, out=np.zeros_like(n_intersection, dtype='float'),\n",
    "                                  where=n_pred > 0).sum()\n",
    "        metrics[i, 2] = np.divide(n_intersection, n_gt, out=np.zeros_like(n_gt, dtype='float'), where=n_gt > 0).sum()\n",
    "\n",
    "        if ic_arr is not None:\n",
    "            # Terms subsets\n",
    "            remaining = np.logical_and(np.logical_not(p), g)  # FN --> not predicted but in the ground truth\n",
    "            mis = np.logical_and(p, np.logical_not(g))  # FP --> predicted but not in the ground truth\n",
    "\n",
    "            # Weighted precision, recall\n",
    "            wn_pred = (p * ic_arr[toi]).sum(axis=1)\n",
    "            wn_intersection = (intersection * ic_arr[toi]).sum(axis=1)\n",
    "\n",
    "            metrics[i, 3] = np.divide(wn_intersection, wn_pred, out=np.zeros_like(n_intersection, dtype='float'),\n",
    "                                      where=n_pred > 0).sum()\n",
    "            metrics[i, 4] = np.divide(wn_intersection, wn_gt, out=np.zeros_like(n_intersection, dtype='float'),\n",
    "                                      where=n_gt > 0).sum()\n",
    "\n",
    "            # Misinformation, remaining uncertainty\n",
    "            metrics[i, 5] = (remaining * ic_arr[toi]).sum(axis=1).sum()\n",
    "            metrics[i, 6] = (mis * ic_arr[toi]).sum(axis=1).sum()\n",
    "    return metrics\n",
    "\n",
    "\n",
    "def compute_metrics(pred, gt, toi, tau_arr, ic_arr=None, n_cpu=0):\n",
    "    \"\"\"\n",
    "    Takes the prediction and the ground truth and for each threshold in tau_arr\n",
    "    calculates the confusion matrix and returns the coverage,\n",
    "    precision, recall, remaining uncertainty and misinformation.\n",
    "    Toi is the list of terms (indexes) to be considered\n",
    "    \"\"\"\n",
    "    g = gt.matrix[:, toi]\n",
    "    n_gt = g.sum(axis=1)\n",
    "    wn_gt = None\n",
    "    if ic_arr is not None:\n",
    "        wn_gt = (g * ic_arr[toi]).sum(axis=1)\n",
    "\n",
    "    # Parallelization\n",
    "    if n_cpu == 0:\n",
    "        n_cpu = mp.cpu_count()\n",
    "\n",
    "    arg_lists = [[tau_arr, g, pred, toi, n_gt, wn_gt, ic_arr] for tau_arr in np.array_split(tau_arr, n_cpu)]\n",
    "    if 0:\n",
    "        # Original parallel way (# It does not work on Kaggle)\n",
    "        arg_lists = [[tau_arr, g, pred, toi, n_gt, wn_gt, ic_arr] for tau_arr in np.array_split(tau_arr, n_cpu)]\n",
    "        with mp.Pool(processes=n_cpu) as pool:\n",
    "            metrics = np.concatenate(pool.starmap(compute_metrics_, arg_lists), axis=0)\n",
    "    else: \n",
    "        # no-parallel: \n",
    "        metrics = compute_metrics_(tau_arr, g, pred, toi, n_gt, wn_gt, ic_arr )\n",
    "\n",
    "    return pd.DataFrame(metrics, columns=[\"cov\", \"pr\", \"rc\", \"wpr\", \"wrc\", \"ru\", \"mi\"])\n",
    "\n",
    "\n",
    "def evaluate_prediction(prediction, gt, ontologies, tau_arr, normalization='cafa', n_cpu=0):\n",
    "    dfs = []\n",
    "    for p in prediction:\n",
    "        ns = p.namespace\n",
    "        ne = np.full(len(tau_arr), gt[ns].matrix.shape[0])\n",
    "\n",
    "        ont = [o for o in ontologies if o.namespace == ns][0]\n",
    "\n",
    "        # cov, pr, rc, wpr, wrc, ru, mi\n",
    "        metrics = compute_metrics(p, gt[ns], ont.toi, tau_arr, ont.ia, n_cpu)\n",
    "\n",
    "        for column in [\"pr\", \"rc\", \"wpr\", \"wrc\", \"ru\", \"mi\"]:\n",
    "            if normalization == 'gt' or (column in [\"rc\", \"wrc\"] and normalization == 'cafa'):\n",
    "                metrics[column] = np.divide(metrics[column], ne, out=np.zeros_like(metrics[column], dtype='float'), where=ne > 0)\n",
    "            else:\n",
    "                metrics[column] = np.divide(metrics[column], metrics[\"cov\"], out=np.zeros_like(metrics[column], dtype='float'), where=metrics[\"cov\"] > 0)\n",
    "\n",
    "        metrics['ns'] = [ns] * len(tau_arr)\n",
    "        metrics['tau'] = tau_arr\n",
    "        metrics['cov'] = np.divide(metrics['cov'], ne, out=np.zeros_like(metrics['cov'], dtype='float'), where=ne > 0)\n",
    "        metrics['f'] = compute_f(metrics['pr'], metrics['rc'])\n",
    "        metrics['wf'] = compute_f(metrics['wpr'], metrics['wrc'])\n",
    "        metrics['s'] = compute_s(metrics['ru'], metrics['mi'])\n",
    "\n",
    "        dfs.append(metrics)\n",
    "\n",
    "    return pd.concat(dfs)"
   ]
  },
  {
   "cell_type": "markdown",
   "id": "38ad8468",
   "metadata": {
    "papermill": {
     "duration": 0.016496,
     "end_time": "2023-07-21T08:56:19.485354",
     "exception": false,
     "start_time": "2023-07-21T08:56:19.468858",
     "status": "completed"
    },
    "tags": []
   },
   "source": [
    "# 2. Baseline"
   ]
  },
  {
   "cell_type": "markdown",
   "id": "fe23c3fe",
   "metadata": {
    "papermill": {
     "duration": 0.015897,
     "end_time": "2023-07-21T08:56:19.518002",
     "exception": false,
     "start_time": "2023-07-21T08:56:19.502105",
     "status": "completed"
    },
    "tags": []
   },
   "source": [
    "- Use ProtBERT/T5 embedding vectors for each Sequence ID and its associated Protein Sequence. \n",
    "\n",
    "- Define a Pytorch Dataset to load all ids/sequences of the train+test sets and their respective ProtBert embeddings\n",
    "\n",
    "- Define Pytorch Model architecture in order to use these embeddings to proceed classification task : to each ID we associate a probability to be associated to each GO term **For this part, just consider the top_n most common GO terms as labels**\n",
    "\n",
    "- Return desired probabilities for test set"
   ]
  },
  {
   "cell_type": "markdown",
   "id": "3e76d8fe",
   "metadata": {
    "papermill": {
     "duration": 0.015979,
     "end_time": "2023-07-21T08:56:19.550274",
     "exception": false,
     "start_time": "2023-07-21T08:56:19.534295",
     "status": "completed"
    },
    "tags": []
   },
   "source": [
    "# 4. Collect labels vectors for train/test"
   ]
  },
  {
   "cell_type": "code",
   "execution_count": 6,
   "id": "a675316e",
   "metadata": {
    "execution": {
     "iopub.execute_input": "2023-07-21T08:56:19.584526Z",
     "iopub.status.busy": "2023-07-21T08:56:19.584113Z",
     "iopub.status.idle": "2023-07-21T08:56:19.589608Z",
     "shell.execute_reply": "2023-07-21T08:56:19.588489Z"
    },
    "papermill": {
     "duration": 0.02525,
     "end_time": "2023-07-21T08:56:19.591774",
     "exception": false,
     "start_time": "2023-07-21T08:56:19.566524",
     "status": "completed"
    },
    "tags": []
   },
   "outputs": [],
   "source": [
    "# print(\"GENERATE TARGETS FOR ENTRY IDS (\"+str(config.num_labels)+\" MOST COMMON GO TERMS)\")\n",
    "# ids = np.load(\"/kaggle/input/protbert-embeddings-for-cafa5/train_ids.npy\")\n",
    "# labels = pd.read_csv(config.train_labels_path, sep = \"\\t\")\n",
    "\n",
    "# top_terms = labels.groupby(\"term\")[\"EntryID\"].count().sort_values(ascending=False)\n",
    "# labels_names = top_terms[:config.num_labels].index.values\n",
    "# train_labels_sub = labels[(labels.term.isin(labels_names)) & (labels.EntryID.isin(ids))]\n",
    "# id_labels = train_labels_sub.groupby('EntryID')['term'].apply(list).to_dict()\n",
    "\n",
    "\n",
    "# go_terms_map = {label: i for i, label in enumerate(labels_names)}\n",
    "# labels_matrix = np.empty((len(ids), len(labels_names)))\n",
    "\n",
    "# for index, id in tqdm(enumerate(ids)):\n",
    "#     id_gos_list = id_labels[id]\n",
    "#     temp = [go_terms_map[go] for go in labels_names if go in id_gos_list]\n",
    "#     labels_matrix[index, temp] = 1\n",
    "\n",
    "# np.save(\"/kaggle/working/train_targets_top\"+str(config.num_labels)+\".npy\", np.array(labels_matrix))\n",
    "# print(\"GENERATION FINISHED!\")\n",
    "# labels_list = []\n",
    "# for l in range(labels_matrix.shape[0]):\n",
    "#     labels_list.append(labels_matrix[l, :])\n",
    "\n",
    "# labels_df = pd.DataFrame(data={\"EntryID\":ids, \"labels_vect\":labels_list})\n",
    "# labels_df.to_pickle(\"/kaggle/working/\"+'train'+\"_targets.pkl\")\n",
    "# print(\"GENERATION FINISHED!\")"
   ]
  },
  {
   "cell_type": "markdown",
   "id": "789f8fb6",
   "metadata": {
    "papermill": {
     "duration": 0.015692,
     "end_time": "2023-07-21T08:56:19.623639",
     "exception": false,
     "start_time": "2023-07-21T08:56:19.607947",
     "status": "completed"
    },
    "tags": []
   },
   "source": [
    "# 5. Pytorch Dataset Architecture"
   ]
  },
  {
   "cell_type": "code",
   "execution_count": 7,
   "id": "53da02b1",
   "metadata": {
    "execution": {
     "iopub.execute_input": "2023-07-21T08:56:19.657472Z",
     "iopub.status.busy": "2023-07-21T08:56:19.657091Z",
     "iopub.status.idle": "2023-07-21T08:56:19.662644Z",
     "shell.execute_reply": "2023-07-21T08:56:19.661517Z"
    },
    "papermill": {
     "duration": 0.025289,
     "end_time": "2023-07-21T08:56:19.664810",
     "exception": false,
     "start_time": "2023-07-21T08:56:19.639521",
     "status": "completed"
    },
    "tags": []
   },
   "outputs": [],
   "source": [
    "# Directories for the different embedding vectors : \n",
    "embeds_map = {\n",
    "    \"T5\" : \"t5embeds\",\n",
    "    \"ProtBERT\" : \"protbert-embeddings-for-cafa5\",\n",
    "    \"EMS2\" : \"cafa-5-ems-2-embeddings-numpy\",\n",
    "    \"EMS2_t36\": \"4637427\"\n",
    "}\n",
    "\n",
    "# Length of the different embedding vectors :\n",
    "embeds_dim = {\n",
    "    \"T5\" : 1024,\n",
    "    \"ProtBERT\" : 1024,\n",
    "    \"EMS2\" : 1280,\n",
    "    \"EMS2_t36\": 2560\n",
    "}"
   ]
  },
  {
   "cell_type": "code",
   "execution_count": 8,
   "id": "dd5e1b6c",
   "metadata": {
    "execution": {
     "iopub.execute_input": "2023-07-21T08:56:19.700546Z",
     "iopub.status.busy": "2023-07-21T08:56:19.699835Z",
     "iopub.status.idle": "2023-07-21T08:56:19.714169Z",
     "shell.execute_reply": "2023-07-21T08:56:19.713040Z"
    },
    "papermill": {
     "duration": 0.035467,
     "end_time": "2023-07-21T08:56:19.716938",
     "exception": false,
     "start_time": "2023-07-21T08:56:19.681471",
     "status": "completed"
    },
    "tags": []
   },
   "outputs": [],
   "source": [
    "def reduce_mem_usage(df):\n",
    "    \"\"\" iterate through all the columns of a dataframe and modify the data type\n",
    "        to reduce memory usage.        \n",
    "    \"\"\"\n",
    "    start_mem = df.memory_usage().sum() / 1024**2\n",
    "    print('Memory usage of dataframe is {:.2f} MB'.format(start_mem))\n",
    "    \n",
    "    for col in df.columns:\n",
    "        col_type = df[col].dtype\n",
    "        \n",
    "        if col_type != object:\n",
    "            c_min = df[col].min()\n",
    "            c_max = df[col].max()\n",
    "            if str(col_type)[:3] == 'int':\n",
    "                if c_min > np.iinfo(np.int8).min and c_max < np.iinfo(np.int8).max:\n",
    "                    df[col] = df[col].astype(np.int8)\n",
    "                elif c_min > np.iinfo(np.int16).min and c_max < np.iinfo(np.int16).max:\n",
    "                    df[col] = df[col].astype(np.int16)\n",
    "                elif c_min > np.iinfo(np.int32).min and c_max < np.iinfo(np.int32).max:\n",
    "                    df[col] = df[col].astype(np.int32)\n",
    "                elif c_min > np.iinfo(np.int64).min and c_max < np.iinfo(np.int64).max:\n",
    "                    df[col] = df[col].astype(np.int64)  \n",
    "            else:\n",
    "                if c_min > np.finfo(np.float16).min and c_max < np.finfo(np.float16).max:\n",
    "                    df[col] = df[col].astype(np.float16)\n",
    "                elif c_min > np.finfo(np.float32).min and c_max < np.finfo(np.float32).max:\n",
    "                    df[col] = df[col].astype(np.float32)\n",
    "                else:\n",
    "                    df[col] = df[col].astype(np.float64)\n",
    "        else:\n",
    "            df[col] = df[col].astype('category')\n",
    "\n",
    "    end_mem = df.memory_usage().sum() / 1024**2\n",
    "    print('Memory usage after optimization is: {:.2f} MB'.format(end_mem))\n",
    "    print('Decreased by {:.1f}%'.format(100 * (start_mem - end_mem) / start_mem))\n",
    "    \n",
    "    return df"
   ]
  },
  {
   "cell_type": "code",
   "execution_count": 9,
   "id": "b01f00b0",
   "metadata": {
    "execution": {
     "iopub.execute_input": "2023-07-21T08:56:19.752046Z",
     "iopub.status.busy": "2023-07-21T08:56:19.751395Z",
     "iopub.status.idle": "2023-07-21T08:56:19.767370Z",
     "shell.execute_reply": "2023-07-21T08:56:19.766373Z"
    },
    "papermill": {
     "duration": 0.03645,
     "end_time": "2023-07-21T08:56:19.769778",
     "exception": false,
     "start_time": "2023-07-21T08:56:19.733328",
     "status": "completed"
    },
    "tags": []
   },
   "outputs": [],
   "source": [
    "class ProteinSequenceDataset(Dataset):\n",
    "    \n",
    "    def __init__(self, datatype, embeddings_source):\n",
    "        super(ProteinSequenceDataset).__init__()\n",
    "        self.datatype = datatype\n",
    "        \n",
    "        if embeddings_source in [\"ProtBERT\", \"EMS2\"]:\n",
    "            embeds = np.load(\"/kaggle/input/\"+embeds_map[embeddings_source]+\"/\"+datatype+\"_embeddings.npy\")\n",
    "            ids = np.load(\"/kaggle/input/\"+embeds_map[embeddings_source]+\"/\"+datatype+\"_ids.npy\")\n",
    "        \n",
    "        if embeddings_source == \"T5\":\n",
    "            embeds = np.load(\"/kaggle/input/\"+embeds_map[embeddings_source]+\"/\"+datatype+\"_embeds.npy\")\n",
    "            ids = np.load(\"/kaggle/input/\"+embeds_map[embeddings_source]+\"/\"+datatype+\"_ids.npy\")\n",
    "            \n",
    "        if embeddings_source == \"EMS2_t36\":\n",
    "            embeds = np.load(\"/kaggle/input/4637427/\" + datatype + \"_embeds_esm2_t36_3B_UR50D.npy\")\n",
    "            ids = np.load(\"/kaggle/input/4637427/\" + datatype + \"_ids_esm2_t36_3B_UR50D.npy\")\n",
    "            \n",
    "            \n",
    "        # reduce memory\n",
    "        embeds = reduce_mem_usage(pd.DataFrame(embeds)).values\n",
    "        gc.collect()\n",
    "        \n",
    "        if config.apply_PCA:\n",
    "            if self.datatype==\"train\":\n",
    "                embeds = config.pca.fit_transform(embeds)\n",
    "                # save pca in a pickle file\n",
    "                with open('pca.pkl', 'wb') as pickle_file:\n",
    "                        pickle.dump(config.pca, pickle_file)\n",
    "            if self.datatype==\"test\":\n",
    "                embeds = config.pca.transform(embeds)\n",
    "            \n",
    "        embeds_list = []\n",
    "        for l in range(embeds.shape[0]):\n",
    "            embeds_list.append(embeds[l,:])\n",
    "        self.df = pd.DataFrame(data={\"EntryID\": ids, \"embed\" : embeds_list})\n",
    "        \n",
    "        if datatype==\"train\":\n",
    "            print('Leyendo las labels ...')\n",
    "            df_labels = pd.read_pickle(\n",
    "                \"/kaggle/input/cafa5-labels-2500/train_targets.pkl\")\n",
    "            self.df = self.df.merge(df_labels, on=\"EntryID\")\n",
    "            \n",
    "#         self.df = self.df.iloc[0:1000]       \n",
    "        \n",
    "    def __len__(self):\n",
    "        return len(self.df)\n",
    "    \n",
    "    def __getitem__(self, index):\n",
    "        embed = torch.tensor(self.df.iloc[index][\"embed\"] , dtype = torch.float32)\n",
    "        if self.datatype==\"train\":\n",
    "            targets = torch.tensor(self.df.iloc[index][\"labels_vect\"], dtype = torch.float32)\n",
    "            id = self.df.iloc[index][\"EntryID\"]\n",
    "            return embed, targets, id\n",
    "        if self.datatype==\"test\":\n",
    "            id = self.df.iloc[index][\"EntryID\"]\n",
    "            return embed, id\n",
    "        "
   ]
  },
  {
   "cell_type": "markdown",
   "id": "ca009931",
   "metadata": {
    "papermill": {
     "duration": 0.015958,
     "end_time": "2023-07-21T08:56:19.802079",
     "exception": false,
     "start_time": "2023-07-21T08:56:19.786121",
     "status": "completed"
    },
    "tags": []
   },
   "source": [
    "# 6. Pytorch Models Architectures"
   ]
  },
  {
   "cell_type": "code",
   "execution_count": 10,
   "id": "b72e75e5",
   "metadata": {
    "execution": {
     "iopub.execute_input": "2023-07-21T08:56:19.837474Z",
     "iopub.status.busy": "2023-07-21T08:56:19.836817Z",
     "iopub.status.idle": "2023-07-21T08:56:19.844627Z",
     "shell.execute_reply": "2023-07-21T08:56:19.843883Z"
    },
    "papermill": {
     "duration": 0.02819,
     "end_time": "2023-07-21T08:56:19.846728",
     "exception": false,
     "start_time": "2023-07-21T08:56:19.818538",
     "status": "completed"
    },
    "tags": []
   },
   "outputs": [],
   "source": [
    "class MultiLayerPerceptron(torch.nn.Module):\n",
    "\n",
    "    def __init__(self, input_dim, num_classes, hidden_size = 3000):\n",
    "        super(MultiLayerPerceptron, self).__init__()\n",
    "\n",
    "        self.linear1 = torch.nn.Linear(input_dim, hidden_size) #hidden_size \n",
    "        self.activation1 = torch.nn.ReLU()\n",
    "        self.layer_norm = nn.BatchNorm1d(hidden_size)\n",
    "        self.dropout = nn.Dropout(0.15)\n",
    "        self.linear3 = torch.nn.Linear(hidden_size, num_classes)\n",
    "\n",
    "    def forward(self, x):\n",
    "        x = self.linear1(x)\n",
    "        x = self.activation1(x)\n",
    "#         x = self.layer_norm(x)\n",
    "        x = self.dropout(x)\n",
    "        x = self.linear3(x)\n",
    "        return x"
   ]
  },
  {
   "cell_type": "code",
   "execution_count": 11,
   "id": "2b898755",
   "metadata": {
    "execution": {
     "iopub.execute_input": "2023-07-21T08:56:19.882105Z",
     "iopub.status.busy": "2023-07-21T08:56:19.881672Z",
     "iopub.status.idle": "2023-07-21T08:56:19.904860Z",
     "shell.execute_reply": "2023-07-21T08:56:19.904026Z"
    },
    "papermill": {
     "duration": 0.043717,
     "end_time": "2023-07-21T08:56:19.907322",
     "exception": false,
     "start_time": "2023-07-21T08:56:19.863605",
     "status": "completed"
    },
    "tags": []
   },
   "outputs": [],
   "source": [
    "class CNN1D(nn.Module):\n",
    "    def __init__(self, input_dim, num_classes):\n",
    "        super(CNN1D, self).__init__()\n",
    "        # (batch_size, channels, embed_size)\n",
    "#         self.conv1 = nn.Conv1d(in_channels=1, out_channels=3, kernel_size=3, dilation=1, padding=1, stride=1)\n",
    "        # (batch_size, 3, embed_size)\n",
    "#         self.pool1 = nn.MaxPool1d(kernel_size=2, stride=2)\n",
    "        # (batch_size, 3, embed_size/2 = 512)\n",
    "        self.conv2 = nn.Conv1d(in_channels=1, out_channels=8, kernel_size=3, dilation=1, padding=1, stride=1) #in_channels=3\n",
    "        # (batch_size, 8, embed_size/2 = 512)\n",
    "        self.pool2 = nn.MaxPool1d(kernel_size=2, stride=2)\n",
    "        # (batch_size, 8, embed_size/4 = 256)\n",
    "        self.fc1 = nn.Linear(in_features=int(8 * input_dim/2), out_features=1500)\n",
    "        self.fc2 = nn.Linear(in_features=1500, out_features=num_classes)\n",
    "\n",
    "    def forward(self, x):\n",
    "        x = x.reshape(x.shape[0], 1, x.shape[1])\n",
    "#         x = self.pool1(nn.functional.relu(self.conv1(x)))\n",
    "        x = self.pool2(nn.functional.relu(self.conv2(x)))\n",
    "        x = torch.flatten(x, 1)\n",
    "        x = nn.functional.relu(self.fc1(x))\n",
    "        x = self.fc2(x)\n",
    "        return x\n"
   ]
  },
  {
   "cell_type": "code",
   "execution_count": 12,
   "id": "34c11236",
   "metadata": {
    "execution": {
     "iopub.execute_input": "2023-07-21T08:56:19.943106Z",
     "iopub.status.busy": "2023-07-21T08:56:19.942728Z",
     "iopub.status.idle": "2023-07-21T08:56:19.950846Z",
     "shell.execute_reply": "2023-07-21T08:56:19.950068Z"
    },
    "papermill": {
     "duration": 0.028313,
     "end_time": "2023-07-21T08:56:19.952937",
     "exception": false,
     "start_time": "2023-07-21T08:56:19.924624",
     "status": "completed"
    },
    "tags": []
   },
   "outputs": [],
   "source": [
    "class LSTMModel(nn.Module):\n",
    "    def __init__(self, input_dim, num_classes, hidden_size = 750, num_layers = 1):\n",
    "        super(LSTMModel, self).__init__()\n",
    "        self.lstm = nn.LSTM(input_size=input_dim, hidden_size=hidden_size, num_layers=num_layers, batch_first=True)\n",
    "        self.gru = nn.GRU(hidden_size , hidden_size, bidirectional=True, batch_first=True)\n",
    "\n",
    "#         self.lstm2 = nn.LSTM(hidden_size * 2, hidden_size, bidirectional=True, batch_first=True)\n",
    "        self.linear = nn.Linear(hidden_size*4, hidden_size) #643:80 - 483:60 - 323:40\n",
    "        self.relu = nn.ReLU()\n",
    "        self.dropout = nn.Dropout(0.1)\n",
    "        self.out = nn.Linear(hidden_size, num_classes)\n",
    "    def forward(self, x):\n",
    "        x, _ = self.lstm(x)\n",
    "        x, _ = self.gru(x)\n",
    "        x = self.relu(self.linear(x))\n",
    "        x = self.dropout(x)\n",
    "        x = self.out(x)\n",
    "        return x"
   ]
  },
  {
   "cell_type": "code",
   "execution_count": 13,
   "id": "11c3811d",
   "metadata": {
    "execution": {
     "iopub.execute_input": "2023-07-21T08:56:19.987969Z",
     "iopub.status.busy": "2023-07-21T08:56:19.987262Z",
     "iopub.status.idle": "2023-07-21T08:56:20.000441Z",
     "shell.execute_reply": "2023-07-21T08:56:19.999196Z"
    },
    "papermill": {
     "duration": 0.033748,
     "end_time": "2023-07-21T08:56:20.003124",
     "exception": false,
     "start_time": "2023-07-21T08:56:19.969376",
     "status": "completed"
    },
    "tags": []
   },
   "outputs": [],
   "source": [
    "class NeuralNet(nn.Module):\n",
    "    def __init__(self, input_dim, num_classes, hidden_size = 512):\n",
    "        super(NeuralNet, self).__init__()\n",
    "        \n",
    "        fc_layer = 750\n",
    "        \n",
    "        self.lstm = nn.LSTM(input_dim, hidden_size, bidirectional=True, batch_first=True)\n",
    "        self.gru = nn.GRU(hidden_size * 2, hidden_size, bidirectional=True, batch_first=True)\n",
    "\n",
    "        self.lstm_attention = nn.MultiheadAttention(hidden_size * 2, hidden_size)\n",
    "        self.gru_attention = nn.MultiheadAttention(hidden_size * 2, hidden_size)\n",
    "        # *4: hidden_size*2(att lstm) + embed_size(2560) + hidden_size*2 (att gru) + 2(avg y max pool)\n",
    "        self.linear = nn.Linear(hidden_size*4 + input_dim  + 2, fc_layer) # \n",
    "        self.relu = nn.PReLU()\n",
    "        self.bn = nn.BatchNorm1d(fc_layer, momentum=0.5)\n",
    "        self.dropout = nn.Dropout(0.1)\n",
    "        self.out = nn.Linear(fc_layer, num_classes)\n",
    "    \n",
    "    def forward(self, x):\n",
    "        \n",
    "        h_lstm, _ = self.lstm(x)\n",
    "        h_gru, _ = self.gru(h_lstm)\n",
    "\n",
    "        ##Attention Layer\n",
    "        h_lstm_atten, _  = self.lstm_attention(h_lstm, h_lstm, h_lstm)\n",
    "        h_gru_atten, _  = self.gru_attention(h_gru, h_gru, h_gru)\n",
    "\n",
    "        # global average pooling\n",
    "        avg_pool = torch.mean(h_gru, 1)\n",
    "        # global max pooling\n",
    "        max_pool, _ = torch.max(h_gru, 1)\n",
    "\n",
    "        avg_pool = torch.unsqueeze(avg_pool, dim=1)\n",
    "        max_pool = torch.unsqueeze(max_pool, dim=1)\n",
    "        \n",
    "        f = torch.tensor(x, dtype=torch.float).to(config.device)\n",
    "\n",
    "        conc = torch.cat((h_lstm_atten,h_gru_atten , avg_pool, max_pool, f), 1)\n",
    "        conc = self.relu(self.linear(conc))\n",
    "#         conc = self.bn(conc)\n",
    "        conc = self.dropout(conc)\n",
    "\n",
    "        out = self.out(conc)\n",
    "        \n",
    "        return out"
   ]
  },
  {
   "cell_type": "markdown",
   "id": "d4545528",
   "metadata": {
    "papermill": {
     "duration": 0.016431,
     "end_time": "2023-07-21T08:56:20.035996",
     "exception": false,
     "start_time": "2023-07-21T08:56:20.019565",
     "status": "completed"
    },
    "tags": []
   },
   "source": [
    "# 7. Train the Model"
   ]
  },
  {
   "cell_type": "code",
   "execution_count": 14,
   "id": "9a3d178d",
   "metadata": {
    "execution": {
     "iopub.execute_input": "2023-07-21T08:56:20.070392Z",
     "iopub.status.busy": "2023-07-21T08:56:20.069990Z",
     "iopub.status.idle": "2023-07-21T08:56:20.075598Z",
     "shell.execute_reply": "2023-07-21T08:56:20.074840Z"
    },
    "papermill": {
     "duration": 0.025403,
     "end_time": "2023-07-21T08:56:20.077642",
     "exception": false,
     "start_time": "2023-07-21T08:56:20.052239",
     "status": "completed"
    },
    "tags": []
   },
   "outputs": [],
   "source": [
    "def train_val_dataset(dataset, train_size=0.99):\n",
    "    train_idx, val_idx = train_test_split(list(range(len(dataset))), train_size=train_size, random_state = 1993)\n",
    "    datasets = {}\n",
    "    train_set = Subset(dataset, train_idx)\n",
    "    val_set = Subset(dataset, val_idx)\n",
    "    return train_set, val_set"
   ]
  },
  {
   "cell_type": "code",
   "execution_count": 15,
   "id": "472587c2",
   "metadata": {
    "execution": {
     "iopub.execute_input": "2023-07-21T08:56:20.112440Z",
     "iopub.status.busy": "2023-07-21T08:56:20.111785Z",
     "iopub.status.idle": "2023-07-21T08:56:20.135212Z",
     "shell.execute_reply": "2023-07-21T08:56:20.134056Z"
    },
    "papermill": {
     "duration": 0.043677,
     "end_time": "2023-07-21T08:56:20.137730",
     "exception": false,
     "start_time": "2023-07-21T08:56:20.094053",
     "status": "completed"
    },
    "tags": []
   },
   "outputs": [],
   "source": [
    "def train_model(embeddings_source, model_type=\"linear\", train_size=0.99):\n",
    "    \n",
    "    train_dataset = ProteinSequenceDataset(datatype=\"train\", embeddings_source = embeddings_source)\n",
    "    train_set, val_set = random_split(train_dataset, lengths = [int(len(train_dataset)*train_size), len(train_dataset)-int(len(train_dataset)*train_size)])\n",
    "#     train_set, val_set = train_val_dataset(train_dataset, train_size)\n",
    "    train_dataloader = torch.utils.data.DataLoader(train_set, batch_size=config.batch_size, shuffle=True)\n",
    "    val_dataloader = torch.utils.data.DataLoader(val_set, batch_size=config.batch_size, shuffle=True)\n",
    "    \n",
    "    if config.apply_PCA:\n",
    "        input_dim = config.PCA_components\n",
    "    else:\n",
    "        input_dim = embeds_dim[embeddings_source]\n",
    "\n",
    "    print('Entrenando con el modelo: ' + model_type)\n",
    "    if model_type == \"linear\":\n",
    "        model = MultiLayerPerceptron(input_dim=input_dim, num_classes=config.num_labels).to(config.device)\n",
    "    if model_type == \"convolutional\":\n",
    "        model = CNN1D(input_dim=input_dim, num_classes=config.num_labels).to(config.device)\n",
    "    if model_type == 'lstm':\n",
    "        model = LSTMModel(input_dim=input_dim, num_classes=config.num_labels).to(config.device)\n",
    "    if model_type == 'multi':\n",
    "        model = MultiModel(input_dim=input_dim, num_classes=config.num_labels).to(config.device)\n",
    "    if model_type == 'attention':\n",
    "        model = NeuralNet(input_dim=input_dim, num_classes=config.num_labels).to(config.device)\n",
    "\n",
    "    optimizer = torch.optim.AdamW(model.parameters(), lr = config.lr, amsgrad = True) #, weight_decay=1e-5 es L2 regul.\n",
    "    scheduler = ReduceLROnPlateau(optimizer, factor=0.1, patience=1) \n",
    "    CrossEntropy = torch.nn.CrossEntropyLoss()\n",
    "    f1_score = MultilabelF1Score(num_labels=config.num_labels).to(config.device)\n",
    "    n_epochs = config.n_epochs\n",
    "\n",
    "    print(\"BEGIN TRAINING...\")\n",
    "    train_loss_history=[]\n",
    "    val_loss_history=[]\n",
    "    \n",
    "    train_f1score_history=[]\n",
    "    val_f1score_history=[]\n",
    "    for epoch in range(n_epochs):\n",
    "        print(\"EPOCH \", epoch+1)\n",
    "        ## TRAIN PHASE :\n",
    "        losses = []\n",
    "        scores = []\n",
    "        for embed, targets, _ in tqdm(train_dataloader):\n",
    "            embed, targets = embed.to(config.device), targets.to(config.device)\n",
    "            optimizer.zero_grad()\n",
    "            preds = model(embed)\n",
    "            loss= CrossEntropy(preds, targets)\n",
    "            score=f1_score(preds, targets)\n",
    "            losses.append(loss.item()) \n",
    "            scores.append(score.item())\n",
    "            loss.backward()\n",
    "            optimizer.step()\n",
    "        avg_loss = np.mean(losses)\n",
    "        avg_score = np.mean(scores)\n",
    "        print(\"Running Average TRAIN Loss : \", avg_loss)\n",
    "        print(\"Running Average TRAIN F1-Score : \", avg_score)\n",
    "        train_loss_history.append(avg_loss)\n",
    "        train_f1score_history.append(avg_score)\n",
    "        \n",
    "        ## VALIDATION PHASE : \n",
    "        losses = []\n",
    "        scores = []\n",
    "        for embed, targets, _ in val_dataloader:\n",
    "            embed, targets = embed.to(config.device), targets.to(config.device)\n",
    "            preds = model(embed)\n",
    "            loss= CrossEntropy(preds, targets)\n",
    "            score=f1_score(preds, targets)\n",
    "            losses.append(loss.item())\n",
    "            scores.append(score.item())\n",
    "        avg_loss = np.mean(losses)\n",
    "        avg_score = np.mean(scores)\n",
    "        print(\"Running Average VAL Loss : \", avg_loss)\n",
    "        print(\"Running Average VAL F1-Score : \", avg_score)\n",
    "        val_loss_history.append(avg_loss)\n",
    "        val_f1score_history.append(avg_score)\n",
    "        \n",
    "        scheduler.step(avg_loss)\n",
    "        print(\"\\n\")\n",
    "        \n",
    "    print(\"TRAINING FINISHED\")\n",
    "    print(\"FINAL TRAINING SCORE : \", train_f1score_history[-1])\n",
    "    print(\"FINAL VALIDATION SCORE : \", val_f1score_history[-1])\n",
    "    print(\"FINAL TRAINING LOSS : \", train_loss_history[-1])\n",
    "    print(\"FINAL VALIDATION LOSS : \", val_loss_history[-1])\n",
    "    \n",
    "    losses_history = {\"train\" : train_loss_history, \"val\" : val_loss_history}\n",
    "    scores_history = {\"train\" : train_f1score_history, \"val\" : val_f1score_history}\n",
    "    \n",
    "    # guardo\n",
    "    torch.save(model.state_dict(),  'model_'+ str(round(val_loss_history[-1],2)) + '_' + str(round(val_f1score_history[-1],2)) + '.pth')\n",
    "    \n",
    "    return model, losses_history, scores_history, train_dataset, train_set, val_set"
   ]
  },
  {
   "cell_type": "code",
   "execution_count": 16,
   "id": "5d68638d",
   "metadata": {
    "execution": {
     "iopub.execute_input": "2023-07-21T08:56:20.172500Z",
     "iopub.status.busy": "2023-07-21T08:56:20.172096Z",
     "iopub.status.idle": "2023-07-21T08:56:20.176950Z",
     "shell.execute_reply": "2023-07-21T08:56:20.175905Z"
    },
    "papermill": {
     "duration": 0.024756,
     "end_time": "2023-07-21T08:56:20.179233",
     "exception": false,
     "start_time": "2023-07-21T08:56:20.154477",
     "status": "completed"
    },
    "tags": []
   },
   "outputs": [],
   "source": [
    "# train_dataset = ProteinSequenceDataset(datatype=\"train\", embeddings_source = \"EMS2_t36\")\n",
    "\n",
    "# train_set, val_set = random_split(train_dataset, lengths = [int(len(train_dataset)*0.99), len(train_dataset)-int(len(train_dataset)*0.99)])\n",
    "# train_dataloader = torch.utils.data.DataLoader(train_set, batch_size=config.batch_size, shuffle=True)\n",
    "# val_dataloader = torch.utils.data.DataLoader(val_set, batch_size=config.batch_size, shuffle=True)"
   ]
  },
  {
   "cell_type": "code",
   "execution_count": 17,
   "id": "a0035122",
   "metadata": {
    "execution": {
     "iopub.execute_input": "2023-07-21T08:56:20.215085Z",
     "iopub.status.busy": "2023-07-21T08:56:20.214276Z",
     "iopub.status.idle": "2023-07-21T08:56:20.221134Z",
     "shell.execute_reply": "2023-07-21T08:56:20.220402Z"
    },
    "papermill": {
     "duration": 0.027984,
     "end_time": "2023-07-21T08:56:20.223362",
     "exception": false,
     "start_time": "2023-07-21T08:56:20.195378",
     "status": "completed"
    },
    "tags": []
   },
   "outputs": [],
   "source": [
    "# model = CNN1D(input_dim=1500, num_classes=config.num_labels).to(config.device)\n",
    "# optimizer = torch.optim.Adam(model.parameters(), lr = config.lr) #, weight_decay=1e-5 es L2 regul.\n",
    "# scheduler = ReduceLROnPlateau(optimizer, factor=0.1, patience=1)\n",
    "# CrossEntropy = torch.nn.CrossEntropyLoss()\n",
    "# f1_score = MultilabelF1Score(num_labels=config.num_labels).to(config.device)\n",
    "# n_epochs = config.n_epochs\n",
    "\n",
    "# print(\"BEGIN TRAINING...\")\n",
    "# train_loss_history=[]\n",
    "# val_loss_history=[]\n",
    "\n",
    "# train_f1score_history=[]\n",
    "# val_f1score_history=[]\n",
    "# for epoch in range(n_epochs):\n",
    "#     print(\"EPOCH \", epoch+1)\n",
    "#     ## TRAIN PHASE :\n",
    "#     losses = []\n",
    "#     scores = []\n",
    "#     for embed, targets, _ in tqdm(train_dataloader):\n",
    "#         embed, targets = embed.to(config.device), targets.to(config.device)\n",
    "#         optimizer.zero_grad()\n",
    "#         preds = model(embed)\n",
    "#         loss= CrossEntropy(preds, targets)\n",
    "#         score=f1_score(preds, targets)\n",
    "#         losses.append(loss.item()) \n",
    "#         scores.append(score.item())\n",
    "#         loss.backward()\n",
    "#         optimizer.step()\n",
    "#     avg_loss = np.mean(losses)\n",
    "#     avg_score = np.mean(scores)\n",
    "#     print(\"Running Average TRAIN Loss : \", avg_loss)\n",
    "#     print(\"Running Average TRAIN F1-Score : \", avg_score)\n",
    "#     train_loss_history.append(avg_loss)\n",
    "#     train_f1score_history.append(avg_score)\n",
    "    \n",
    "#     ## VALIDATION PHASE : \n",
    "#     losses = []\n",
    "#     scores = []\n",
    "#     for embed, targets in val_dataloader:\n",
    "#         embed, targets = embed.to(config.device), targets.to(config.device)\n",
    "#         preds = model(embed)\n",
    "#         loss= CrossEntropy(preds, targets)\n",
    "#         score=f1_score(preds, targets)\n",
    "#         losses.append(loss.item())\n",
    "#         scores.append(score.item())\n",
    "#     avg_loss = np.mean(losses)\n",
    "#     avg_score = np.mean(scores)\n",
    "#     print(\"Running Average VAL Loss : \", avg_loss)\n",
    "#     print(\"Running Average VAL F1-Score : \", avg_score)\n",
    "#     val_loss_history.append(avg_loss)\n",
    "#     val_f1score_history.append(avg_score)\n",
    "\n",
    "#     scheduler.step(avg_loss)\n",
    "#     print(\"\\n\")\n",
    "        \n",
    "# print(\"TRAINING FINISHED\")\n",
    "# print(\"FINAL TRAINING SCORE : \", train_f1score_history[-1])\n",
    "# print(\"FINAL VALIDATION SCORE : \", val_f1score_history[-1])\n",
    "# print(\"FINAL TRAINING LOSS : \", train_loss_history[-1])\n",
    "# print(\"FINAL VALIDATION LOSS : \", val_loss_history[-1])"
   ]
  },
  {
   "cell_type": "markdown",
   "id": "d374cc39",
   "metadata": {
    "papermill": {
     "duration": 0.016174,
     "end_time": "2023-07-21T08:56:20.255616",
     "exception": false,
     "start_time": "2023-07-21T08:56:20.239442",
     "status": "completed"
    },
    "tags": []
   },
   "source": [
    "## 7.1. Training Usecase"
   ]
  },
  {
   "cell_type": "code",
   "execution_count": 18,
   "id": "a0481681",
   "metadata": {
    "execution": {
     "iopub.execute_input": "2023-07-21T08:56:20.289346Z",
     "iopub.status.busy": "2023-07-21T08:56:20.288958Z",
     "iopub.status.idle": "2023-07-21T08:56:20.293407Z",
     "shell.execute_reply": "2023-07-21T08:56:20.292327Z"
    },
    "papermill": {
     "duration": 0.023817,
     "end_time": "2023-07-21T08:56:20.295508",
     "exception": false,
     "start_time": "2023-07-21T08:56:20.271691",
     "status": "completed"
    },
    "tags": []
   },
   "outputs": [],
   "source": [
    "# ems2_model, ems2_losses, ems2_scores = train_model(embeddings_source=\"EMS2\",model_type=config.model_type)"
   ]
  },
  {
   "cell_type": "code",
   "execution_count": 19,
   "id": "2776c5a7",
   "metadata": {
    "execution": {
     "iopub.execute_input": "2023-07-21T08:56:20.329798Z",
     "iopub.status.busy": "2023-07-21T08:56:20.329190Z",
     "iopub.status.idle": "2023-07-21T10:29:00.191179Z",
     "shell.execute_reply": "2023-07-21T10:29:00.189620Z"
    },
    "papermill": {
     "duration": 5559.882455,
     "end_time": "2023-07-21T10:29:00.194023",
     "exception": false,
     "start_time": "2023-07-21T08:56:20.311568",
     "status": "completed"
    },
    "tags": []
   },
   "outputs": [
    {
     "name": "stdout",
     "output_type": "stream",
     "text": [
      "Memory usage of dataframe is 2778.24 MB\n",
      "Memory usage after optimization is: 694.56 MB\n",
      "Decreased by 75.0%\n",
      "Leyendo las labels ...\n",
      "Entrenando con el modelo: linear\n",
      "BEGIN TRAINING...\n",
      "EPOCH  1\n"
     ]
    },
    {
     "name": "stderr",
     "output_type": "stream",
     "text": [
      "100%|██████████| 1101/1101 [04:34<00:00,  4.01it/s]\n"
     ]
    },
    {
     "name": "stdout",
     "output_type": "stream",
     "text": [
      "Running Average TRAIN Loss :  201.7378280459481\n",
      "Running Average TRAIN F1-Score :  0.07681578021246152\n",
      "Running Average VAL Loss :  190.9660898844401\n",
      "Running Average VAL F1-Score :  0.09119243702540795\n",
      "\n",
      "\n",
      "EPOCH  2\n"
     ]
    },
    {
     "name": "stderr",
     "output_type": "stream",
     "text": [
      "100%|██████████| 1101/1101 [04:15<00:00,  4.30it/s]\n"
     ]
    },
    {
     "name": "stdout",
     "output_type": "stream",
     "text": [
      "Running Average TRAIN Loss :  190.9969842895175\n",
      "Running Average TRAIN F1-Score :  0.11428654346137995\n",
      "Running Average VAL Loss :  187.16629918416342\n",
      "Running Average VAL F1-Score :  0.10483498871326447\n",
      "\n",
      "\n",
      "EPOCH  3\n"
     ]
    },
    {
     "name": "stderr",
     "output_type": "stream",
     "text": [
      "100%|██████████| 1101/1101 [04:17<00:00,  4.28it/s]\n"
     ]
    },
    {
     "name": "stdout",
     "output_type": "stream",
     "text": [
      "Running Average TRAIN Loss :  186.03706523399802\n",
      "Running Average TRAIN F1-Score :  0.1337844141362257\n",
      "Running Average VAL Loss :  191.47424952189127\n",
      "Running Average VAL F1-Score :  0.11372427921742201\n",
      "\n",
      "\n",
      "EPOCH  4\n"
     ]
    },
    {
     "name": "stderr",
     "output_type": "stream",
     "text": [
      "100%|██████████| 1101/1101 [04:07<00:00,  4.45it/s]\n"
     ]
    },
    {
     "name": "stdout",
     "output_type": "stream",
     "text": [
      "Running Average TRAIN Loss :  182.11714430141188\n",
      "Running Average TRAIN F1-Score :  0.14961801272403316\n",
      "Running Average VAL Loss :  193.1871452331543\n",
      "Running Average VAL F1-Score :  0.12347384231785934\n",
      "\n",
      "\n",
      "EPOCH  5\n"
     ]
    },
    {
     "name": "stderr",
     "output_type": "stream",
     "text": [
      "100%|██████████| 1101/1101 [04:18<00:00,  4.26it/s]\n"
     ]
    },
    {
     "name": "stdout",
     "output_type": "stream",
     "text": [
      "Running Average TRAIN Loss :  176.80548705500325\n",
      "Running Average TRAIN F1-Score :  0.16675004811718938\n",
      "Running Average VAL Loss :  182.52971522013345\n",
      "Running Average VAL F1-Score :  0.12547389169534048\n",
      "\n",
      "\n",
      "EPOCH  6\n"
     ]
    },
    {
     "name": "stderr",
     "output_type": "stream",
     "text": [
      "100%|██████████| 1101/1101 [04:46<00:00,  3.84it/s]\n"
     ]
    },
    {
     "name": "stdout",
     "output_type": "stream",
     "text": [
      "Running Average TRAIN Loss :  175.85148678813383\n",
      "Running Average TRAIN F1-Score :  0.17114506950170533\n",
      "Running Average VAL Loss :  189.09047571818033\n",
      "Running Average VAL F1-Score :  0.1265474340567986\n",
      "\n",
      "\n",
      "EPOCH  7\n"
     ]
    },
    {
     "name": "stderr",
     "output_type": "stream",
     "text": [
      "100%|██████████| 1101/1101 [04:24<00:00,  4.16it/s]\n"
     ]
    },
    {
     "name": "stdout",
     "output_type": "stream",
     "text": [
      "Running Average TRAIN Loss :  175.2610614371235\n",
      "Running Average TRAIN F1-Score :  0.17459158648776532\n",
      "Running Average VAL Loss :  182.13678105672201\n",
      "Running Average VAL F1-Score :  0.12370576957861583\n",
      "\n",
      "\n",
      "EPOCH  8\n"
     ]
    },
    {
     "name": "stderr",
     "output_type": "stream",
     "text": [
      "100%|██████████| 1101/1101 [04:46<00:00,  3.84it/s]\n"
     ]
    },
    {
     "name": "stdout",
     "output_type": "stream",
     "text": [
      "Running Average TRAIN Loss :  174.86334667153838\n",
      "Running Average TRAIN F1-Score :  0.17703850134922958\n",
      "Running Average VAL Loss :  183.13997904459634\n",
      "Running Average VAL F1-Score :  0.129086726034681\n",
      "\n",
      "\n",
      "EPOCH  9\n"
     ]
    },
    {
     "name": "stderr",
     "output_type": "stream",
     "text": [
      "100%|██████████| 1101/1101 [04:25<00:00,  4.14it/s]\n"
     ]
    },
    {
     "name": "stdout",
     "output_type": "stream",
     "text": [
      "Running Average TRAIN Loss :  174.37989780103803\n",
      "Running Average TRAIN F1-Score :  0.17918138524735655\n",
      "Running Average VAL Loss :  184.48975372314453\n",
      "Running Average VAL F1-Score :  0.12907247555752596\n",
      "\n",
      "\n",
      "EPOCH  10\n"
     ]
    },
    {
     "name": "stderr",
     "output_type": "stream",
     "text": [
      "100%|██████████| 1101/1101 [04:24<00:00,  4.17it/s]\n"
     ]
    },
    {
     "name": "stdout",
     "output_type": "stream",
     "text": [
      "Running Average TRAIN Loss :  173.72974364569143\n",
      "Running Average TRAIN F1-Score :  0.18148808733481478\n",
      "Running Average VAL Loss :  182.68622080485025\n",
      "Running Average VAL F1-Score :  0.1298480307062467\n",
      "\n",
      "\n",
      "EPOCH  11\n"
     ]
    },
    {
     "name": "stderr",
     "output_type": "stream",
     "text": [
      "100%|██████████| 1101/1101 [04:49<00:00,  3.81it/s]\n"
     ]
    },
    {
     "name": "stdout",
     "output_type": "stream",
     "text": [
      "Running Average TRAIN Loss :  173.6080572559658\n",
      "Running Average TRAIN F1-Score :  0.18188969870787333\n",
      "Running Average VAL Loss :  181.8809585571289\n",
      "Running Average VAL F1-Score :  0.1267943112179637\n",
      "\n",
      "\n",
      "EPOCH  12\n"
     ]
    },
    {
     "name": "stderr",
     "output_type": "stream",
     "text": [
      "100%|██████████| 1101/1101 [04:24<00:00,  4.16it/s]\n"
     ]
    },
    {
     "name": "stdout",
     "output_type": "stream",
     "text": [
      "Running Average TRAIN Loss :  173.51676064334492\n",
      "Running Average TRAIN F1-Score :  0.1817831956222315\n",
      "Running Average VAL Loss :  187.41485595703125\n",
      "Running Average VAL F1-Score :  0.12853024589518705\n",
      "\n",
      "\n",
      "EPOCH  13\n"
     ]
    },
    {
     "name": "stderr",
     "output_type": "stream",
     "text": [
      "100%|██████████| 1101/1101 [04:50<00:00,  3.79it/s]\n"
     ]
    },
    {
     "name": "stdout",
     "output_type": "stream",
     "text": [
      "Running Average TRAIN Loss :  173.55007289432592\n",
      "Running Average TRAIN F1-Score :  0.18208418206584984\n",
      "Running Average VAL Loss :  181.90434773763022\n",
      "Running Average VAL F1-Score :  0.12774152619143328\n",
      "\n",
      "\n",
      "EPOCH  14\n"
     ]
    },
    {
     "name": "stderr",
     "output_type": "stream",
     "text": [
      "100%|██████████| 1101/1101 [04:26<00:00,  4.12it/s]\n"
     ]
    },
    {
     "name": "stdout",
     "output_type": "stream",
     "text": [
      "Running Average TRAIN Loss :  173.44346844554488\n",
      "Running Average TRAIN F1-Score :  0.18270969045070168\n",
      "Running Average VAL Loss :  180.2229487101237\n",
      "Running Average VAL F1-Score :  0.12518624681979418\n",
      "\n",
      "\n",
      "EPOCH  15\n"
     ]
    },
    {
     "name": "stderr",
     "output_type": "stream",
     "text": [
      "100%|██████████| 1101/1101 [04:55<00:00,  3.73it/s]\n"
     ]
    },
    {
     "name": "stdout",
     "output_type": "stream",
     "text": [
      "Running Average TRAIN Loss :  173.43649655791654\n",
      "Running Average TRAIN F1-Score :  0.18261869370152364\n",
      "Running Average VAL Loss :  189.84337107340494\n",
      "Running Average VAL F1-Score :  0.13037518598139286\n",
      "\n",
      "\n",
      "TRAINING FINISHED\n",
      "FINAL TRAINING SCORE :  0.18261869370152364\n",
      "FINAL VALIDATION SCORE :  0.13037518598139286\n",
      "FINAL TRAINING LOSS :  173.43649655791654\n",
      "FINAL VALIDATION LOSS :  189.84337107340494\n",
      "CPU times: user 2h 7min 3s, sys: 35min 59s, total: 2h 43min 2s\n",
      "Wall time: 1h 32min 39s\n"
     ]
    }
   ],
   "source": [
    "%%time\n",
    "t5_model, t5_losses, t5_scores, train_dataset, _, val_set = train_model(embeddings_source=config.embedding_a_usar,model_type=config.model_type)"
   ]
  },
  {
   "cell_type": "code",
   "execution_count": 20,
   "id": "7ef319c7",
   "metadata": {
    "execution": {
     "iopub.execute_input": "2023-07-21T10:29:03.269990Z",
     "iopub.status.busy": "2023-07-21T10:29:03.269556Z",
     "iopub.status.idle": "2023-07-21T10:29:03.274216Z",
     "shell.execute_reply": "2023-07-21T10:29:03.273113Z"
    },
    "papermill": {
     "duration": 1.496091,
     "end_time": "2023-07-21T10:29:03.276512",
     "exception": false,
     "start_time": "2023-07-21T10:29:01.780421",
     "status": "completed"
    },
    "tags": []
   },
   "outputs": [],
   "source": [
    "# protbert_model, protbert_losses, protbert_scores = train_model(embeddings_source=\"ProtBERT\",model_type=config.model_type)"
   ]
  },
  {
   "cell_type": "markdown",
   "id": "ebb80386",
   "metadata": {
    "papermill": {
     "duration": 1.562994,
     "end_time": "2023-07-21T10:29:06.427111",
     "exception": false,
     "start_time": "2023-07-21T10:29:04.864117",
     "status": "completed"
    },
    "tags": []
   },
   "source": [
    "## 7.3. Train/Val Losses "
   ]
  },
  {
   "cell_type": "markdown",
   "id": "e7155aee",
   "metadata": {
    "papermill": {
     "duration": 1.581788,
     "end_time": "2023-07-21T10:29:09.621292",
     "exception": false,
     "start_time": "2023-07-21T10:29:08.039504",
     "status": "completed"
    },
    "tags": []
   },
   "source": [
    "### Metrica de la competi sobre el conj. de validacion"
   ]
  },
  {
   "cell_type": "code",
   "execution_count": 21,
   "id": "a3bd171f",
   "metadata": {
    "execution": {
     "iopub.execute_input": "2023-07-21T10:29:12.708924Z",
     "iopub.status.busy": "2023-07-21T10:29:12.708369Z",
     "iopub.status.idle": "2023-07-21T10:29:16.673291Z",
     "shell.execute_reply": "2023-07-21T10:29:16.672188Z"
    },
    "papermill": {
     "duration": 5.556121,
     "end_time": "2023-07-21T10:29:16.675803",
     "exception": false,
     "start_time": "2023-07-21T10:29:11.119682",
     "status": "completed"
    },
    "tags": []
   },
   "outputs": [
    {
     "name": "stdout",
     "output_type": "stream",
     "text": [
      "CPU times: user 3.25 s, sys: 640 ms, total: 3.89 s\n",
      "Wall time: 3.96 s\n"
     ]
    }
   ],
   "source": [
    "%%time\n",
    "# Tau array, used to compute metrics at different score thresholds\n",
    "th_step = 0.01\n",
    "tau_arr = np.arange(0.01, 1, th_step)\n",
    "#Consider terms without parents, e.g. the root(s), in the evaluation\n",
    "no_orphans = False\n",
    "# Parse and set information accretion (optional)\n",
    "ia_dict = ia_parser('/kaggle/input/cafa-5-protein-function-prediction/IA.txt')\n",
    "\n",
    "# Parse the OBO file and creates a different graph for each namespace\n",
    "ontologies = []\n",
    "obo_file = '/kaggle/input/cafa-5-protein-function-prediction/Train/go-basic.obo'\n",
    "for ns, terms_dict in obo_parser(obo_file).items():\n",
    "    ontologies.append(Graph(ns, terms_dict, ia_dict, not no_orphans))"
   ]
  },
  {
   "cell_type": "code",
   "execution_count": 22,
   "id": "b86e5734",
   "metadata": {
    "execution": {
     "iopub.execute_input": "2023-07-21T10:29:19.777565Z",
     "iopub.status.busy": "2023-07-21T10:29:19.777120Z",
     "iopub.status.idle": "2023-07-21T10:29:42.116538Z",
     "shell.execute_reply": "2023-07-21T10:29:42.115200Z"
    },
    "papermill": {
     "duration": 23.919562,
     "end_time": "2023-07-21T10:29:42.119370",
     "exception": false,
     "start_time": "2023-07-21T10:29:18.199808",
     "status": "completed"
    },
    "tags": []
   },
   "outputs": [
    {
     "name": "stdout",
     "output_type": "stream",
     "text": [
      "CPU times: user 20.7 s, sys: 663 ms, total: 21.4 s\n",
      "Wall time: 22.3 s\n"
     ]
    }
   ],
   "source": [
    "%%time\n",
    "trainTerms = pd.read_csv('/kaggle/input/cafa-5-protein-function-prediction/Train/train_terms.tsv',\n",
    "                         sep=\"\\t\")\n",
    "\n",
    "trainTerms.loc[trainTerms.EntryID.isin(train_dataset.df.loc[val_set.indices].EntryID)].to_csv('valid.tsv', \n",
    "                                                        sep='\\t', index=False)\n",
    "\n",
    "gt = gt_parser('valid.tsv', ontologies)"
   ]
  },
  {
   "cell_type": "code",
   "execution_count": 23,
   "id": "4e42a2dc",
   "metadata": {
    "execution": {
     "iopub.execute_input": "2023-07-21T10:29:45.200078Z",
     "iopub.status.busy": "2023-07-21T10:29:45.199390Z",
     "iopub.status.idle": "2023-07-21T10:29:45.204842Z",
     "shell.execute_reply": "2023-07-21T10:29:45.203732Z"
    },
    "papermill": {
     "duration": 1.502927,
     "end_time": "2023-07-21T10:29:45.207281",
     "exception": false,
     "start_time": "2023-07-21T10:29:43.704354",
     "status": "completed"
    },
    "tags": []
   },
   "outputs": [],
   "source": [
    "val_dataloader = torch.utils.data.DataLoader(val_set, batch_size=1, shuffle=True)"
   ]
  },
  {
   "cell_type": "code",
   "execution_count": 24,
   "id": "10bf0615",
   "metadata": {
    "execution": {
     "iopub.execute_input": "2023-07-21T10:29:48.314067Z",
     "iopub.status.busy": "2023-07-21T10:29:48.313361Z",
     "iopub.status.idle": "2023-07-21T10:29:57.870556Z",
     "shell.execute_reply": "2023-07-21T10:29:57.869195Z"
    },
    "papermill": {
     "duration": 11.073879,
     "end_time": "2023-07-21T10:29:57.873023",
     "exception": false,
     "start_time": "2023-07-21T10:29:46.799144",
     "status": "completed"
    },
    "tags": []
   },
   "outputs": [
    {
     "name": "stdout",
     "output_type": "stream",
     "text": [
      "GENERATE PREDICTION FOR TEST SET...\n"
     ]
    },
    {
     "name": "stderr",
     "output_type": "stream",
     "text": [
      "1423it [00:04, 287.52it/s]\n"
     ]
    }
   ],
   "source": [
    "labels = pd.read_csv(config.train_labels_path, sep = \"\\t\")\n",
    "top_terms = labels.groupby(\"term\")[\"EntryID\"].count().sort_values(ascending=False)\n",
    "labels_names = top_terms[:config.num_labels].index.values\n",
    "print(\"GENERATE PREDICTION FOR TEST SET...\")\n",
    "\n",
    "ids_ = np.empty(shape=(len(val_dataloader)*config.num_labels,), dtype=object)\n",
    "go_terms_ = np.empty(shape=(len(val_dataloader)*config.num_labels,), dtype=object)\n",
    "confs_ = np.empty(shape=(len(val_dataloader)*config.num_labels,), dtype=np.float32)\n",
    "\n",
    "#t5_model.eval()\n",
    "\n",
    "for i, (data) in tqdm(enumerate(val_dataloader)):\n",
    "    embed = data[0]\n",
    "    ids = data[2]\n",
    "    embed = embed.to(config.device)\n",
    "    confs_[i*config.num_labels:(i+1)*config.num_labels] = torch.nn.functional.sigmoid(t5_model(embed)).squeeze().detach().cpu().numpy()\n",
    "    ids_[i*config.num_labels:(i+1)*config.num_labels] = ids[0]\n",
    "    go_terms_[i*config.num_labels:(i+1)*config.num_labels] = labels_names"
   ]
  },
  {
   "cell_type": "code",
   "execution_count": 25,
   "id": "7382a54d",
   "metadata": {
    "execution": {
     "iopub.execute_input": "2023-07-21T10:30:00.997227Z",
     "iopub.status.busy": "2023-07-21T10:30:00.996796Z",
     "iopub.status.idle": "2023-07-21T10:30:01.090274Z",
     "shell.execute_reply": "2023-07-21T10:30:01.089115Z"
    },
    "papermill": {
     "duration": 1.620522,
     "end_time": "2023-07-21T10:30:01.093130",
     "exception": false,
     "start_time": "2023-07-21T10:29:59.472608",
     "status": "completed"
    },
    "tags": []
   },
   "outputs": [],
   "source": [
    "val_df = pd.DataFrame(data={\"Id\" : ids_, \"GO term\" : go_terms_, \"Confidence\" : confs_})"
   ]
  },
  {
   "cell_type": "code",
   "execution_count": 26,
   "id": "099d211b",
   "metadata": {
    "execution": {
     "iopub.execute_input": "2023-07-21T10:30:04.177081Z",
     "iopub.status.busy": "2023-07-21T10:30:04.176129Z",
     "iopub.status.idle": "2023-07-21T10:34:29.139232Z",
     "shell.execute_reply": "2023-07-21T10:34:29.137960Z"
    },
    "papermill": {
     "duration": 268.052206,
     "end_time": "2023-07-21T10:34:30.733419",
     "exception": false,
     "start_time": "2023-07-21T10:30:02.681213",
     "status": "completed"
    },
    "tags": []
   },
   "outputs": [
    {
     "name": "stdout",
     "output_type": "stream",
     "text": [
      "wf    0.538694\n",
      "dtype: float64\n",
      "                          wf\n",
      "ns                          \n",
      "biological_process  0.406829\n",
      "cellular_component  0.588851\n",
      "molecular_function  0.620401\n",
      "f    0.605291\n",
      "dtype: float64\n",
      "                           f\n",
      "ns                          \n",
      "biological_process  0.451688\n",
      "cellular_component  0.685708\n",
      "molecular_function  0.678476\n"
     ]
    }
   ],
   "source": [
    "final_preds_parser = pred_parser(val_df.values, ontologies, gt, prop_mode='fill', max_terms=500)\n",
    "df_metrics = evaluate_prediction(final_preds_parser, gt, ontologies, tau_arr, n_cpu=1)\n",
    "print(df_metrics.groupby('ns').agg({'wf':'max'}).mean())\n",
    "print(df_metrics.groupby('ns').agg({'wf':'max'}))\n",
    "print(df_metrics.groupby('ns').agg({'f':'max'}).mean())\n",
    "print(df_metrics.groupby('ns').agg({'f':'max'}))"
   ]
  },
  {
   "cell_type": "markdown",
   "id": "1fb5dd8c",
   "metadata": {
    "papermill": {
     "duration": 1.582851,
     "end_time": "2023-07-21T10:34:33.801604",
     "exception": false,
     "start_time": "2023-07-21T10:34:32.218753",
     "status": "completed"
    },
    "tags": []
   },
   "source": [
    "#### filtrando 0.3"
   ]
  },
  {
   "cell_type": "code",
   "execution_count": 27,
   "id": "0d2a13d8",
   "metadata": {
    "execution": {
     "iopub.execute_input": "2023-07-21T10:34:36.777778Z",
     "iopub.status.busy": "2023-07-21T10:34:36.777361Z",
     "iopub.status.idle": "2023-07-21T10:36:19.026864Z",
     "shell.execute_reply": "2023-07-21T10:36:19.025746Z"
    },
    "papermill": {
     "duration": 105.328977,
     "end_time": "2023-07-21T10:36:20.611119",
     "exception": false,
     "start_time": "2023-07-21T10:34:35.282142",
     "status": "completed"
    },
    "tags": []
   },
   "outputs": [
    {
     "name": "stdout",
     "output_type": "stream",
     "text": [
      "wf    0.552157\n",
      "dtype: float64\n",
      "                          wf\n",
      "ns                          \n",
      "biological_process  0.447225\n",
      "cellular_component  0.588844\n",
      "molecular_function  0.620401\n",
      "f    0.615633\n",
      "dtype: float64\n",
      "                           f\n",
      "ns                          \n",
      "biological_process  0.482672\n",
      "cellular_component  0.685700\n",
      "molecular_function  0.678529\n"
     ]
    }
   ],
   "source": [
    "val_df = val_df[val_df.Confidence > 0.3]\n",
    "\n",
    "final_preds_parser = pred_parser(val_df.values, ontologies, gt, prop_mode='fill', max_terms=500)\n",
    "df_metrics = evaluate_prediction(final_preds_parser, gt, ontologies, tau_arr, n_cpu=1)\n",
    "print(df_metrics.groupby('ns').agg({'wf':'max'}).mean())\n",
    "print(df_metrics.groupby('ns').agg({'wf':'max'}))\n",
    "print(df_metrics.groupby('ns').agg({'f':'max'}).mean())\n",
    "print(df_metrics.groupby('ns').agg({'f':'max'}))"
   ]
  },
  {
   "cell_type": "code",
   "execution_count": 28,
   "id": "c51ce6a2",
   "metadata": {
    "execution": {
     "iopub.execute_input": "2023-07-21T10:36:23.684221Z",
     "iopub.status.busy": "2023-07-21T10:36:23.683234Z",
     "iopub.status.idle": "2023-07-21T10:36:24.155192Z",
     "shell.execute_reply": "2023-07-21T10:36:24.154033Z"
    },
    "papermill": {
     "duration": 1.95966,
     "end_time": "2023-07-21T10:36:24.157773",
     "exception": false,
     "start_time": "2023-07-21T10:36:22.198113",
     "status": "completed"
    },
    "tags": []
   },
   "outputs": [
    {
     "data": {
      "text/plain": [
       "0"
      ]
     },
     "execution_count": 28,
     "metadata": {},
     "output_type": "execute_result"
    }
   ],
   "source": [
    "# del ia_dict, ontologies, obo_file, trainTerms, gt, preds_list, preds_list_final, labels, top_terms, labels_names, final_preds\n",
    "gc.collect()"
   ]
  },
  {
   "cell_type": "code",
   "execution_count": 29,
   "id": "54f704c2",
   "metadata": {
    "execution": {
     "iopub.execute_input": "2023-07-21T10:36:27.307666Z",
     "iopub.status.busy": "2023-07-21T10:36:27.307245Z",
     "iopub.status.idle": "2023-07-21T10:36:27.964151Z",
     "shell.execute_reply": "2023-07-21T10:36:27.962948Z"
    },
    "papermill": {
     "duration": 2.180062,
     "end_time": "2023-07-21T10:36:27.966700",
     "exception": false,
     "start_time": "2023-07-21T10:36:25.786638",
     "status": "completed"
    },
    "tags": []
   },
   "outputs": [
    {
     "data": {
      "image/png": "[encoded data removed]",
      "text/plain": [
       "<Figure size 1000x400 with 1 Axes>"
      ]
     },
     "metadata": {},
     "output_type": "display_data"
    },
    {
     "data": {
      "image/png": "[encoded data removed]",
      "text/plain": [
       "<Figure size 1000x400 with 1 Axes>"
      ]
     },
     "metadata": {},
     "output_type": "display_data"
    }
   ],
   "source": [
    "plt.figure(figsize = (10, 4))\n",
    "# plt.plot(ems2_losses[\"val\"], label = \"EMS2\")\n",
    "plt.plot(t5_losses[\"val\"], label = \"T5\")\n",
    "# plt.plot(protbert_losses[\"val\"], label = \"ProtBERT\")\n",
    "plt.title(\"Validation Losses for # Vector Embeddings\")\n",
    "plt.xlabel(\"Epochs\")\n",
    "plt.ylabel(\"Average Loss\")\n",
    "plt.legend()\n",
    "plt.show()\n",
    "\n",
    "plt.figure(figsize = (10, 4))\n",
    "# plt.plot(ems2_scores[\"val\"], label = \"EMS2\")\n",
    "plt.plot(t5_scores[\"val\"], label = \"T5\")\n",
    "# plt.plot(protbert_scores[\"val\"], label = \"ProtBERT\")\n",
    "plt.title(\"Validation F1-Scores for # Vector Embeddings\")\n",
    "plt.xlabel(\"Epochs\")\n",
    "plt.ylabel(\"Average F1-Score\")\n",
    "plt.legend()\n",
    "plt.show()"
   ]
  },
  {
   "cell_type": "markdown",
   "id": "db7c5971",
   "metadata": {
    "papermill": {
     "duration": 1.592512,
     "end_time": "2023-07-21T10:36:31.146091",
     "exception": false,
     "start_time": "2023-07-21T10:36:29.553579",
     "status": "completed"
    },
    "tags": []
   },
   "source": [
    "# 9. Make Predictions"
   ]
  },
  {
   "cell_type": "code",
   "execution_count": 30,
   "id": "013fd9c7",
   "metadata": {
    "execution": {
     "iopub.execute_input": "2023-07-21T10:36:34.237231Z",
     "iopub.status.busy": "2023-07-21T10:36:34.236530Z",
     "iopub.status.idle": "2023-07-21T10:36:34.250891Z",
     "shell.execute_reply": "2023-07-21T10:36:34.249931Z"
    },
    "papermill": {
     "duration": 1.609322,
     "end_time": "2023-07-21T10:36:34.253339",
     "exception": false,
     "start_time": "2023-07-21T10:36:32.644017",
     "status": "completed"
    },
    "tags": []
   },
   "outputs": [],
   "source": [
    "def predict(embeddings_source, final_labels_shape = 3000):\n",
    "    \n",
    "    test_dataset = ProteinSequenceDataset(datatype=\"test\", embeddings_source = embeddings_source)\n",
    "    test_dataloader = torch.utils.data.DataLoader(test_dataset, batch_size=1, shuffle=False)\n",
    "    \n",
    "    if embeddings_source == \"T5\" or embeddings_source == \"EMS2_t36\":\n",
    "        model = t5_model\n",
    "    if embeddings_source == \"ProtBERT\":\n",
    "        model = protbert_model\n",
    "    if embeddings_source == \"EMS2\":\n",
    "        model = ems2_model\n",
    "        \n",
    "    model.eval()\n",
    "    \n",
    "    labels = pd.read_csv(config.train_labels_path, sep = \"\\t\")\n",
    "    top_terms = labels.groupby(\"term\")[\"EntryID\"].count().sort_values(ascending=False)\n",
    "    labels_names = top_terms[:final_labels_shape].index.values\n",
    "    print(\"GENERATE PREDICTION FOR TEST SET...\")\n",
    "\n",
    "    ids_ = np.empty(shape=(len(test_dataloader)*final_labels_shape,), dtype=object)\n",
    "    go_terms_ = np.empty(shape=(len(test_dataloader)*final_labels_shape,), dtype=object)\n",
    "    confs_ = np.empty(shape=(len(test_dataloader)*final_labels_shape,), dtype=np.float32)\n",
    "\n",
    "    for i, (embed, id) in tqdm(enumerate(test_dataloader)):\n",
    "        embed = embed.to(config.device)\n",
    "        confs_[i*final_labels_shape:(i+1)*final_labels_shape] = torch.nn.functional.sigmoid(model(embed)).squeeze().detach().cpu().numpy()[:final_labels_shape]\n",
    "        ids_[i*final_labels_shape:(i+1)*final_labels_shape] = id[0]\n",
    "        go_terms_[i*final_labels_shape:(i+1)*final_labels_shape] = labels_names\n",
    "\n",
    "    submission_df = pd.DataFrame(data={\"Id\" : ids_, \"GO term\" : go_terms_, \"Confidence\" : confs_})\n",
    "    print(\"PREDICTIONS DONE\")\n",
    "    return submission_df"
   ]
  },
  {
   "cell_type": "code",
   "execution_count": 31,
   "id": "e3562cc6",
   "metadata": {
    "execution": {
     "iopub.execute_input": "2023-07-21T10:36:37.375334Z",
     "iopub.status.busy": "2023-07-21T10:36:37.374897Z",
     "iopub.status.idle": "2023-07-21T11:08:32.208235Z",
     "shell.execute_reply": "2023-07-21T11:08:32.205521Z"
    },
    "papermill": {
     "duration": 1916.467964,
     "end_time": "2023-07-21T11:08:32.219631",
     "exception": false,
     "start_time": "2023-07-21T10:36:35.751667",
     "status": "completed"
    },
    "tags": []
   },
   "outputs": [
    {
     "name": "stdout",
     "output_type": "stream",
     "text": [
      "Memory usage of dataframe is 2770.80 MB\n",
      "Memory usage after optimization is: 692.70 MB\n",
      "Decreased by 75.0%\n",
      "GENERATE PREDICTION FOR TEST SET...\n"
     ]
    },
    {
     "name": "stderr",
     "output_type": "stream",
     "text": [
      "141865it [07:18, 323.79it/s]\n"
     ]
    },
    {
     "name": "stdout",
     "output_type": "stream",
     "text": [
      "PREDICTIONS DONE\n"
     ]
    }
   ],
   "source": [
    "submission_df = predict(config.embedding_a_usar, final_labels_shape = config.num_labels)"
   ]
  },
  {
   "cell_type": "code",
   "execution_count": 32,
   "id": "2669700f",
   "metadata": {
    "execution": {
     "iopub.execute_input": "2023-07-21T11:08:36.862290Z",
     "iopub.status.busy": "2023-07-21T11:08:36.861812Z",
     "iopub.status.idle": "2023-07-21T11:08:36.881083Z",
     "shell.execute_reply": "2023-07-21T11:08:36.879916Z"
    },
    "papermill": {
     "duration": 1.993804,
     "end_time": "2023-07-21T11:08:36.883296",
     "exception": false,
     "start_time": "2023-07-21T11:08:34.889492",
     "status": "completed"
    },
    "tags": []
   },
   "outputs": [
    {
     "data": {
      "text/html": [
       "<div>\n",
       "<style scoped>\n",
       "    .dataframe tbody tr th:only-of-type {\n",
       "        vertical-align: middle;\n",
       "    }\n",
       "\n",
       "    .dataframe tbody tr th {\n",
       "        vertical-align: top;\n",
       "    }\n",
       "\n",
       "    .dataframe thead th {\n",
       "        text-align: right;\n",
       "    }\n",
       "</style>\n",
       "<table border=\"1\" class=\"dataframe\">\n",
       "  <thead>\n",
       "    <tr style=\"text-align: right;\">\n",
       "      <th></th>\n",
       "      <th>Id</th>\n",
       "      <th>GO term</th>\n",
       "      <th>Confidence</th>\n",
       "    </tr>\n",
       "  </thead>\n",
       "  <tbody>\n",
       "    <tr>\n",
       "      <th>0</th>\n",
       "      <td>Q9CQV8</td>\n",
       "      <td>GO:0005575</td>\n",
       "      <td>0.873281</td>\n",
       "    </tr>\n",
       "    <tr>\n",
       "      <th>1</th>\n",
       "      <td>Q9CQV8</td>\n",
       "      <td>GO:0008150</td>\n",
       "      <td>0.879273</td>\n",
       "    </tr>\n",
       "    <tr>\n",
       "      <th>2</th>\n",
       "      <td>Q9CQV8</td>\n",
       "      <td>GO:0110165</td>\n",
       "      <td>0.870741</td>\n",
       "    </tr>\n",
       "    <tr>\n",
       "      <th>3</th>\n",
       "      <td>Q9CQV8</td>\n",
       "      <td>GO:0003674</td>\n",
       "      <td>0.878819</td>\n",
       "    </tr>\n",
       "    <tr>\n",
       "      <th>4</th>\n",
       "      <td>Q9CQV8</td>\n",
       "      <td>GO:0005622</td>\n",
       "      <td>0.847579</td>\n",
       "    </tr>\n",
       "    <tr>\n",
       "      <th>5</th>\n",
       "      <td>Q9CQV8</td>\n",
       "      <td>GO:0009987</td>\n",
       "      <td>0.835890</td>\n",
       "    </tr>\n",
       "    <tr>\n",
       "      <th>6</th>\n",
       "      <td>Q9CQV8</td>\n",
       "      <td>GO:0043226</td>\n",
       "      <td>0.825081</td>\n",
       "    </tr>\n",
       "    <tr>\n",
       "      <th>7</th>\n",
       "      <td>Q9CQV8</td>\n",
       "      <td>GO:0043229</td>\n",
       "      <td>0.793110</td>\n",
       "    </tr>\n",
       "    <tr>\n",
       "      <th>8</th>\n",
       "      <td>Q9CQV8</td>\n",
       "      <td>GO:0005488</td>\n",
       "      <td>0.878844</td>\n",
       "    </tr>\n",
       "    <tr>\n",
       "      <th>9</th>\n",
       "      <td>Q9CQV8</td>\n",
       "      <td>GO:0043227</td>\n",
       "      <td>0.816017</td>\n",
       "    </tr>\n",
       "    <tr>\n",
       "      <th>10</th>\n",
       "      <td>Q9CQV8</td>\n",
       "      <td>GO:0005737</td>\n",
       "      <td>0.842160</td>\n",
       "    </tr>\n",
       "    <tr>\n",
       "      <th>11</th>\n",
       "      <td>Q9CQV8</td>\n",
       "      <td>GO:0043231</td>\n",
       "      <td>0.758471</td>\n",
       "    </tr>\n",
       "    <tr>\n",
       "      <th>12</th>\n",
       "      <td>Q9CQV8</td>\n",
       "      <td>GO:0005515</td>\n",
       "      <td>0.873136</td>\n",
       "    </tr>\n",
       "    <tr>\n",
       "      <th>13</th>\n",
       "      <td>Q9CQV8</td>\n",
       "      <td>GO:0065007</td>\n",
       "      <td>0.846208</td>\n",
       "    </tr>\n",
       "    <tr>\n",
       "      <th>14</th>\n",
       "      <td>Q9CQV8</td>\n",
       "      <td>GO:0050789</td>\n",
       "      <td>0.837109</td>\n",
       "    </tr>\n",
       "    <tr>\n",
       "      <th>15</th>\n",
       "      <td>Q9CQV8</td>\n",
       "      <td>GO:0050794</td>\n",
       "      <td>0.825625</td>\n",
       "    </tr>\n",
       "    <tr>\n",
       "      <th>16</th>\n",
       "      <td>Q9CQV8</td>\n",
       "      <td>GO:0050896</td>\n",
       "      <td>0.676950</td>\n",
       "    </tr>\n",
       "    <tr>\n",
       "      <th>17</th>\n",
       "      <td>Q9CQV8</td>\n",
       "      <td>GO:0008152</td>\n",
       "      <td>0.317273</td>\n",
       "    </tr>\n",
       "    <tr>\n",
       "      <th>18</th>\n",
       "      <td>Q9CQV8</td>\n",
       "      <td>GO:0032501</td>\n",
       "      <td>0.684903</td>\n",
       "    </tr>\n",
       "    <tr>\n",
       "      <th>19</th>\n",
       "      <td>Q9CQV8</td>\n",
       "      <td>GO:0005634</td>\n",
       "      <td>0.753849</td>\n",
       "    </tr>\n",
       "    <tr>\n",
       "      <th>20</th>\n",
       "      <td>Q9CQV8</td>\n",
       "      <td>GO:0032502</td>\n",
       "      <td>0.717255</td>\n",
       "    </tr>\n",
       "    <tr>\n",
       "      <th>21</th>\n",
       "      <td>Q9CQV8</td>\n",
       "      <td>GO:0071704</td>\n",
       "      <td>0.259148</td>\n",
       "    </tr>\n",
       "    <tr>\n",
       "      <th>22</th>\n",
       "      <td>Q9CQV8</td>\n",
       "      <td>GO:0048856</td>\n",
       "      <td>0.722440</td>\n",
       "    </tr>\n",
       "    <tr>\n",
       "      <th>23</th>\n",
       "      <td>Q9CQV8</td>\n",
       "      <td>GO:0016020</td>\n",
       "      <td>0.551350</td>\n",
       "    </tr>\n",
       "    <tr>\n",
       "      <th>24</th>\n",
       "      <td>Q9CQV8</td>\n",
       "      <td>GO:0003824</td>\n",
       "      <td>0.104180</td>\n",
       "    </tr>\n",
       "    <tr>\n",
       "      <th>25</th>\n",
       "      <td>Q9CQV8</td>\n",
       "      <td>GO:0044237</td>\n",
       "      <td>0.236811</td>\n",
       "    </tr>\n",
       "    <tr>\n",
       "      <th>26</th>\n",
       "      <td>Q9CQV8</td>\n",
       "      <td>GO:0044238</td>\n",
       "      <td>0.205029</td>\n",
       "    </tr>\n",
       "    <tr>\n",
       "      <th>27</th>\n",
       "      <td>Q9CQV8</td>\n",
       "      <td>GO:0007275</td>\n",
       "      <td>0.672223</td>\n",
       "    </tr>\n",
       "    <tr>\n",
       "      <th>28</th>\n",
       "      <td>Q9CQV8</td>\n",
       "      <td>GO:0006807</td>\n",
       "      <td>0.176330</td>\n",
       "    </tr>\n",
       "    <tr>\n",
       "      <th>29</th>\n",
       "      <td>Q9CQV8</td>\n",
       "      <td>GO:0071944</td>\n",
       "      <td>0.607145</td>\n",
       "    </tr>\n",
       "    <tr>\n",
       "      <th>30</th>\n",
       "      <td>Q9CQV8</td>\n",
       "      <td>GO:0071840</td>\n",
       "      <td>0.599884</td>\n",
       "    </tr>\n",
       "    <tr>\n",
       "      <th>31</th>\n",
       "      <td>Q9CQV8</td>\n",
       "      <td>GO:0019222</td>\n",
       "      <td>0.776157</td>\n",
       "    </tr>\n",
       "    <tr>\n",
       "      <th>32</th>\n",
       "      <td>Q9CQV8</td>\n",
       "      <td>GO:0016043</td>\n",
       "      <td>0.606027</td>\n",
       "    </tr>\n",
       "    <tr>\n",
       "      <th>33</th>\n",
       "      <td>Q9CQV8</td>\n",
       "      <td>GO:0048518</td>\n",
       "      <td>0.561410</td>\n",
       "    </tr>\n",
       "    <tr>\n",
       "      <th>34</th>\n",
       "      <td>Q9CQV8</td>\n",
       "      <td>GO:0005829</td>\n",
       "      <td>0.763354</td>\n",
       "    </tr>\n",
       "    <tr>\n",
       "      <th>35</th>\n",
       "      <td>Q9CQV8</td>\n",
       "      <td>GO:0043170</td>\n",
       "      <td>0.175465</td>\n",
       "    </tr>\n",
       "    <tr>\n",
       "      <th>36</th>\n",
       "      <td>Q9CQV8</td>\n",
       "      <td>GO:0048731</td>\n",
       "      <td>0.616300</td>\n",
       "    </tr>\n",
       "    <tr>\n",
       "      <th>37</th>\n",
       "      <td>Q9CQV8</td>\n",
       "      <td>GO:0060255</td>\n",
       "      <td>0.751611</td>\n",
       "    </tr>\n",
       "    <tr>\n",
       "      <th>38</th>\n",
       "      <td>Q9CQV8</td>\n",
       "      <td>GO:0051716</td>\n",
       "      <td>0.666462</td>\n",
       "    </tr>\n",
       "    <tr>\n",
       "      <th>39</th>\n",
       "      <td>Q9CQV8</td>\n",
       "      <td>GO:0005886</td>\n",
       "      <td>0.494977</td>\n",
       "    </tr>\n",
       "    <tr>\n",
       "      <th>40</th>\n",
       "      <td>Q9CQV8</td>\n",
       "      <td>GO:0032991</td>\n",
       "      <td>0.444575</td>\n",
       "    </tr>\n",
       "    <tr>\n",
       "      <th>41</th>\n",
       "      <td>Q9CQV8</td>\n",
       "      <td>GO:0043228</td>\n",
       "      <td>0.483731</td>\n",
       "    </tr>\n",
       "    <tr>\n",
       "      <th>42</th>\n",
       "      <td>Q9CQV8</td>\n",
       "      <td>GO:0043232</td>\n",
       "      <td>0.480472</td>\n",
       "    </tr>\n",
       "    <tr>\n",
       "      <th>43</th>\n",
       "      <td>Q9CQV8</td>\n",
       "      <td>GO:0031974</td>\n",
       "      <td>0.281276</td>\n",
       "    </tr>\n",
       "    <tr>\n",
       "      <th>44</th>\n",
       "      <td>Q9CQV8</td>\n",
       "      <td>GO:0043233</td>\n",
       "      <td>0.279639</td>\n",
       "    </tr>\n",
       "    <tr>\n",
       "      <th>45</th>\n",
       "      <td>Q9CQV8</td>\n",
       "      <td>GO:0070013</td>\n",
       "      <td>0.281229</td>\n",
       "    </tr>\n",
       "    <tr>\n",
       "      <th>46</th>\n",
       "      <td>Q9CQV8</td>\n",
       "      <td>GO:0048519</td>\n",
       "      <td>0.701326</td>\n",
       "    </tr>\n",
       "    <tr>\n",
       "      <th>47</th>\n",
       "      <td>Q9CQV8</td>\n",
       "      <td>GO:0048522</td>\n",
       "      <td>0.513504</td>\n",
       "    </tr>\n",
       "    <tr>\n",
       "      <th>48</th>\n",
       "      <td>Q9CQV8</td>\n",
       "      <td>GO:0080090</td>\n",
       "      <td>0.744129</td>\n",
       "    </tr>\n",
       "    <tr>\n",
       "      <th>49</th>\n",
       "      <td>Q9CQV8</td>\n",
       "      <td>GO:0031323</td>\n",
       "      <td>0.714484</td>\n",
       "    </tr>\n",
       "  </tbody>\n",
       "</table>\n",
       "</div>"
      ],
      "text/plain": [
       "        Id     GO term  Confidence\n",
       "0   Q9CQV8  GO:0005575    0.873281\n",
       "1   Q9CQV8  GO:0008150    0.879273\n",
       "2   Q9CQV8  GO:0110165    0.870741\n",
       "3   Q9CQV8  GO:0003674    0.878819\n",
       "4   Q9CQV8  GO:0005622    0.847579\n",
       "5   Q9CQV8  GO:0009987    0.835890\n",
       "6   Q9CQV8  GO:0043226    0.825081\n",
       "7   Q9CQV8  GO:0043229    0.793110\n",
       "8   Q9CQV8  GO:0005488    0.878844\n",
       "9   Q9CQV8  GO:0043227    0.816017\n",
       "10  Q9CQV8  GO:0005737    0.842160\n",
       "11  Q9CQV8  GO:0043231    0.758471\n",
       "12  Q9CQV8  GO:0005515    0.873136\n",
       "13  Q9CQV8  GO:0065007    0.846208\n",
       "14  Q9CQV8  GO:0050789    0.837109\n",
       "15  Q9CQV8  GO:0050794    0.825625\n",
       "16  Q9CQV8  GO:0050896    0.676950\n",
       "17  Q9CQV8  GO:0008152    0.317273\n",
       "18  Q9CQV8  GO:0032501    0.684903\n",
       "19  Q9CQV8  GO:0005634    0.753849\n",
       "20  Q9CQV8  GO:0032502    0.717255\n",
       "21  Q9CQV8  GO:0071704    0.259148\n",
       "22  Q9CQV8  GO:0048856    0.722440\n",
       "23  Q9CQV8  GO:0016020    0.551350\n",
       "24  Q9CQV8  GO:0003824    0.104180\n",
       "25  Q9CQV8  GO:0044237    0.236811\n",
       "26  Q9CQV8  GO:0044238    0.205029\n",
       "27  Q9CQV8  GO:0007275    0.672223\n",
       "28  Q9CQV8  GO:0006807    0.176330\n",
       "29  Q9CQV8  GO:0071944    0.607145\n",
       "30  Q9CQV8  GO:0071840    0.599884\n",
       "31  Q9CQV8  GO:0019222    0.776157\n",
       "32  Q9CQV8  GO:0016043    0.606027\n",
       "33  Q9CQV8  GO:0048518    0.561410\n",
       "34  Q9CQV8  GO:0005829    0.763354\n",
       "35  Q9CQV8  GO:0043170    0.175465\n",
       "36  Q9CQV8  GO:0048731    0.616300\n",
       "37  Q9CQV8  GO:0060255    0.751611\n",
       "38  Q9CQV8  GO:0051716    0.666462\n",
       "39  Q9CQV8  GO:0005886    0.494977\n",
       "40  Q9CQV8  GO:0032991    0.444575\n",
       "41  Q9CQV8  GO:0043228    0.483731\n",
       "42  Q9CQV8  GO:0043232    0.480472\n",
       "43  Q9CQV8  GO:0031974    0.281276\n",
       "44  Q9CQV8  GO:0043233    0.279639\n",
       "45  Q9CQV8  GO:0070013    0.281229\n",
       "46  Q9CQV8  GO:0048519    0.701326\n",
       "47  Q9CQV8  GO:0048522    0.513504\n",
       "48  Q9CQV8  GO:0080090    0.744129\n",
       "49  Q9CQV8  GO:0031323    0.714484"
      ]
     },
     "execution_count": 32,
     "metadata": {},
     "output_type": "execute_result"
    }
   ],
   "source": [
    "submission_df.head(50)"
   ]
  },
  {
   "cell_type": "code",
   "execution_count": 33,
   "id": "ee35c60b",
   "metadata": {
    "execution": {
     "iopub.execute_input": "2023-07-21T11:08:40.767639Z",
     "iopub.status.busy": "2023-07-21T11:08:40.767188Z",
     "iopub.status.idle": "2023-07-21T11:08:45.466803Z",
     "shell.execute_reply": "2023-07-21T11:08:45.465566Z"
    },
    "papermill": {
     "duration": 6.685591,
     "end_time": "2023-07-21T11:08:45.469689",
     "exception": false,
     "start_time": "2023-07-21T11:08:38.784098",
     "status": "completed"
    },
    "tags": []
   },
   "outputs": [],
   "source": [
    "submission_df = submission_df[submission_df.Confidence >= 0.3]"
   ]
  },
  {
   "cell_type": "code",
   "execution_count": 34,
   "id": "002e0600",
   "metadata": {
    "execution": {
     "iopub.execute_input": "2023-07-21T11:08:49.331147Z",
     "iopub.status.busy": "2023-07-21T11:08:49.330274Z",
     "iopub.status.idle": "2023-07-21T11:08:49.337703Z",
     "shell.execute_reply": "2023-07-21T11:08:49.336650Z"
    },
    "papermill": {
     "duration": 1.980602,
     "end_time": "2023-07-21T11:08:49.340093",
     "exception": false,
     "start_time": "2023-07-21T11:08:47.359491",
     "status": "completed"
    },
    "tags": []
   },
   "outputs": [
    {
     "data": {
      "text/plain": [
       "27451317"
      ]
     },
     "execution_count": 34,
     "metadata": {},
     "output_type": "execute_result"
    }
   ],
   "source": [
    "len(submission_df)"
   ]
  },
  {
   "cell_type": "code",
   "execution_count": 35,
   "id": "010473f5",
   "metadata": {
    "execution": {
     "iopub.execute_input": "2023-07-21T11:08:53.284454Z",
     "iopub.status.busy": "2023-07-21T11:08:53.283755Z",
     "iopub.status.idle": "2023-07-21T11:10:59.451855Z",
     "shell.execute_reply": "2023-07-21T11:10:59.450437Z"
    },
    "papermill": {
     "duration": 128.148695,
     "end_time": "2023-07-21T11:10:59.454939",
     "exception": false,
     "start_time": "2023-07-21T11:08:51.306244",
     "status": "completed"
    },
    "tags": []
   },
   "outputs": [],
   "source": [
    "submission_df.to_csv('submission.tsv', sep='\\t', index=False)"
   ]
  }
 ],
 "metadata": {
  "kernelspec": {
   "display_name": "Python 3",
   "language": "python",
   "name": "python3"
  },
  "language_info": {
   "codemirror_mode": {
    "name": "ipython",
    "version": 3
   },
   "file_extension": ".py",
   "mimetype": "text/x-python",
   "name": "python",
   "nbconvert_exporter": "python",
   "pygments_lexer": "ipython3",
   "version": "3.10.10"
  },
  "papermill": {
   "default_parameters": {},
   "duration": 8115.227505,
   "end_time": "2023-07-21T11:11:04.796816",
   "environment_variables": {},
   "exception": null,
   "input_path": "__notebook__.ipynb",
   "output_path": "__notebook__.ipynb",
   "parameters": {},
   "start_time": "2023-07-21T08:55:49.569311",
   "version": "2.4.0"
  }
 },
 "nbformat": 4,
 "nbformat_minor": 5
}
