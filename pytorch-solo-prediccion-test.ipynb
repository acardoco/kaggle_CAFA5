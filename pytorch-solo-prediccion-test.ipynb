{
 "cells": [
  {
   "cell_type": "raw",
   "id": "d63f55e3",
   "metadata": {
    "papermill": {
     "duration": 0.014367,
     "end_time": "2023-08-21T06:47:13.463388",
     "exception": false,
     "start_time": "2023-08-21T06:47:13.449021",
     "status": "completed"
    },
    "tags": []
   },
   "source": [
    "# CAFA 5 Competition : Protein Function Prediction"
   ]
  },
  {
   "cell_type": "markdown",
   "id": "ce28eb12",
   "metadata": {
    "papermill": {
     "duration": 0.012273,
     "end_time": "2023-08-21T06:47:13.488454",
     "exception": false,
     "start_time": "2023-08-21T06:47:13.476181",
     "status": "completed"
    },
    "tags": []
   },
   "source": [
    "# TODO\n",
    "- probar en Multi poner la length de la secuencia y su representcion num de la especie (no hacer onehot)\n",
    "- incluir la validacion que usan en una discusion para esta competi\n",
    "- pooling metodos https://www.kaggle.com/code/daehunbae/esm-2-3b-embeddings-with-three-pooling-methods/notebook"
   ]
  },
  {
   "cell_type": "code",
   "execution_count": 1,
   "id": "6fce6676",
   "metadata": {
    "execution": {
     "iopub.execute_input": "2023-08-21T06:47:13.516992Z",
     "iopub.status.busy": "2023-08-21T06:47:13.515864Z",
     "iopub.status.idle": "2023-08-21T06:47:13.863268Z",
     "shell.execute_reply": "2023-08-21T06:47:13.862091Z"
    },
    "papermill": {
     "duration": 0.36518,
     "end_time": "2023-08-21T06:47:13.866291",
     "exception": false,
     "start_time": "2023-08-21T06:47:13.501111",
     "status": "completed"
    },
    "tags": []
   },
   "outputs": [
    {
     "data": {
      "text/html": [
       "<div>\n",
       "<style scoped>\n",
       "    .dataframe tbody tr th:only-of-type {\n",
       "        vertical-align: middle;\n",
       "    }\n",
       "\n",
       "    .dataframe tbody tr th {\n",
       "        vertical-align: top;\n",
       "    }\n",
       "\n",
       "    .dataframe thead th {\n",
       "        text-align: right;\n",
       "    }\n",
       "</style>\n",
       "<table border=\"1\" class=\"dataframe\">\n",
       "  <thead>\n",
       "    <tr style=\"text-align: right;\">\n",
       "      <th></th>\n",
       "      <th>The Protein ID</th>\n",
       "      <th>The Gene Ontology term (GO) ID</th>\n",
       "      <th>Predicted link probability that GO appear in Protein</th>\n",
       "    </tr>\n",
       "  </thead>\n",
       "  <tbody>\n",
       "    <tr>\n",
       "      <th>0</th>\n",
       "      <td>A0A0A0MRZ7</td>\n",
       "      <td>GO:0000001</td>\n",
       "      <td>0.123</td>\n",
       "    </tr>\n",
       "    <tr>\n",
       "      <th>1</th>\n",
       "      <td>A0A0A0MRZ7</td>\n",
       "      <td>GO:0000002</td>\n",
       "      <td>0.123</td>\n",
       "    </tr>\n",
       "    <tr>\n",
       "      <th>2</th>\n",
       "      <td>A0A0A0MRZ8</td>\n",
       "      <td>GO:0000001</td>\n",
       "      <td>0.123</td>\n",
       "    </tr>\n",
       "    <tr>\n",
       "      <th>3</th>\n",
       "      <td>A0A0A0MRZ8</td>\n",
       "      <td>GO:0000002</td>\n",
       "      <td>0.123</td>\n",
       "    </tr>\n",
       "    <tr>\n",
       "      <th>4</th>\n",
       "      <td>A0A0A0MRZ9</td>\n",
       "      <td>GO:0000001</td>\n",
       "      <td>0.123</td>\n",
       "    </tr>\n",
       "  </tbody>\n",
       "</table>\n",
       "</div>"
      ],
      "text/plain": [
       "  The Protein ID The Gene Ontology term (GO) ID  \\\n",
       "0     A0A0A0MRZ7                     GO:0000001   \n",
       "1     A0A0A0MRZ7                     GO:0000002   \n",
       "2     A0A0A0MRZ8                     GO:0000001   \n",
       "3     A0A0A0MRZ8                     GO:0000002   \n",
       "4     A0A0A0MRZ9                     GO:0000001   \n",
       "\n",
       "   Predicted link probability that GO appear in Protein  \n",
       "0                                              0.123     \n",
       "1                                              0.123     \n",
       "2                                              0.123     \n",
       "3                                              0.123     \n",
       "4                                              0.123     "
      ]
     },
     "execution_count": 1,
     "metadata": {},
     "output_type": "execute_result"
    }
   ],
   "source": [
    "import pandas as pd\n",
    "sub = pd.read_csv(\"/kaggle/input/cafa-5-protein-function-prediction/sample_submission.tsv\", sep= \"\\t\", header = None)\n",
    "sub.columns = [\"The Protein ID\", \"The Gene Ontology term (GO) ID\", \"Predicted link probability that GO appear in Protein\"]\n",
    "sub.head(5)"
   ]
  },
  {
   "cell_type": "markdown",
   "id": "9a50606d",
   "metadata": {
    "papermill": {
     "duration": 0.012698,
     "end_time": "2023-08-21T06:47:13.891938",
     "exception": false,
     "start_time": "2023-08-21T06:47:13.879240",
     "status": "completed"
    },
    "tags": []
   },
   "source": [
    "The evaluation metric used in this competition is the weighted F-measure, which combines precision and recall, taking into account the hierarchical structure of the Gene Ontology (GO). The formula for calculating the weighted F-measure is as follows:\n",
    "\n",
    "$Weighted \\ F-measure = \\frac{(1 + β^2) * (weighted \\ precision * weighted recall)}{((β^2 * weighted \\ precision) + weighted \\ recall)}$\n",
    "\n",
    "where:\n",
    "- β is a parameter that controls the trade-off between precision and recall. In this competition, β is set to 1, resulting in an equal weighting of precision and recall.\n",
    "- Weighted precision is the precision score, considering the weights of the predicted terms. It is calculated as the sum of the products of the predicted term's weight and its true positive count, divided by the sum of the weights of all predicted terms.\n",
    "- Weighted recall is the recall score, considering the weights of the true positive terms. It is calculated as the sum of the products of the true positive term's weight and its count, divided by the sum of the weights of all true positive terms.\n",
    "\n",
    "Note: The specific formulas for weighted precision and weighted recall are provided in the competition materials and utilize additional information such as term weights and true positive counts."
   ]
  },
  {
   "cell_type": "markdown",
   "id": "6805816b",
   "metadata": {
    "papermill": {
     "duration": 0.012575,
     "end_time": "2023-08-21T06:47:13.917308",
     "exception": false,
     "start_time": "2023-08-21T06:47:13.904733",
     "status": "completed"
    },
    "tags": []
   },
   "source": [
    "# General Baseline in this Notebook"
   ]
  },
  {
   "cell_type": "markdown",
   "id": "1a48e3e1",
   "metadata": {
    "papermill": {
     "duration": 0.012392,
     "end_time": "2023-08-21T06:47:13.942409",
     "exception": false,
     "start_time": "2023-08-21T06:47:13.930017",
     "status": "completed"
    },
    "tags": []
   },
   "source": [
    "- **1 - Collect Embedding vectors from pre-trained protein function prediction models (T5, ProtBERT or EMS2) :**\n",
    "\n",
    "Sources for embeddings vectors : \n",
    "- *T5* : https://www.kaggle.com/datasets/sergeifironov/t5embeds\n",
    "\n",
    "- *ProtBERT* : https://www.kaggle.com/datasets/henriupton/protbert-embeddings-for-cafa5\n",
    "\n",
    "- *EMS2* : https://www.kaggle.com/datasets/viktorfairuschin/cafa-5-ems-2-embeddings-numpy\n",
    "\n",
    "- **2 - Generate labels from train_terms file** : by considering the top K most common GO terms in all Proteins set, generate for each protein a sparse vector of length K to indicate the true probabilities that each of the K GO terms are in the Protein (0 or 1). Here we retain K = 600\n",
    "\n",
    "- **3 - Create Pytorch Dataset class that can handle Protein ID and embeddings**.\n",
    "\n",
    "- **4 - Create Pytorch Model class for prediction** : can be any architecture of Multilabel classification model that can turn embeddings of shape (E,) to probabilities of shape (K,). Here we explore **MultiLayerPerceptron** and **ConvNN1d** Networks.\n",
    "\n",
    "- **5 - Make Cross Validation w.r.t the F-1 measure and do Hyperparameter tuning thanks to Weights and Biases package (Wandb)**"
   ]
  },
  {
   "cell_type": "markdown",
   "id": "11ac1c53",
   "metadata": {
    "papermill": {
     "duration": 0.012262,
     "end_time": "2023-08-21T06:47:13.967490",
     "exception": false,
     "start_time": "2023-08-21T06:47:13.955228",
     "status": "completed"
    },
    "tags": []
   },
   "source": [
    "![baseline-image](https://www.researchgate.net/publication/334642149/figure/fig1/AS:783995214249986@1563930433525/Flow-chart-of-STRING2GO-based-protein-function-prediction-method.png)\n",
    "\n",
    "## **Flow-chart of STRING2GO-based protein function prediction method**"
   ]
  },
  {
   "cell_type": "markdown",
   "id": "f0fba2e8",
   "metadata": {
    "papermill": {
     "duration": 0.012289,
     "end_time": "2023-08-21T06:47:13.992670",
     "exception": false,
     "start_time": "2023-08-21T06:47:13.980381",
     "status": "completed"
    },
    "tags": []
   },
   "source": [
    "# 1. Imports / Config"
   ]
  },
  {
   "cell_type": "code",
   "execution_count": 2,
   "id": "0529ed45",
   "metadata": {
    "_cell_guid": "b1076dfc-b9ad-4769-8c92-a6c4dae69d19",
    "_uuid": "8f2839f25d086af736a60e9eeb907d3b93b6e0e5",
    "execution": {
     "iopub.execute_input": "2023-08-21T06:47:14.022260Z",
     "iopub.status.busy": "2023-08-21T06:47:14.021877Z",
     "iopub.status.idle": "2023-08-21T06:47:32.744833Z",
     "shell.execute_reply": "2023-08-21T06:47:32.743720Z"
    },
    "papermill": {
     "duration": 18.740278,
     "end_time": "2023-08-21T06:47:32.747375",
     "exception": false,
     "start_time": "2023-08-21T06:47:14.007097",
     "status": "completed"
    },
    "tags": []
   },
   "outputs": [
    {
     "name": "stderr",
     "output_type": "stream",
     "text": [
      "/opt/conda/lib/python3.10/site-packages/scipy/__init__.py:146: UserWarning: A NumPy version >=1.16.5 and <1.23.0 is required for this version of SciPy (detected version 1.23.5\n",
      "  warnings.warn(f\"A NumPy version >={np_minversion} and <{np_maxversion}\"\n"
     ]
    },
    {
     "name": "stdout",
     "output_type": "stream",
     "text": [
      "/kaggle/input/4637427/test_ids_esm2_t36_3B_UR50D.npy\n",
      "/kaggle/input/4637427/train_ids_esm2_t36_3B_UR50D.npy\n",
      "/kaggle/input/4637427/test_embeds_esm2_t36_3B_UR50D.npy\n",
      "/kaggle/input/4637427/train_embeds_esm2_t36_3B_UR50D.npy\n",
      "/kaggle/input/cafa5-best-pca2000-models-3000labels-drop-015/PCA-2000_id13_DROP-0.15_model_CV-543674_186.74_0.13_0.53530.pth\n",
      "/kaggle/input/cafa5-best-pca2000-models-3000labels-drop-015/PCA-2000_id12_DROP-0.15_model_CV-531431_176.58_0.12_0.53830.pth\n",
      "/kaggle/input/cafa5-best-pca2000-models-3000labels-drop-015/pca_id12.pkl\n",
      "/kaggle/input/cafa5-best-pca2000-models-3000labels-drop-015/PCA-2000_id11_DROP-0.15_model_CV-538899_187.91_0.12_0.53013.pth\n",
      "/kaggle/input/cafa5-best-pca2000-models-3000labels-drop-015/pca_id11.pkl\n",
      "/kaggle/input/cafa5-best-pca2000-models-3000labels-drop-015/pca_id13.pkl\n",
      "/kaggle/input/cafa5-best-models-3000labels/model_CV-526716_176.19_0.09_0.53544.pth\n",
      "/kaggle/input/cafa5-best-models-3000labels/model_CV-534435_202.72_0.1_0.53772.pth\n",
      "/kaggle/input/cafa5-best-models-3000labels/model_CV-523818_179.61_0.08_0.54091.pth\n",
      "/kaggle/input/cafa5-best-pcamodels-3000labels/PCA_id1_model_CV-548284_184.03_0.13_0.53694.pth\n",
      "/kaggle/input/cafa5-best-pcamodels-3000labels/PCA_id2_model_CV-531907_191.42_0.14_0.52494.pth\n",
      "/kaggle/input/cafa5-best-pcamodels-3000labels/pca_id3.pkl\n",
      "/kaggle/input/cafa5-best-pcamodels-3000labels/pca_id1.pkl\n",
      "/kaggle/input/cafa5-best-pcamodels-3000labels/pca_id2.pkl\n",
      "/kaggle/input/cafa5-best-pcamodels-3000labels/PCA_id3_model_CV-549458_187.7_0.14_0.53167.pth\n",
      "/kaggle/input/cafa5-pytorch-labels/train_targets.pkl\n",
      "/kaggle/input/cafa5-pytorch-labels/train_targets_top1499.npy\n",
      "/kaggle/input/quick-go-2022-03-02/quickgo.tsv\n",
      "/kaggle/input/t5embeds/train_ids.npy\n",
      "/kaggle/input/t5embeds/test_embeds.npy\n",
      "/kaggle/input/t5embeds/train_embeds.npy\n",
      "/kaggle/input/t5embeds/test_ids.npy\n",
      "/kaggle/input/cafa-5-ems-2-embeddings-numpy/train_ids.npy\n",
      "/kaggle/input/cafa-5-ems-2-embeddings-numpy/train_embeddings.npy\n",
      "/kaggle/input/cafa-5-ems-2-embeddings-numpy/test_ids.npy\n",
      "/kaggle/input/cafa-5-ems-2-embeddings-numpy/test_embeddings.npy\n",
      "/kaggle/input/quick-go-annotation/all_dict.pkl\n",
      "/kaggle/input/cafa5-best-pca1500-models-3000labels-drop-015/pca_id9.pkl\n",
      "/kaggle/input/cafa5-best-pca1500-models-3000labels-drop-015/PCA_id5_DROP-0.15_model_CV-542653_183.61_0.12_0.52421.pth\n",
      "/kaggle/input/cafa5-best-pca1500-models-3000labels-drop-015/pca_id6.pkl\n",
      "/kaggle/input/cafa5-best-pca1500-models-3000labels-drop-015/pca_id7.pkl\n",
      "/kaggle/input/cafa5-best-pca1500-models-3000labels-drop-015/pca_id4.pkl\n",
      "/kaggle/input/cafa5-best-pca1500-models-3000labels-drop-015/PCA_id9_DROP-0.15_model_CV-543757_181.42_0.13_0.53389.pth\n",
      "/kaggle/input/cafa5-best-pca1500-models-3000labels-drop-015/pca_id10.pkl\n",
      "/kaggle/input/cafa5-best-pca1500-models-3000labels-drop-015/pca_id14.pkl\n",
      "/kaggle/input/cafa5-best-pca1500-models-3000labels-drop-015/PCA_id4_DROP-0.15_model_CV-537197_186.06_0.12_0.53862.pth\n",
      "/kaggle/input/cafa5-best-pca1500-models-3000labels-drop-015/PCA_id7_DROP-0.15_model_CV-532444_184.26_0.12_0.52821.pth\n",
      "/kaggle/input/cafa5-best-pca1500-models-3000labels-drop-015/PCA_id10_DROP-0.15_model_CV-537342_192.19_0.11_0.53984.pth\n",
      "/kaggle/input/cafa5-best-pca1500-models-3000labels-drop-015/pca_id5.pkl\n",
      "/kaggle/input/cafa5-best-pca1500-models-3000labels-drop-015/PCA_id6_DROP-0.15_model_CV-537538_194.95_0.12_0.52874.pth\n",
      "/kaggle/input/cafa5-best-pca1500-models-3000labels-drop-015/PCA_id14_DROP-0.15_model_CV-536126_191.66_0.11_0.54227.pth\n",
      "/kaggle/input/cafa5-labels-2500/train_targets.pkl\n",
      "/kaggle/input/cafa5-labels-2500/train_targets_top6000.npy\n",
      "/kaggle/input/cafa5-best-models-t5-3000labels/T5_model_CV-523338_197.04_0.11.pth\n",
      "/kaggle/input/cafa5-best-models-t5-3000labels/T5_model_CV-521388_192.68_0.1.pth\n",
      "/kaggle/input/cafa5-best-models-t5-3000labels/T5_model_CV-531803_176.99_0.1.pth\n",
      "/kaggle/input/cafa-5-protein-function-prediction/sample_submission.tsv\n",
      "/kaggle/input/cafa-5-protein-function-prediction/IA.txt\n",
      "/kaggle/input/cafa-5-protein-function-prediction/Test (Targets)/testsuperset.fasta\n",
      "/kaggle/input/cafa-5-protein-function-prediction/Test (Targets)/testsuperset-taxon-list.tsv\n",
      "/kaggle/input/cafa-5-protein-function-prediction/Train/train_terms.tsv\n",
      "/kaggle/input/cafa-5-protein-function-prediction/Train/train_sequences.fasta\n",
      "/kaggle/input/cafa-5-protein-function-prediction/Train/train_taxonomy.tsv\n",
      "/kaggle/input/cafa-5-protein-function-prediction/Train/go-basic.obo\n",
      "/kaggle/input/cafa5-best-pca1500-3kh-models-3000labels-drop-015/PCA-3KHIDDEN_id19_DROP-0.15_model_CV-556272_173.86_0.13_0.53556.pth\n",
      "/kaggle/input/cafa5-best-pca1500-3kh-models-3000labels-drop-015/PCA-3KHIDDEN_id20_DROP-0.15_model_CV-563719_194.55_0.16_0.54341.pth\n",
      "/kaggle/input/cafa5-best-pca1500-3kh-models-3000labels-drop-015/pca_id17.pkl\n",
      "/kaggle/input/cafa5-best-pca1500-3kh-models-3000labels-drop-015/pca_id16.pkl\n",
      "/kaggle/input/cafa5-best-pca1500-3kh-models-3000labels-drop-015/pca_id19.pkl\n",
      "/kaggle/input/cafa5-best-pca1500-3kh-models-3000labels-drop-015/PCA-3KHIDDEN_id15_DROP-0.15_model_CV-552157_189.84_0.13_0.55307.pth\n",
      "/kaggle/input/cafa5-best-pca1500-3kh-models-3000labels-drop-015/pca_id15.pkl\n",
      "/kaggle/input/cafa5-best-pca1500-3kh-models-3000labels-drop-015/PCA-3KHIDDEN_id22_DROP-0.15_model_CV-558764_197.27_0.15_0.53877.pth\n",
      "/kaggle/input/cafa5-best-pca1500-3kh-models-3000labels-drop-015/PCA-3KHIDDEN_id16_DROP-015_model_CV-560499_173.66_0.14_0.53784.pth\n",
      "/kaggle/input/cafa5-best-pca1500-3kh-models-3000labels-drop-015/PCA-3KHIDDEN_id18_DROP-0.15_model_CV-556172_177.57_0.13_0.53962.pth\n",
      "/kaggle/input/cafa5-best-pca1500-3kh-models-3000labels-drop-015/pca_id18.pkl\n",
      "/kaggle/input/cafa5-best-pca1500-3kh-models-3000labels-drop-015/PCA-3KHIDDEN_id21_DROP-0.15_model_CV-569379_178.92_0.15_0.53782.pth\n",
      "/kaggle/input/cafa5-best-pca1500-3kh-models-3000labels-drop-015/pca_id22.pkl\n",
      "/kaggle/input/cafa5-best-pca1500-3kh-models-3000labels-drop-015/pca_id20.pkl\n",
      "/kaggle/input/cafa5-best-pca1500-3kh-models-3000labels-drop-015/PCA-3KHIDDEN_id17_DROP-0.15_model_CV-563086_187.92_0.14_0.54998.pth\n",
      "/kaggle/input/cafa5-best-pca1500-3kh-models-3000labels-drop-015/pca_id21.pkl\n"
     ]
    }
   ],
   "source": [
    "MAIN_DIR = \"/kaggle/input/cafa-5-protein-function-prediction\"\n",
    "seed = 54\n",
    "\n",
    "# UTILITARIES\n",
    "import numpy as np\n",
    "from tqdm import tqdm\n",
    "import time\n",
    "import matplotlib.pyplot as plt\n",
    "plt.style.use('ggplot')\n",
    "import gc\n",
    "import multiprocessing as mp\n",
    "import copy\n",
    "import logging\n",
    "import pickle\n",
    "from Bio import SeqIO\n",
    "import re\n",
    "\n",
    "\n",
    "# TORCH MODULES FOR METRICS COMPUTATION :\n",
    "import torch\n",
    "from torch.utils.data import Dataset\n",
    "from torch import nn\n",
    "from torch.utils.data import random_split\n",
    "from torch.optim.lr_scheduler import ReduceLROnPlateau\n",
    "from torchmetrics.classification import MultilabelF1Score\n",
    "from torchmetrics.classification import MultilabelAccuracy\n",
    "from torch.utils.data import Subset\n",
    "from sklearn.preprocessing import OneHotEncoder\n",
    "from sklearn.decomposition import PCA\n",
    "from sklearn.model_selection import train_test_split\n",
    "\n",
    "import random\n",
    "# random.seed(seed)\n",
    "# np.random.seed(seed)\n",
    "# torch.manual_seed(seed)\n",
    "\n",
    "import pytorch_lightning as pl\n",
    "from pytorch_lightning import Trainer\n",
    "from pytorch_lightning.loggers import WandbLogger\n",
    "\n",
    "# WANDB FOR LIGHTNING :\n",
    "import wandb\n",
    "\n",
    "# FILES VISUALIZATION\n",
    "import os\n",
    "for dirname, _, filenames in os.walk('/kaggle/input'):\n",
    "    for filename in filenames:\n",
    "        print(os.path.join(dirname, filename))"
   ]
  },
  {
   "cell_type": "code",
   "execution_count": 3,
   "id": "dff91378",
   "metadata": {
    "execution": {
     "iopub.execute_input": "2023-08-21T06:47:32.776594Z",
     "iopub.status.busy": "2023-08-21T06:47:32.775811Z",
     "iopub.status.idle": "2023-08-21T06:47:32.783416Z",
     "shell.execute_reply": "2023-08-21T06:47:32.782649Z"
    },
    "papermill": {
     "duration": 0.024745,
     "end_time": "2023-08-21T06:47:32.785614",
     "exception": false,
     "start_time": "2023-08-21T06:47:32.760869",
     "status": "completed"
    },
    "tags": []
   },
   "outputs": [],
   "source": [
    "class config:\n",
    "    train_sequences_path = MAIN_DIR  + \"/Train/train_sequences.fasta\"\n",
    "    train_labels_path = MAIN_DIR + \"/Train/train_terms.tsv\"\n",
    "    test_sequences_path = MAIN_DIR + \"/Test (Targets)/testsuperset.fasta\"\n",
    "    \n",
    "    set_seed = True # para comparar modelos con una seed fija en el train_split\n",
    "    \n",
    "    modo = 'scoring' # pesosCV, pesosLB, media, scoring (añadir valores, https://www.kaggle.com/code/mtinti/merge-datasets)\n",
    "    filtrar = True\n",
    "    filtrar_mode = 'normal' #diff es abs(cv -lb), normal es coger el LB, ambos es aplciar ambos IFs a la vez\n",
    "    filtro = 0.54\n",
    "    filtro_diff = 0.01\n",
    "    \n",
    "    embedding_a_usar = \"EMS2_t36\" #EMS2_t36\n",
    "    \n",
    "    device = torch.device('cuda' if torch.cuda.is_available() else 'cpu')\n",
    "    \n",
    "# se me escapó una batch en el init que luego no se usa en el modelo en forward\n",
    "# self.layer_norm = nn.BatchNorm1d(hidden_size)\n",
    "IN_BATCH_WITHOUT_BATCH = ['PCA_id14_DROP-0.15_model_CV-536126_191.66_0.11_0.54227.pth',\n",
    "                         'PCA-3KHIDDEN_id15_DROP-0.15_model_CV-552157_189.84_0.13_0.55307.pth',\n",
    "                         'PCA-3KHIDDEN_id16_DROP-015_model_CV-560499_173.66_0.14_0.53784.pth',\n",
    "                         'PCA-3KHIDDEN_id17_DROP-0.15_model_CV-563086_187.92_0.14_0.54998.pth']"
   ]
  },
  {
   "cell_type": "code",
   "execution_count": 4,
   "id": "9bb5dbed",
   "metadata": {
    "execution": {
     "iopub.execute_input": "2023-08-21T06:47:32.814509Z",
     "iopub.status.busy": "2023-08-21T06:47:32.813894Z",
     "iopub.status.idle": "2023-08-21T06:47:32.819879Z",
     "shell.execute_reply": "2023-08-21T06:47:32.818604Z"
    },
    "papermill": {
     "duration": 0.023055,
     "end_time": "2023-08-21T06:47:32.822084",
     "exception": false,
     "start_time": "2023-08-21T06:47:32.799029",
     "status": "completed"
    },
    "tags": []
   },
   "outputs": [
    {
     "name": "stdout",
     "output_type": "stream",
     "text": [
      "cpu\n"
     ]
    }
   ],
   "source": [
    "print(config.device)"
   ]
  },
  {
   "cell_type": "code",
   "execution_count": 5,
   "id": "53a5b7f9",
   "metadata": {
    "execution": {
     "iopub.execute_input": "2023-08-21T06:47:32.851387Z",
     "iopub.status.busy": "2023-08-21T06:47:32.850505Z",
     "iopub.status.idle": "2023-08-21T06:47:37.772185Z",
     "shell.execute_reply": "2023-08-21T06:47:37.771135Z"
    },
    "papermill": {
     "duration": 4.939221,
     "end_time": "2023-08-21T06:47:37.774959",
     "exception": false,
     "start_time": "2023-08-21T06:47:32.835738",
     "status": "completed"
    },
    "tags": []
   },
   "outputs": [],
   "source": [
    "def extract_go_terms_and_branches(file_path):\n",
    "    with open(file_path, 'r') as file:\n",
    "        content = file.read()\n",
    "        # Match each stanza with [Term] in the OBO file\n",
    "        stanzas = re.findall(r'\\[Term\\][\\s\\S]*?(?=\\n\\[|$)', content)\n",
    "\n",
    "    go_terms_dict = {}\n",
    "    for stanza in stanzas:\n",
    "        # Extract the GO term ID\n",
    "        go_id = re.search(r'^id: (GO:\\d+)', stanza, re.MULTILINE)\n",
    "        if go_id:\n",
    "            go_id = go_id.group(1)\n",
    "\n",
    "        # Extract the namespace (branch)\n",
    "        namespace = re.search(r'^namespace: (\\w+)', stanza, re.MULTILINE)\n",
    "        if namespace:\n",
    "            namespace = namespace.group(1)\n",
    "\n",
    "        if go_id and namespace:\n",
    "            # Map the branch abbreviation to the corresponding BPO, CCO, or MFO\n",
    "            branch_abbr = {'biological_process': 'BPO', 'cellular_component': 'CCO', 'molecular_function': 'MFO'}\n",
    "            go_terms_dict[go_id] = branch_abbr[namespace]\n",
    "\n",
    "    return go_terms_dict\n",
    "\n",
    "file_path = '/kaggle/input/cafa-5-protein-function-prediction/Train/go-basic.obo'\n",
    "go_terms_dict = extract_go_terms_and_branches(file_path)"
   ]
  },
  {
   "cell_type": "code",
   "execution_count": 6,
   "id": "5e35a383",
   "metadata": {
    "execution": {
     "iopub.execute_input": "2023-08-21T06:47:37.804993Z",
     "iopub.status.busy": "2023-08-21T06:47:37.804539Z",
     "iopub.status.idle": "2023-08-21T06:47:37.819181Z",
     "shell.execute_reply": "2023-08-21T06:47:37.817906Z"
    },
    "papermill": {
     "duration": 0.032524,
     "end_time": "2023-08-21T06:47:37.821650",
     "exception": false,
     "start_time": "2023-08-21T06:47:37.789126",
     "status": "completed"
    },
    "tags": []
   },
   "outputs": [],
   "source": [
    "# Define a class to manage predictions for proteins.\n",
    "# The class keeps track of the highest score for each GO (Gene Ontology) term prediction.\n",
    "# Note: This assumes scores are comparable, which might not be the case.\n",
    "# A ranking-based selection could be more suitable.\n",
    "# Each branch outputs a maximum of 35 predictions for each protein after sorting predictions from highest to lowest.\n",
    "# There is an option to add a bonus to the score if the term is predicted by multiple methods.\n",
    "\n",
    "class ProteinPredictions:\n",
    "    # Initialize an empty dictionary to store the predictions\n",
    "    def __init__(self):\n",
    "        self.predictions = {}\n",
    "\n",
    "    # Add a prediction to the storage, with optional bonus\n",
    "    # Arguments:\n",
    "    #   - protein: Identifier for the protein\n",
    "    #   - go_term: GO term that is being predicted\n",
    "    #   - score: Confidence score of the prediction\n",
    "    #   - branch: Branch of the Gene Ontology (e.g., 'CCO', 'MFO', 'BPO')\n",
    "    #   - bonus: Optional bonus to be added to the score\n",
    "    def add_prediction(self, protein, go_term, score, branch, bonus=0):\n",
    "        # If the protein is not already in the storage, initialize its structure\n",
    "        if protein not in self.predictions:\n",
    "            self.predictions[protein] = {'CCO': {}, 'MFO': {}, 'BPO': {}}\n",
    "        \n",
    "        # Convert the score to a float for comparison and calculation\n",
    "        score = float(score)\n",
    "\n",
    "        # If this GO term has already been predicted for this protein and branch,\n",
    "        # add the bonus to the score. Keep the highest score.\n",
    "        if go_term in self.predictions[protein][branch]:\n",
    "            if self.predictions[protein][branch][go_term] < score:\n",
    "                self.predictions[protein][branch][go_term] = score + bonus\n",
    "            else:\n",
    "                self.predictions[protein][branch][go_term] += bonus\n",
    "        # If this GO term has not been predicted yet, store it with the score\n",
    "        else:\n",
    "            self.predictions[protein][branch][go_term] = score\n",
    "\n",
    "        # Ensure that the score does not exceed 1\n",
    "        if self.predictions[protein][branch][go_term] > 1:\n",
    "            self.predictions[protein][branch][go_term] = 1\n",
    "\n",
    "    # Export the stored predictions to a file\n",
    "    # Arguments:\n",
    "    #   - output_file: File name for the exported predictions\n",
    "    #   - top: Number of top predictions to export for each protein and branch\n",
    "    def get_predictions(self, output_file='submission.tsv', top=-1):\n",
    "        # Open the output file\n",
    "        with open(output_file, 'w') as f:\n",
    "            # Iterate through each protein and its branches\n",
    "            for protein, branches in self.predictions.items():\n",
    "                # For each branch, sort the GO terms by score in descending order and select the top ones\n",
    "                for branch, go_terms in branches.items():\n",
    "                    # Sort go_terms by score in descending order and take the top ones\n",
    "                    top_go_terms = sorted(go_terms.items(), key=lambda x: x[1], reverse=True)[:top]\n",
    "                    # Write each of the top predictions to the file\n",
    "                    for go_term, score in top_go_terms:\n",
    "                        f.write(f\"{protein}\\t{go_term}\\t{score:.3f}\\n\")\n",
    "                        \n",
    "SCORING_MAKER = ProteinPredictions()"
   ]
  },
  {
   "cell_type": "markdown",
   "id": "c4a1f9b9",
   "metadata": {
    "papermill": {
     "duration": 0.013384,
     "end_time": "2023-08-21T06:47:37.848711",
     "exception": false,
     "start_time": "2023-08-21T06:47:37.835327",
     "status": "completed"
    },
    "tags": []
   },
   "source": [
    "# Metricas https://www.kaggle.com/code/sergeifironov/validate-ridge/notebook"
   ]
  },
  {
   "cell_type": "markdown",
   "id": "4eeaba48",
   "metadata": {
    "papermill": {
     "duration": 0.013266,
     "end_time": "2023-08-21T06:47:37.875761",
     "exception": false,
     "start_time": "2023-08-21T06:47:37.862495",
     "status": "completed"
    },
    "tags": []
   },
   "source": [
    "# 5. Pytorch Dataset Architecture"
   ]
  },
  {
   "cell_type": "code",
   "execution_count": 7,
   "id": "bdd9fc5b",
   "metadata": {
    "execution": {
     "iopub.execute_input": "2023-08-21T06:47:37.904681Z",
     "iopub.status.busy": "2023-08-21T06:47:37.904219Z",
     "iopub.status.idle": "2023-08-21T06:47:37.910736Z",
     "shell.execute_reply": "2023-08-21T06:47:37.909400Z"
    },
    "papermill": {
     "duration": 0.023912,
     "end_time": "2023-08-21T06:47:37.913229",
     "exception": false,
     "start_time": "2023-08-21T06:47:37.889317",
     "status": "completed"
    },
    "tags": []
   },
   "outputs": [],
   "source": [
    "# Directories for the different embedding vectors : \n",
    "embeds_map = {\n",
    "    \"T5\" : \"t5embeds\",\n",
    "    \"ProtBERT\" : \"protbert-embeddings-for-cafa5\",\n",
    "    \"EMS2\" : \"cafa-5-ems-2-embeddings-numpy\",\n",
    "    \"EMS2_t36\": \"4637427\"\n",
    "}\n",
    "\n",
    "# Length of the different embedding vectors :\n",
    "embeds_dim = {\n",
    "    \"T5\" : 1024,\n",
    "    \"ProtBERT\" : 1024,\n",
    "    \"EMS2\" : 1280,\n",
    "    \"EMS2_t36\": 2560\n",
    "}"
   ]
  },
  {
   "cell_type": "code",
   "execution_count": 8,
   "id": "b7656d76",
   "metadata": {
    "execution": {
     "iopub.execute_input": "2023-08-21T06:47:37.942793Z",
     "iopub.status.busy": "2023-08-21T06:47:37.942361Z",
     "iopub.status.idle": "2023-08-21T06:47:37.951909Z",
     "shell.execute_reply": "2023-08-21T06:47:37.950899Z"
    },
    "papermill": {
     "duration": 0.026596,
     "end_time": "2023-08-21T06:47:37.953985",
     "exception": false,
     "start_time": "2023-08-21T06:47:37.927389",
     "status": "completed"
    },
    "tags": []
   },
   "outputs": [],
   "source": [
    "def apply_quick_go_sub(sub_path, viene_de_ensemble = False, formato = 'pkl'):\n",
    "    if not viene_de_ensemble: # le pasamos el link directo de otro lado\n",
    "        sub = pd.read_csv(sub_path, sep =\"\\t\")\n",
    "        sub.to_csv('submission.tsv', sep='\\t', index=False, header=False)\n",
    "    \n",
    "    if formato == 'pkl':\n",
    "        file = open('/kaggle/input/quick-go-annotation/all_dict.pkl', 'rb')\n",
    "        go_ann = pickle.load(file)\n",
    "    elif formato == 'tsv':\n",
    "        file = pd.read_csv('/kaggle/input/quick-go-2022-03-02/quickgo.tsv', sep = '\\t')\n",
    "        go_ann = file[['uniprot', 'term']].groupby('uniprot')['term'].apply(list).to_dict()\n",
    "    \n",
    "    #https://www.kaggle.com/datasets/mtinti/quick-go-annotation\n",
    "    with open('submission.tsv', 'a') as sub:\n",
    "    #     sub = file.read()\n",
    "        for temp_id in tqdm(go_ann.keys()):\n",
    "            if len(go_ann[temp_id])>0:\n",
    "                for go in go_ann[temp_id]:\n",
    "                    line = [temp_id,go,'0.999']\n",
    "                    line = '\\t'.join(line)+'\\n'\n",
    "                    sub.write(line)  "
   ]
  },
  {
   "cell_type": "code",
   "execution_count": 9,
   "id": "04e54eed",
   "metadata": {
    "execution": {
     "iopub.execute_input": "2023-08-21T06:47:37.982843Z",
     "iopub.status.busy": "2023-08-21T06:47:37.982374Z",
     "iopub.status.idle": "2023-08-21T06:47:37.997222Z",
     "shell.execute_reply": "2023-08-21T06:47:37.996282Z"
    },
    "papermill": {
     "duration": 0.032172,
     "end_time": "2023-08-21T06:47:37.999700",
     "exception": false,
     "start_time": "2023-08-21T06:47:37.967528",
     "status": "completed"
    },
    "tags": []
   },
   "outputs": [],
   "source": [
    "def reduce_mem_usage(df):\n",
    "    \"\"\" iterate through all the columns of a dataframe and modify the data type\n",
    "        to reduce memory usage.        \n",
    "    \"\"\"\n",
    "    start_mem = df.memory_usage().sum() / 1024**2\n",
    "    print('Memory usage of dataframe is {:.2f} MB'.format(start_mem))\n",
    "    \n",
    "    for col in df.columns:\n",
    "        col_type = df[col].dtype\n",
    "        \n",
    "        if col_type != object:\n",
    "            c_min = df[col].min()\n",
    "            c_max = df[col].max()\n",
    "            if str(col_type)[:3] == 'int':\n",
    "                if c_min > np.iinfo(np.int8).min and c_max < np.iinfo(np.int8).max:\n",
    "                    df[col] = df[col].astype(np.int8)\n",
    "                elif c_min > np.iinfo(np.int16).min and c_max < np.iinfo(np.int16).max:\n",
    "                    df[col] = df[col].astype(np.int16)\n",
    "                elif c_min > np.iinfo(np.int32).min and c_max < np.iinfo(np.int32).max:\n",
    "                    df[col] = df[col].astype(np.int32)\n",
    "                elif c_min > np.iinfo(np.int64).min and c_max < np.iinfo(np.int64).max:\n",
    "                    df[col] = df[col].astype(np.int64)  \n",
    "            else:\n",
    "                if c_min > np.finfo(np.float16).min and c_max < np.finfo(np.float16).max:\n",
    "                    df[col] = df[col].astype(np.float16)\n",
    "                elif c_min > np.finfo(np.float32).min and c_max < np.finfo(np.float32).max:\n",
    "                    df[col] = df[col].astype(np.float32)\n",
    "                else:\n",
    "                    df[col] = df[col].astype(np.float64)\n",
    "        else:\n",
    "            df[col] = df[col].astype('category')\n",
    "\n",
    "    end_mem = df.memory_usage().sum() / 1024**2\n",
    "    print('Memory usage after optimization is: {:.2f} MB'.format(end_mem))\n",
    "    print('Decreased by {:.1f}%'.format(100 * (start_mem - end_mem) / start_mem))\n",
    "    \n",
    "    return df"
   ]
  },
  {
   "cell_type": "code",
   "execution_count": 10,
   "id": "ab67c61e",
   "metadata": {
    "execution": {
     "iopub.execute_input": "2023-08-21T06:47:38.032111Z",
     "iopub.status.busy": "2023-08-21T06:47:38.031035Z",
     "iopub.status.idle": "2023-08-21T06:47:38.046616Z",
     "shell.execute_reply": "2023-08-21T06:47:38.045237Z"
    },
    "papermill": {
     "duration": 0.033305,
     "end_time": "2023-08-21T06:47:38.049283",
     "exception": false,
     "start_time": "2023-08-21T06:47:38.015978",
     "status": "completed"
    },
    "tags": []
   },
   "outputs": [],
   "source": [
    "class ProteinSequenceDataset(Dataset):\n",
    "    \n",
    "    def __init__(self, datatype, embeddings_source, apply_PCA = False, pca = None):\n",
    "        super(ProteinSequenceDataset).__init__()\n",
    "        self.datatype = datatype\n",
    "        \n",
    "        if embeddings_source in [\"ProtBERT\", \"EMS2\"]:\n",
    "            embeds = np.load(\"/kaggle/input/\"+embeds_map[embeddings_source]+\"/\"+datatype+\"_embeddings.npy\")\n",
    "            ids = np.load(\"/kaggle/input/\"+embeds_map[embeddings_source]+\"/\"+datatype+\"_ids.npy\")\n",
    "        \n",
    "        if embeddings_source == \"T5\":\n",
    "            embeds = np.load(\"/kaggle/input/\"+embeds_map[embeddings_source]+\"/\"+datatype+\"_embeds.npy\")\n",
    "            ids = np.load(\"/kaggle/input/\"+embeds_map[embeddings_source]+\"/\"+datatype+\"_ids.npy\")\n",
    "            \n",
    "        if embeddings_source == \"EMS2_t36\":\n",
    "            embeds = np.load(\"/kaggle/input/4637427/\" + datatype + \"_embeds_esm2_t36_3B_UR50D.npy\")\n",
    "            ids = np.load(\"/kaggle/input/4637427/\" + datatype + \"_ids_esm2_t36_3B_UR50D.npy\")\n",
    "            \n",
    "            \n",
    "        # reduce memory\n",
    "#         embeds = reduce_mem_usage(pd.DataFrame(embeds)).values\n",
    "        gc.collect()\n",
    "        \n",
    "        if apply_PCA:\n",
    "            embeds = pca.transform(embeds)\n",
    "            \n",
    "        embeds_list = []\n",
    "        for l in range(embeds.shape[0]):\n",
    "            embeds_list.append(embeds[l,:])\n",
    "        self.df = pd.DataFrame(data={\"EntryID\": ids, \"embed\" : embeds_list})\n",
    "        \n",
    "        if datatype==\"train\":\n",
    "            print('Leyendo las labels ...')\n",
    "            df_labels = pd.read_pickle(\n",
    "                \"/kaggle/input/cafa5-labels-2500/train_targets.pkl\")\n",
    "            self.df = self.df.merge(df_labels, on=\"EntryID\")\n",
    "            \n",
    "#         self.df = self.df.iloc[0:1000]       \n",
    "        \n",
    "    def __len__(self):\n",
    "        return len(self.df)\n",
    "    \n",
    "    def __getitem__(self, index):\n",
    "        embed = torch.tensor(self.df.iloc[index][\"embed\"] , dtype = torch.float32)\n",
    "        if self.datatype==\"train\":\n",
    "            targets = torch.tensor(self.df.iloc[index][\"labels_vect\"], dtype = torch.float32)\n",
    "            id = self.df.iloc[index][\"EntryID\"]\n",
    "            return embed, targets, id\n",
    "        if self.datatype==\"test\":\n",
    "            id = self.df.iloc[index][\"EntryID\"]\n",
    "            return embed, id\n",
    "        "
   ]
  },
  {
   "cell_type": "markdown",
   "id": "77b26704",
   "metadata": {
    "papermill": {
     "duration": 0.013105,
     "end_time": "2023-08-21T06:47:38.076032",
     "exception": false,
     "start_time": "2023-08-21T06:47:38.062927",
     "status": "completed"
    },
    "tags": []
   },
   "source": [
    "# Models Architectures"
   ]
  },
  {
   "cell_type": "code",
   "execution_count": 11,
   "id": "9c8adb82",
   "metadata": {
    "execution": {
     "iopub.execute_input": "2023-08-21T06:47:38.105228Z",
     "iopub.status.busy": "2023-08-21T06:47:38.104777Z",
     "iopub.status.idle": "2023-08-21T06:47:38.113749Z",
     "shell.execute_reply": "2023-08-21T06:47:38.112704Z"
    },
    "papermill": {
     "duration": 0.026264,
     "end_time": "2023-08-21T06:47:38.115886",
     "exception": false,
     "start_time": "2023-08-21T06:47:38.089622",
     "status": "completed"
    },
    "tags": []
   },
   "outputs": [],
   "source": [
    "class MultiLayerPerceptron(torch.nn.Module):\n",
    "\n",
    "    def __init__(self, input_dim, num_classes, hidden_size = 1500, has_dropout = False, has_unused_batch = False):\n",
    "        super(MultiLayerPerceptron, self).__init__()\n",
    "\n",
    "        self.linear1 = torch.nn.Linear(input_dim, hidden_size)\n",
    "        self.activation1 = torch.nn.ReLU()\n",
    "        self.has_dropout = has_dropout\n",
    "        if has_unused_batch:\n",
    "            self.layer_norm = nn.BatchNorm1d(hidden_size)\n",
    "        self.dropout = nn.Dropout(0.15)\n",
    "        self.linear3 = torch.nn.Linear(hidden_size, num_classes)\n",
    "\n",
    "    def forward(self, x):\n",
    "        x = self.linear1(x)\n",
    "        x = self.activation1(x)\n",
    "        if self.has_dropout:\n",
    "            x = self.dropout(x)\n",
    "        x = self.linear3(x)\n",
    "        return x"
   ]
  },
  {
   "cell_type": "markdown",
   "id": "7d5c7955",
   "metadata": {
    "papermill": {
     "duration": 0.013033,
     "end_time": "2023-08-21T06:47:38.142442",
     "exception": false,
     "start_time": "2023-08-21T06:47:38.129409",
     "status": "completed"
    },
    "tags": []
   },
   "source": [
    "# Make Predictions"
   ]
  },
  {
   "cell_type": "markdown",
   "id": "1e825e18",
   "metadata": {
    "papermill": {
     "duration": 0.013019,
     "end_time": "2023-08-21T06:47:38.168874",
     "exception": false,
     "start_time": "2023-08-21T06:47:38.155855",
     "status": "completed"
    },
    "tags": []
   },
   "source": [
    "# Recuento de todos los modelos"
   ]
  },
  {
   "cell_type": "code",
   "execution_count": 12,
   "id": "7dee5679",
   "metadata": {
    "execution": {
     "iopub.execute_input": "2023-08-21T06:47:38.197909Z",
     "iopub.status.busy": "2023-08-21T06:47:38.197226Z",
     "iopub.status.idle": "2023-08-21T06:47:38.206472Z",
     "shell.execute_reply": "2023-08-21T06:47:38.204912Z"
    },
    "papermill": {
     "duration": 0.026692,
     "end_time": "2023-08-21T06:47:38.208927",
     "exception": false,
     "start_time": "2023-08-21T06:47:38.182235",
     "status": "completed"
    },
    "tags": []
   },
   "outputs": [],
   "source": [
    "def pasa_filtro(cv, lb):\n",
    "    if config.filtrar_mode == 'diff':\n",
    "        if abs(cv-lb) > config.filtro_diff:\n",
    "            print('modelo no pasa a la siguiente ronda')\n",
    "            return False\n",
    "        else:\n",
    "            return True\n",
    "    elif config.filtrar_mode == 'normal':\n",
    "        if lb < config.filtro:\n",
    "            print('modelo no pasa a la siguiente ronda')\n",
    "            return False\n",
    "        else:\n",
    "            return True\n",
    "    elif config.filtrar_mode == 'ambos':\n",
    "        if (abs(cv-lb) <= config.filtro_diff) and (lb >= config.filtro):\n",
    "            return True\n",
    "        else:\n",
    "            print('modelo no pasa a la siguiente ronda')\n",
    "            return False\n",
    "    elif config.filtrar_mode == 'cv':\n",
    "        if cv < config.filtro:\n",
    "            print('modelo no pasa a la siguiente ronda')\n",
    "            return False\n",
    "        else:\n",
    "            return True"
   ]
  },
  {
   "cell_type": "code",
   "execution_count": 13,
   "id": "6686ba7f",
   "metadata": {
    "execution": {
     "iopub.execute_input": "2023-08-21T06:47:38.238183Z",
     "iopub.status.busy": "2023-08-21T06:47:38.237755Z",
     "iopub.status.idle": "2023-08-21T06:47:38.265163Z",
     "shell.execute_reply": "2023-08-21T06:47:38.263686Z"
    },
    "papermill": {
     "duration": 0.045202,
     "end_time": "2023-08-21T06:47:38.267675",
     "exception": false,
     "start_time": "2023-08-21T06:47:38.222473",
     "status": "completed"
    },
    "tags": []
   },
   "outputs": [
    {
     "name": "stdout",
     "output_type": "stream",
     "text": [
      "PCA_id5_DROP-0.15_model_CV-542653_183.61_0.12_0.52421.pth\n",
      "CV: 0.542653\n",
      "LB: 0.52421\n",
      "modelo no pasa a la siguiente ronda\n",
      "PCA_id9_DROP-0.15_model_CV-543757_181.42_0.13_0.53389.pth\n",
      "CV: 0.543757\n",
      "LB: 0.53389\n",
      "modelo no pasa a la siguiente ronda\n",
      "PCA_id4_DROP-0.15_model_CV-537197_186.06_0.12_0.53862.pth\n",
      "CV: 0.537197\n",
      "LB: 0.53862\n",
      "modelo no pasa a la siguiente ronda\n",
      "PCA_id7_DROP-0.15_model_CV-532444_184.26_0.12_0.52821.pth\n",
      "CV: 0.532444\n",
      "LB: 0.52821\n",
      "modelo no pasa a la siguiente ronda\n",
      "PCA_id10_DROP-0.15_model_CV-537342_192.19_0.11_0.53984.pth\n",
      "CV: 0.537342\n",
      "LB: 0.53984\n",
      "modelo no pasa a la siguiente ronda\n",
      "PCA_id6_DROP-0.15_model_CV-537538_194.95_0.12_0.52874.pth\n",
      "CV: 0.537538\n",
      "LB: 0.52874\n",
      "modelo no pasa a la siguiente ronda\n",
      "PCA_id14_DROP-0.15_model_CV-536126_191.66_0.11_0.54227.pth\n",
      "CV: 0.536126\n",
      "LB: 0.54227\n",
      "PCA-2000_id13_DROP-0.15_model_CV-543674_186.74_0.13_0.53530.pth\n",
      "CV: 0.543674\n",
      "LB: 0.5353\n",
      "modelo no pasa a la siguiente ronda\n",
      "PCA-2000_id12_DROP-0.15_model_CV-531431_176.58_0.12_0.53830.pth\n",
      "CV: 0.531431\n",
      "LB: 0.5383\n",
      "modelo no pasa a la siguiente ronda\n",
      "PCA-2000_id11_DROP-0.15_model_CV-538899_187.91_0.12_0.53013.pth\n",
      "CV: 0.538899\n",
      "LB: 0.53013\n",
      "modelo no pasa a la siguiente ronda\n",
      "PCA-3KHIDDEN_id19_DROP-0.15_model_CV-556272_173.86_0.13_0.53556.pth\n",
      "CV: 0.556272\n",
      "LB: 0.53556\n",
      "modelo no pasa a la siguiente ronda\n",
      "PCA-3KHIDDEN_id20_DROP-0.15_model_CV-563719_194.55_0.16_0.54341.pth\n",
      "CV: 0.563719\n",
      "LB: 0.54341\n",
      "PCA-3KHIDDEN_id15_DROP-0.15_model_CV-552157_189.84_0.13_0.55307.pth\n",
      "CV: 0.552157\n",
      "LB: 0.55307\n",
      "PCA-3KHIDDEN_id22_DROP-0.15_model_CV-558764_197.27_0.15_0.53877.pth\n",
      "CV: 0.558764\n",
      "LB: 0.53877\n",
      "modelo no pasa a la siguiente ronda\n",
      "PCA-3KHIDDEN_id16_DROP-015_model_CV-560499_173.66_0.14_0.53784.pth\n",
      "CV: 0.560499\n",
      "LB: 0.53784\n",
      "modelo no pasa a la siguiente ronda\n",
      "PCA-3KHIDDEN_id18_DROP-0.15_model_CV-556172_177.57_0.13_0.53962.pth\n",
      "CV: 0.556172\n",
      "LB: 0.53962\n",
      "modelo no pasa a la siguiente ronda\n",
      "PCA-3KHIDDEN_id21_DROP-0.15_model_CV-569379_178.92_0.15_0.53782.pth\n",
      "CV: 0.569379\n",
      "LB: 0.53782\n",
      "modelo no pasa a la siguiente ronda\n",
      "PCA-3KHIDDEN_id17_DROP-0.15_model_CV-563086_187.92_0.14_0.54998.pth\n",
      "CV: 0.563086\n",
      "LB: 0.54998\n",
      "Total models:  4\n",
      "Media CV:  0.55377\n",
      "Media LB:  0.54718\n"
     ]
    }
   ],
   "source": [
    "total_lb = 0\n",
    "total_cv = 0\n",
    "total_models = 0\n",
    "list_lb = []\n",
    "list_cv = []\n",
    "# 1. MODELOS CLASICOS\n",
    "best_models_3000 = '/kaggle/input/cafa5-best-models-3000labels/'\n",
    "# model_CV-XXXX_loss_acc_0.LB.pth\n",
    "# for model_path in os.listdir(best_models_3000):\n",
    "#     print(model_path)\n",
    "#     lb = model_path.split('_')[-1]\n",
    "#     lb = int(lb.split('.')[1])\n",
    "#     cv = int(model_path.split('_')[1].split('-')[1])\n",
    "#     # aplicamos el 0.\n",
    "#     cv = float('0.' + str(cv))\n",
    "#     lb = float('0.' + str(lb))\n",
    "#     print('CV:', cv)\n",
    "#     print('LB:', lb)\n",
    "#     if config.filtrar:\n",
    "#         bool_pasa_filtro = pasa_filtro(cv, lb)\n",
    "#         if not bool_pasa_filtro:\n",
    "#             continue\n",
    "#     total_lb += lb\n",
    "#     total_cv += cv\n",
    "#     total_models += 1\n",
    "#     list_lb.append(lb)\n",
    "#     list_cv.append(cv)\n",
    "    \n",
    "    \n",
    "# 2. MODELOS CLASICOS CON PCA 1500 \n",
    "best_models_3000_PCA = '/kaggle/input/cafa5-best-pcamodels-3000labels/'\n",
    "# PCA_idX_model_CV-XXXX_loss_acc_0.LB.pth\n",
    "# for model_path in os.listdir(best_models_3000_PCA):\n",
    "#     if model_path.endswith('.pth'):\n",
    "#         print(model_path)\n",
    "#         lb = model_path.split('_')[-1]\n",
    "#         lb = int(lb.split('.')[1])\n",
    "#         cv = int(model_path.split('_')[3].split('-')[1])\n",
    "#         # aplicamos el 0.\n",
    "#         cv = float('0.' + str(cv))\n",
    "#         lb = float('0.' + str(lb))\n",
    "#         print('CV:', cv)\n",
    "#         print('LB:', lb)\n",
    "#         if config.filtrar:\n",
    "#             bool_pasa_filtro = pasa_filtro(cv, lb)\n",
    "#             if not bool_pasa_filtro:\n",
    "#                 continue\n",
    "#         total_lb += lb\n",
    "#         total_cv += cv\n",
    "#         total_models += 1\n",
    "#         list_lb.append(lb)\n",
    "#         list_cv.append(cv)\n",
    "        \n",
    "# 3. MODELOS CLASICOS CON PCA 1500 y DROPOUT DE 0.15\n",
    "best_models_3000_PCA_dropout015 = '/kaggle/input/cafa5-best-pca1500-models-3000labels-drop-015/'\n",
    "# PCA_idX_DROP-0.15_model_CV-XXXX_loss_acc_0.LB.pth\n",
    "for model_path in os.listdir(best_models_3000_PCA_dropout015):\n",
    "    if model_path.endswith('.pth'):\n",
    "        print(model_path)\n",
    "        lb = model_path.split('_')[-1]\n",
    "        lb = int(lb.split('.')[1])\n",
    "        cv = int(model_path.split('_')[4].split('-')[1])\n",
    "        # aplicamos el 0.\n",
    "        cv = float('0.' + str(cv))\n",
    "        lb = float('0.' + str(lb))\n",
    "        print('CV:', cv)\n",
    "        print('LB:', lb)\n",
    "        if config.filtrar:\n",
    "            bool_pasa_filtro = pasa_filtro(cv, lb)\n",
    "            if not bool_pasa_filtro:\n",
    "                continue\n",
    "        total_lb += lb\n",
    "        total_cv += cv\n",
    "        total_models += 1\n",
    "        list_lb.append(lb)\n",
    "        list_cv.append(cv)\n",
    "    \n",
    "# 4. MODELOS CLASICOS CON PCA 2000 y DROPOUT DE 0.15\n",
    "best_models_3000_PCA2000_dropout015 = '/kaggle/input/cafa5-best-pca2000-models-3000labels-drop-015/'\n",
    "# PCA_idX_DROP-0.15_model_CV-XXXX_loss_acc_0.LB.pth\n",
    "for model_path in os.listdir(best_models_3000_PCA2000_dropout015):\n",
    "    if model_path.endswith('.pth'):\n",
    "        print(model_path)\n",
    "        lb = model_path.split('_')[-1]\n",
    "        lb = int(lb.split('.')[1])\n",
    "        cv = int(model_path.split('_')[4].split('-')[1])\n",
    "        # aplicamos el 0.\n",
    "        cv = float('0.' + str(cv))\n",
    "        lb = float('0.' + str(lb))\n",
    "        print('CV:', cv)\n",
    "        print('LB:', lb)\n",
    "        if config.filtrar:\n",
    "            bool_pasa_filtro = pasa_filtro(cv, lb)\n",
    "            if not bool_pasa_filtro:\n",
    "                continue\n",
    "        total_lb += lb\n",
    "        total_cv += cv\n",
    "        total_models += 1\n",
    "        list_lb.append(lb)\n",
    "        list_cv.append(cv)\n",
    "        \n",
    "# 5. MODELOS CLASICOS CON PCA 1500 y DROPOUT DE 0.15 3000 HIDDEN SIZE\n",
    "best_models_3000_PCA15003KHIDDEN_dropout015 = '/kaggle/input/cafa5-best-pca1500-3kh-models-3000labels-drop-015/'\n",
    "# PCA-3KHIDDEN_idX_DROP-0.15_model_CV-XXXX_loss_acc_0.LB.pth\n",
    "for model_path in os.listdir(best_models_3000_PCA15003KHIDDEN_dropout015):\n",
    "    if model_path.endswith('.pth'):\n",
    "        print(model_path)\n",
    "        lb = model_path.split('_')[-1]\n",
    "        lb = int(lb.split('.')[1])\n",
    "        cv = int(model_path.split('_')[4].split('-')[1])\n",
    "        # aplicamos el 0.\n",
    "        cv = float('0.' + str(cv))\n",
    "        lb = float('0.' + str(lb))\n",
    "        print('CV:', cv)\n",
    "        print('LB:', lb)\n",
    "        if config.filtrar:\n",
    "            bool_pasa_filtro = pasa_filtro(cv, lb)\n",
    "            if not bool_pasa_filtro:\n",
    "                continue\n",
    "        total_lb += lb\n",
    "        total_cv += cv\n",
    "        total_models += 1\n",
    "        list_lb.append(lb)\n",
    "        list_cv.append(cv)\n",
    "        \n",
    "# X. MODELOS CLASICOS T5\n",
    "# best_models_3000_T5 = '/kaggle/input/cafa5-best-models-t5-3000labels'\n",
    "# # T5_model_CV-XXXX_loss_acc.pth\n",
    "# for model_path in os.listdir(best_models_3000_T5):\n",
    "#     print(model_path)\n",
    "#     cv = int(model_path.split('_')[2].split('-')[1])\n",
    "#     print('CV:', cv)\n",
    "#     total_lb += cv\n",
    "#     total_cv += cv\n",
    "#     total_models += 1\n",
    "\n",
    "print('Total models: ', total_models)\n",
    "print('Media CV: ', round(total_cv / total_models, 5))\n",
    "print('Media LB: ', round(total_lb / total_models, 5))"
   ]
  },
  {
   "cell_type": "code",
   "execution_count": 14,
   "id": "32a7d8e5",
   "metadata": {
    "execution": {
     "iopub.execute_input": "2023-08-21T06:47:38.298313Z",
     "iopub.status.busy": "2023-08-21T06:47:38.297924Z",
     "iopub.status.idle": "2023-08-21T06:47:38.565031Z",
     "shell.execute_reply": "2023-08-21T06:47:38.563732Z"
    },
    "papermill": {
     "duration": 0.285063,
     "end_time": "2023-08-21T06:47:38.567445",
     "exception": false,
     "start_time": "2023-08-21T06:47:38.282382",
     "status": "completed"
    },
    "tags": []
   },
   "outputs": [
    {
     "data": {
      "image/png": "[encoded data removed]",
      "text/plain": [
       "<Figure size 640x480 with 1 Axes>"
      ]
     },
     "metadata": {},
     "output_type": "display_data"
    }
   ],
   "source": [
    "plt.plot(list_lb, 'g', list_cv, 'r')\n",
    "plt.show()"
   ]
  },
  {
   "cell_type": "code",
   "execution_count": 15,
   "id": "b66352a5",
   "metadata": {
    "execution": {
     "iopub.execute_input": "2023-08-21T06:47:38.598236Z",
     "iopub.status.busy": "2023-08-21T06:47:38.597543Z",
     "iopub.status.idle": "2023-08-21T06:47:38.602938Z",
     "shell.execute_reply": "2023-08-21T06:47:38.601764Z"
    },
    "papermill": {
     "duration": 0.023432,
     "end_time": "2023-08-21T06:47:38.605336",
     "exception": false,
     "start_time": "2023-08-21T06:47:38.581904",
     "status": "completed"
    },
    "tags": []
   },
   "outputs": [],
   "source": [
    "final_labels_shape = 3000\n",
    "count_totals = total_models"
   ]
  },
  {
   "cell_type": "code",
   "execution_count": 16,
   "id": "e9dd7b05",
   "metadata": {
    "execution": {
     "iopub.execute_input": "2023-08-21T06:47:38.636042Z",
     "iopub.status.busy": "2023-08-21T06:47:38.635655Z",
     "iopub.status.idle": "2023-08-21T06:47:38.666604Z",
     "shell.execute_reply": "2023-08-21T06:47:38.665567Z"
    },
    "papermill": {
     "duration": 0.049544,
     "end_time": "2023-08-21T06:47:38.669298",
     "exception": false,
     "start_time": "2023-08-21T06:47:38.619754",
     "status": "completed"
    },
    "tags": []
   },
   "outputs": [],
   "source": [
    "class preds_maker():\n",
    "    \n",
    "    def __init__(self, total_models, total_cv, total_lb):\n",
    "        self.final_labels_shape = 3000\n",
    "        self.count_totals = total_models\n",
    "        self.total_cv = total_cv\n",
    "        self.total_lb = total_lb\n",
    "        self.labels = pd.read_csv(config.train_labels_path, sep = \"\\t\")\n",
    "        self.top_terms = self.labels.groupby(\"term\")[\"EntryID\"].count().sort_values(ascending=False)\n",
    "        self.labels_names = self.top_terms[:self.final_labels_shape].index.values\n",
    "        print(\"GENERATE PREDICTION FOR TEST SET...\")\n",
    "\n",
    "        self.ids_ = np.empty(shape=(141865*self.final_labels_shape,), dtype=object)\n",
    "        self.go_terms_ = np.empty(shape=(141865*self.final_labels_shape,), dtype=object)\n",
    "        self.confs_ = np.zeros(shape=(141865*self.final_labels_shape,), dtype=np.float32)\n",
    "        \n",
    "    def cv_reader(self, path):\n",
    "        cv = int(path.split('_')[-4].split('-')[1])\n",
    "        cv = float('0.' + str(cv))\n",
    "        print('CV es ', cv)\n",
    "        return cv\n",
    "\n",
    "    def lb_reader(self, path):\n",
    "        lb = path.split('_')[-1]\n",
    "        lb = int(lb.split('.')[1])\n",
    "        lb = float('0.' + str(lb))\n",
    "        print('LB es ', lb)\n",
    "        return lb\n",
    "    \n",
    "    def id_reader(self, path):\n",
    "        id = path.split('_')[1].split('.')[0]\n",
    "        print(id)\n",
    "        return id\n",
    "    \n",
    "    def make_preds_for_model_dataset(self, path_dataset, is_pca = False, pca_size = 1500, has_dropout = False, dropout = 0.15, hidden_size = 1500):\n",
    "        print(path_dataset)\n",
    "        for model_path in os.listdir(path_dataset):\n",
    "            if model_path.endswith('.pth'):\n",
    "                ### STATS\n",
    "                print(model_path)\n",
    "                # CV\n",
    "                cv = self.cv_reader(model_path)\n",
    "                peso_cv = cv / self.total_cv\n",
    "                print('Peso CV: ', peso_cv)\n",
    "                # LB\n",
    "                lb = self.lb_reader(model_path)\n",
    "                peso_lb = lb / self.total_lb\n",
    "                print('Peso LB: ', peso_lb)\n",
    "                # saltamos si no cumple el filtro\n",
    "                if config.filtrar:\n",
    "                    bool_pasa_filtro = pasa_filtro(cv, lb)\n",
    "                    if not bool_pasa_filtro:\n",
    "                        continue\n",
    "                # cargamos su pca\n",
    "                if is_pca:\n",
    "                    id = self.id_reader(model_path)\n",
    "                    with open(path_dataset + 'pca_' + id + '.pkl', 'rb') as pickle_file:\n",
    "                        pca_loaded = pickle.load(pickle_file)\n",
    "\n",
    "                else:\n",
    "                    pca_loaded = None\n",
    "     \n",
    "                ### DATA PREPARATION\n",
    "                test_dataset = ProteinSequenceDataset(datatype=\"test\", embeddings_source = config.embedding_a_usar, apply_PCA = is_pca, pca = pca_loaded)\n",
    "                test_dataloader = torch.utils.data.DataLoader(test_dataset, batch_size=1, shuffle=False)\n",
    "\n",
    "                ### MODEL PREPARATION\n",
    "                if is_pca:\n",
    "                    # layers MLP\n",
    "                    input_dim = pca_size # 1500, 2000, ...\n",
    "                else:\n",
    "                    input_dim = 2560 # TODO pasar en funcion del embedding\n",
    "\n",
    "                # por error, metí un batch que no se usa\n",
    "                if model_path in IN_BATCH_WITHOUT_BATCH:\n",
    "                    has_unused_batch = True\n",
    "                else:\n",
    "                    has_unused_batch = False\n",
    "                model = MultiLayerPerceptron(input_dim, 3000, has_dropout = has_dropout, has_unused_batch = has_unused_batch, hidden_size = hidden_size)\n",
    "                model.load_state_dict(torch.load(path_dataset + model_path))\n",
    "\n",
    "                model.eval()\n",
    "\n",
    "                model_confs_ = np.empty(shape=(len(test_dataloader)*self.final_labels_shape,), dtype=np.float32)\n",
    "                self.count_totals -= 1\n",
    "\n",
    "                ### PREDICTIONS\n",
    "                for i, (embed, id) in tqdm(enumerate(test_dataloader)):\n",
    "                    embed = embed.to(config.device)\n",
    "                    model_confs_[i*self.final_labels_shape:(i+1)*self.final_labels_shape] = torch.nn.functional.sigmoid(model(embed)).squeeze().detach().cpu().numpy()[:final_labels_shape]\n",
    "                    if (config.modo == 'scoring') or (self.count_totals == 0): # solo guardo si es scoring o se ha llegado al ultimo modelo\n",
    "                        self.ids_[i*self.final_labels_shape:(i+1)*self.final_labels_shape] = id[0]\n",
    "                        self.go_terms_[i*self.final_labels_shape:(i+1)*self.final_labels_shape] = self.labels_names\n",
    "                    else:\n",
    "                        continue\n",
    "\n",
    "                ### PREDICTIONS POST-PROCESSING\n",
    "                if config.modo == 'pesosCV':\n",
    "                    self.confs_ += (model_confs_ * peso_cv)\n",
    "                elif config.modo == 'pesosLB':\n",
    "                    self.confs_ += (model_confs_ * peso_lb)\n",
    "                elif config.modo == 'media':\n",
    "                    self.confs_ += model_confs_\n",
    "                elif config.modo == 'scoring':\n",
    "                    filtered_model_confs_ = model_confs_#[model_confs_ > 0.3]\n",
    "                    for i in tqdm(range(0, len(filtered_model_confs_))):\n",
    "                        temp_id = self.ids_[i]\n",
    "                        go = self.go_terms_[i]\n",
    "                        score = filtered_model_confs_[i]\n",
    "                        if score > 0.3 and go in go_terms_dict:\n",
    "                            root = go_terms_dict[go]\n",
    "                            SCORING_MAKER.add_prediction(temp_id, go, score, root)\n",
    "\n",
    "                del test_dataset, test_dataloader, model\n",
    "                gc.collect()    "
   ]
  },
  {
   "cell_type": "code",
   "execution_count": 17,
   "id": "e14c43e1",
   "metadata": {
    "execution": {
     "iopub.execute_input": "2023-08-21T06:47:38.699507Z",
     "iopub.status.busy": "2023-08-21T06:47:38.699125Z",
     "iopub.status.idle": "2023-08-21T06:47:50.122123Z",
     "shell.execute_reply": "2023-08-21T06:47:50.120285Z"
    },
    "papermill": {
     "duration": 11.440677,
     "end_time": "2023-08-21T06:47:50.124417",
     "exception": false,
     "start_time": "2023-08-21T06:47:38.683740",
     "status": "completed"
    },
    "tags": []
   },
   "outputs": [
    {
     "name": "stdout",
     "output_type": "stream",
     "text": [
      "GENERATE PREDICTION FOR TEST SET...\n",
      "CPU times: user 5.62 s, sys: 4.85 s, total: 10.5 s\n",
      "Wall time: 11.4 s\n"
     ]
    }
   ],
   "source": [
    "%%time\n",
    "\n",
    "MAKER = preds_maker(total_models, total_cv, total_lb)"
   ]
  },
  {
   "cell_type": "markdown",
   "id": "79c1713b",
   "metadata": {
    "papermill": {
     "duration": 0.014113,
     "end_time": "2023-08-21T06:47:50.153499",
     "exception": false,
     "start_time": "2023-08-21T06:47:50.139386",
     "status": "completed"
    },
    "tags": []
   },
   "source": [
    "### 1. MODELOS CLASICOS"
   ]
  },
  {
   "cell_type": "code",
   "execution_count": 18,
   "id": "a3e8d460",
   "metadata": {
    "execution": {
     "iopub.execute_input": "2023-08-21T06:47:50.184188Z",
     "iopub.status.busy": "2023-08-21T06:47:50.183799Z",
     "iopub.status.idle": "2023-08-21T06:47:50.530761Z",
     "shell.execute_reply": "2023-08-21T06:47:50.529267Z"
    },
    "papermill": {
     "duration": 0.365677,
     "end_time": "2023-08-21T06:47:50.533584",
     "exception": false,
     "start_time": "2023-08-21T06:47:50.167907",
     "status": "completed"
    },
    "tags": []
   },
   "outputs": [
    {
     "name": "stdout",
     "output_type": "stream",
     "text": [
      "CPU times: user 339 ms, sys: 1.04 ms, total: 340 ms\n",
      "Wall time: 338 ms\n"
     ]
    },
    {
     "data": {
      "text/plain": [
       "6897"
      ]
     },
     "execution_count": 18,
     "metadata": {},
     "output_type": "execute_result"
    }
   ],
   "source": [
    "%%time\n",
    "# MAKER.make_preds_for_model_dataset(best_models_3000)\n",
    "\n",
    "gc.collect()"
   ]
  },
  {
   "cell_type": "markdown",
   "id": "b62aaf19",
   "metadata": {
    "papermill": {
     "duration": 0.014342,
     "end_time": "2023-08-21T06:47:50.563029",
     "exception": false,
     "start_time": "2023-08-21T06:47:50.548687",
     "status": "completed"
    },
    "tags": []
   },
   "source": [
    "### 2. MODELOS CLASICOS CON PCA 1500 "
   ]
  },
  {
   "cell_type": "code",
   "execution_count": 19,
   "id": "1df38bcb",
   "metadata": {
    "execution": {
     "iopub.execute_input": "2023-08-21T06:47:50.594694Z",
     "iopub.status.busy": "2023-08-21T06:47:50.594215Z",
     "iopub.status.idle": "2023-08-21T06:47:50.929099Z",
     "shell.execute_reply": "2023-08-21T06:47:50.928084Z"
    },
    "papermill": {
     "duration": 0.353277,
     "end_time": "2023-08-21T06:47:50.931298",
     "exception": false,
     "start_time": "2023-08-21T06:47:50.578021",
     "status": "completed"
    },
    "tags": []
   },
   "outputs": [
    {
     "data": {
      "text/plain": [
       "0"
      ]
     },
     "execution_count": 19,
     "metadata": {},
     "output_type": "execute_result"
    }
   ],
   "source": [
    "\n",
    "# MAKER.make_preds_for_model_dataset(best_models_3000_PCA, is_pca = True)\n",
    "\n",
    "gc.collect()"
   ]
  },
  {
   "cell_type": "markdown",
   "id": "38527dcb",
   "metadata": {
    "papermill": {
     "duration": 0.014555,
     "end_time": "2023-08-21T06:47:50.960992",
     "exception": false,
     "start_time": "2023-08-21T06:47:50.946437",
     "status": "completed"
    },
    "tags": []
   },
   "source": [
    "### 3. MODELOS CLASICOS CON PCA 1500 y DROPOUT de 0.15"
   ]
  },
  {
   "cell_type": "code",
   "execution_count": 20,
   "id": "4bce88eb",
   "metadata": {
    "execution": {
     "iopub.execute_input": "2023-08-21T06:47:50.992921Z",
     "iopub.status.busy": "2023-08-21T06:47:50.992493Z",
     "iopub.status.idle": "2023-08-21T07:24:37.448869Z",
     "shell.execute_reply": "2023-08-21T07:24:37.447463Z"
    },
    "papermill": {
     "duration": 2208.396949,
     "end_time": "2023-08-21T07:24:39.373006",
     "exception": false,
     "start_time": "2023-08-21T06:47:50.976057",
     "status": "completed"
    },
    "tags": []
   },
   "outputs": [
    {
     "name": "stdout",
     "output_type": "stream",
     "text": [
      "/kaggle/input/cafa5-best-pca1500-models-3000labels-drop-015/\n",
      "PCA_id5_DROP-0.15_model_CV-542653_183.61_0.12_0.52421.pth\n",
      "CV es  0.542653\n",
      "Peso CV:  0.24498033486705725\n",
      "LB es  0.52421\n",
      "Peso LB:  0.2395041873597931\n",
      "modelo no pasa a la siguiente ronda\n",
      "PCA_id9_DROP-0.15_model_CV-543757_181.42_0.13_0.53389.pth\n",
      "CV es  0.543757\n",
      "Peso CV:  0.2454787349306213\n",
      "LB es  0.53389\n",
      "Peso LB:  0.24392684342061377\n",
      "modelo no pasa a la siguiente ronda\n",
      "PCA_id4_DROP-0.15_model_CV-537197_186.06_0.12_0.53862.pth\n",
      "CV es  0.537197\n",
      "Peso CV:  0.24251722730654499\n",
      "LB es  0.53862\n",
      "Peso LB:  0.2460879139957875\n",
      "modelo no pasa a la siguiente ronda\n",
      "PCA_id7_DROP-0.15_model_CV-532444_184.26_0.12_0.52821.pth\n",
      "CV es  0.532444\n",
      "Peso CV:  0.24037148862708846\n",
      "LB es  0.52821\n",
      "Peso LB:  0.2413317311865785\n",
      "modelo no pasa a la siguiente ronda\n",
      "PCA_id10_DROP-0.15_model_CV-537342_192.19_0.11_0.53984.pth\n",
      "CV es  0.537342\n",
      "Peso CV:  0.24258268745982103\n",
      "LB es  0.53984\n",
      "Peso LB:  0.24664531486295704\n",
      "modelo no pasa a la siguiente ronda\n",
      "PCA_id6_DROP-0.15_model_CV-537538_194.95_0.12_0.52874.pth\n",
      "CV es  0.537538\n",
      "Peso CV:  0.24267117152907697\n",
      "LB es  0.52874\n",
      "Peso LB:  0.24157388074362757\n",
      "modelo no pasa a la siguiente ronda\n",
      "PCA_id14_DROP-0.15_model_CV-536126_191.66_0.11_0.54227.pth\n",
      "CV es  0.536126\n",
      "Peso CV:  0.24203372507096785\n",
      "LB es  0.54227\n",
      "Peso LB:  0.2477555477377292\n",
      "id14\n"
     ]
    },
    {
     "name": "stderr",
     "output_type": "stream",
     "text": [
      "141865it [04:09, 567.83it/s]\n",
      "100%|██████████| 425595000/425595000 [31:32<00:00, 224937.50it/s]\n"
     ]
    },
    {
     "data": {
      "text/plain": [
       "0"
      ]
     },
     "execution_count": 20,
     "metadata": {},
     "output_type": "execute_result"
    }
   ],
   "source": [
    "MAKER.make_preds_for_model_dataset(best_models_3000_PCA_dropout015, is_pca = True, has_dropout = True)\n",
    "\n",
    "gc.collect()"
   ]
  },
  {
   "cell_type": "markdown",
   "id": "b7493139",
   "metadata": {
    "papermill": {
     "duration": 1.97991,
     "end_time": "2023-08-21T07:24:43.348505",
     "exception": false,
     "start_time": "2023-08-21T07:24:41.368595",
     "status": "completed"
    },
    "tags": []
   },
   "source": [
    "### 4. MODELOS CLASICOS CON PCA 2000 y DROPOUT de 0.15"
   ]
  },
  {
   "cell_type": "code",
   "execution_count": 21,
   "id": "54478e5f",
   "metadata": {
    "execution": {
     "iopub.execute_input": "2023-08-21T07:24:47.349957Z",
     "iopub.status.busy": "2023-08-21T07:24:47.349510Z",
     "iopub.status.idle": "2023-08-21T07:24:47.775233Z",
     "shell.execute_reply": "2023-08-21T07:24:47.774347Z"
    },
    "papermill": {
     "duration": 2.447286,
     "end_time": "2023-08-21T07:24:47.777466",
     "exception": false,
     "start_time": "2023-08-21T07:24:45.330180",
     "status": "completed"
    },
    "tags": []
   },
   "outputs": [
    {
     "name": "stdout",
     "output_type": "stream",
     "text": [
      "/kaggle/input/cafa5-best-pca2000-models-3000labels-drop-015/\n",
      "PCA-2000_id13_DROP-0.15_model_CV-543674_186.74_0.13_0.53530.pth\n",
      "CV es  0.543674\n",
      "Peso CV:  0.2454412646359874\n",
      "LB es  0.5353\n",
      "Peso LB:  0.2445710526195556\n",
      "modelo no pasa a la siguiente ronda\n",
      "PCA-2000_id12_DROP-0.15_model_CV-531431_176.58_0.12_0.53830.pth\n",
      "CV es  0.531431\n",
      "Peso CV:  0.23991417045282176\n",
      "LB es  0.5383\n",
      "Peso LB:  0.24594171048964467\n",
      "modelo no pasa a la siguiente ronda\n",
      "PCA-2000_id11_DROP-0.15_model_CV-538899_187.91_0.12_0.53013.pth\n",
      "CV es  0.538899\n",
      "Peso CV:  0.24328559407120623\n",
      "LB es  0.53013\n",
      "Peso LB:  0.2422089522234355\n",
      "modelo no pasa a la siguiente ronda\n"
     ]
    },
    {
     "data": {
      "text/plain": [
       "0"
      ]
     },
     "execution_count": 21,
     "metadata": {},
     "output_type": "execute_result"
    }
   ],
   "source": [
    "MAKER.make_preds_for_model_dataset(best_models_3000_PCA2000_dropout015, is_pca = True, pca_size = 2000, has_dropout = True)\n",
    "\n",
    "gc.collect()"
   ]
  },
  {
   "cell_type": "markdown",
   "id": "9b15ff0c",
   "metadata": {
    "papermill": {
     "duration": 1.983023,
     "end_time": "2023-08-21T07:24:51.680393",
     "exception": false,
     "start_time": "2023-08-21T07:24:49.697370",
     "status": "completed"
    },
    "tags": []
   },
   "source": [
    "### 5. MODELOS CLASICOS CON PCA 1500 y DROPOUT de 0.15 y 3000 de HIDDEN SIZE"
   ]
  },
  {
   "cell_type": "code",
   "execution_count": 22,
   "id": "8f4037ec",
   "metadata": {
    "execution": {
     "iopub.execute_input": "2023-08-21T07:24:55.716855Z",
     "iopub.status.busy": "2023-08-21T07:24:55.716405Z",
     "iopub.status.idle": "2023-08-21T09:24:32.871448Z",
     "shell.execute_reply": "2023-08-21T09:24:32.870007Z"
    },
    "papermill": {
     "duration": 7179.212095,
     "end_time": "2023-08-21T09:24:32.874272",
     "exception": false,
     "start_time": "2023-08-21T07:24:53.662177",
     "status": "completed"
    },
    "tags": []
   },
   "outputs": [
    {
     "name": "stdout",
     "output_type": "stream",
     "text": [
      "/kaggle/input/cafa5-best-pca1500-3kh-models-3000labels-drop-015/\n",
      "PCA-3KHIDDEN_id19_DROP-0.15_model_CV-556272_173.86_0.13_0.53556.pth\n",
      "CV es  0.556272\n",
      "Peso CV:  0.2511286233323462\n",
      "LB es  0.53556\n",
      "Peso LB:  0.24468984296829668\n",
      "modelo no pasa a la siguiente ronda\n",
      "PCA-3KHIDDEN_id20_DROP-0.15_model_CV-563719_194.55_0.16_0.54341.pth\n",
      "CV es  0.563719\n",
      "Peso CV:  0.25449056651473895\n",
      "LB es  0.54341\n",
      "Peso LB:  0.248276397728363\n",
      "id20\n"
     ]
    },
    {
     "name": "stderr",
     "output_type": "stream",
     "text": [
      "141865it [07:43, 306.21it/s]\n",
      "100%|██████████| 425595000/425595000 [31:08<00:00, 227783.22it/s]\n"
     ]
    },
    {
     "name": "stdout",
     "output_type": "stream",
     "text": [
      "PCA-3KHIDDEN_id15_DROP-0.15_model_CV-552157_189.84_0.13_0.55307.pth\n",
      "CV es  0.552157\n",
      "Peso CV:  0.24927090932730442\n",
      "LB es  0.55307\n",
      "Peso LB:  0.2526899160700497\n",
      "id15\n"
     ]
    },
    {
     "name": "stderr",
     "output_type": "stream",
     "text": [
      "141865it [07:55, 298.11it/s]\n",
      "100%|██████████| 425595000/425595000 [31:44<00:00, 223422.78it/s]\n"
     ]
    },
    {
     "name": "stdout",
     "output_type": "stream",
     "text": [
      "PCA-3KHIDDEN_id22_DROP-0.15_model_CV-558764_197.27_0.15_0.53877.pth\n",
      "CV es  0.558764\n",
      "Peso CV:  0.25225363507002885\n",
      "LB es  0.53877\n",
      "Peso LB:  0.24615644688929195\n",
      "modelo no pasa a la siguiente ronda\n",
      "PCA-3KHIDDEN_id16_DROP-015_model_CV-560499_173.66_0.14_0.53784.pth\n",
      "CV es  0.560499\n",
      "Peso CV:  0.25303689966267706\n",
      "LB es  0.53784\n",
      "Peso LB:  0.24573154294956434\n",
      "modelo no pasa a la siguiente ronda\n",
      "PCA-3KHIDDEN_id18_DROP-0.15_model_CV-556172_177.57_0.13_0.53962.pth\n",
      "CV es  0.556172\n",
      "Peso CV:  0.2510834783990524\n",
      "LB es  0.53962\n",
      "Peso LB:  0.24654479995248385\n",
      "modelo no pasa a la siguiente ronda\n",
      "PCA-3KHIDDEN_id21_DROP-0.15_model_CV-569379_178.92_0.15_0.53782.pth\n",
      "CV es  0.569379\n",
      "Peso CV:  0.25704576973917065\n",
      "LB es  0.53782\n",
      "Peso LB:  0.2457224052304304\n",
      "modelo no pasa a la siguiente ronda\n",
      "PCA-3KHIDDEN_id17_DROP-0.15_model_CV-563086_187.92_0.14_0.54998.pth\n",
      "CV es  0.563086\n",
      "Peso CV:  0.2542047990869889\n",
      "LB es  0.54998\n",
      "Peso LB:  0.25127813846385805\n",
      "id17\n"
     ]
    },
    {
     "name": "stderr",
     "output_type": "stream",
     "text": [
      "141865it [07:54, 299.22it/s]\n",
      "100%|██████████| 425595000/425595000 [31:16<00:00, 226785.60it/s]\n"
     ]
    },
    {
     "data": {
      "text/plain": [
       "0"
      ]
     },
     "execution_count": 22,
     "metadata": {},
     "output_type": "execute_result"
    }
   ],
   "source": [
    "MAKER.make_preds_for_model_dataset(best_models_3000_PCA15003KHIDDEN_dropout015, is_pca = True, has_dropout = True, hidden_size = 3000)\n",
    "\n",
    "gc.collect()"
   ]
  },
  {
   "cell_type": "markdown",
   "id": "2c6f6bf6",
   "metadata": {
    "papermill": {
     "duration": 8.516216,
     "end_time": "2023-08-21T09:24:49.921422",
     "exception": false,
     "start_time": "2023-08-21T09:24:41.405206",
     "status": "completed"
    },
    "tags": []
   },
   "source": [
    "# CREAMOS SUBMISSION"
   ]
  },
  {
   "cell_type": "code",
   "execution_count": 23,
   "id": "35341242",
   "metadata": {
    "execution": {
     "iopub.execute_input": "2023-08-21T09:25:06.928078Z",
     "iopub.status.busy": "2023-08-21T09:25:06.927619Z",
     "iopub.status.idle": "2023-08-21T09:25:57.060434Z",
     "shell.execute_reply": "2023-08-21T09:25:57.058995Z"
    },
    "papermill": {
     "duration": 58.667869,
     "end_time": "2023-08-21T09:25:57.063494",
     "exception": false,
     "start_time": "2023-08-21T09:24:58.395625",
     "status": "completed"
    },
    "tags": []
   },
   "outputs": [],
   "source": [
    "if config.modo == 'media':\n",
    "    confs_ = (MAKER.confs_ / total_models)\n",
    "elif config.modo == 'scoring':\n",
    "    SCORING_MAKER.get_predictions()\n",
    "else:\n",
    "    confs_ = MAKER.confs_"
   ]
  },
  {
   "cell_type": "code",
   "execution_count": 24,
   "id": "57ae4e88",
   "metadata": {
    "execution": {
     "iopub.execute_input": "2023-08-21T09:26:13.971903Z",
     "iopub.status.busy": "2023-08-21T09:26:13.971255Z",
     "iopub.status.idle": "2023-08-21T09:26:13.980580Z",
     "shell.execute_reply": "2023-08-21T09:26:13.979710Z"
    },
    "papermill": {
     "duration": 8.344307,
     "end_time": "2023-08-21T09:26:13.982886",
     "exception": false,
     "start_time": "2023-08-21T09:26:05.638579",
     "status": "completed"
    },
    "tags": []
   },
   "outputs": [],
   "source": [
    "if config.modo != 'scoring':\n",
    "    submission_df = pd.DataFrame(data={\"Id\" : MAKER.ids_, \"GO term\" : MAKER.go_terms_, \"Confidence\" : confs_})\n",
    "    print(submission_df.head(50))\n",
    "    print(submission_df.shape)\n",
    "    # filtracion\n",
    "    submission_df = submission_df[submission_df.Confidence >= 0.3]\n",
    "    print(submission_df.shape)\n",
    "    print('A .tsv')\n",
    "    submission_df.to_csv('submission.tsv', sep='\\t', index=False)"
   ]
  },
  {
   "cell_type": "code",
   "execution_count": 25,
   "id": "2eeff831",
   "metadata": {
    "execution": {
     "iopub.execute_input": "2023-08-21T09:26:30.967107Z",
     "iopub.status.busy": "2023-08-21T09:26:30.966354Z",
     "iopub.status.idle": "2023-08-21T09:26:34.979653Z",
     "shell.execute_reply": "2023-08-21T09:26:34.978424Z"
    },
    "papermill": {
     "duration": 12.511416,
     "end_time": "2023-08-21T09:26:34.982526",
     "exception": false,
     "start_time": "2023-08-21T09:26:22.471110",
     "status": "completed"
    },
    "tags": []
   },
   "outputs": [
    {
     "name": "stderr",
     "output_type": "stream",
     "text": [
      "100%|██████████| 210457/210457 [00:02<00:00, 90373.71it/s]\n"
     ]
    }
   ],
   "source": [
    "apply_quick_go_sub('/kaggle/working/submission.tsv', viene_de_ensemble = True)"
   ]
  }
 ],
 "metadata": {
  "kernelspec": {
   "display_name": "Python 3",
   "language": "python",
   "name": "python3"
  },
  "language_info": {
   "codemirror_mode": {
    "name": "ipython",
    "version": 3
   },
   "file_extension": ".py",
   "mimetype": "text/x-python",
   "name": "python",
   "nbconvert_exporter": "python",
   "pygments_lexer": "ipython3",
   "version": "3.10.10"
  },
  "papermill": {
   "default_parameters": {},
   "duration": 9587.029233,
   "end_time": "2023-08-21T09:26:47.080407",
   "environment_variables": {},
   "exception": null,
   "input_path": "__notebook__.ipynb",
   "output_path": "__notebook__.ipynb",
   "parameters": {},
   "start_time": "2023-08-21T06:47:00.051174",
   "version": "2.4.0"
  }
 },
 "nbformat": 4,
 "nbformat_minor": 5
}
